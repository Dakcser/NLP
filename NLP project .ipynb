{
 "cells": [
  {
   "cell_type": "markdown",
   "metadata": {},
   "source": [
    "# NLP project\n"
   ]
  },
  {
   "cell_type": "markdown",
   "metadata": {},
   "source": [
    "Project 21: Automatic Summarization  \n",
    "\n",
    "We shall consider structured document containing a title, abstract and a set of subsections. We would like to build a text summarizer such that tracks important keywords in the document. For this purpose, the first step is identify these keywords.  "
   ]
  },
  {
   "cell_type": "code",
   "execution_count": 1,
   "metadata": {},
   "outputs": [
    {
     "name": "stdout",
     "output_type": "stream",
     "text": [
      "Note: you may need to restart the kernel to use updated packages.\n"
     ]
    },
    {
     "name": "stderr",
     "output_type": "stream",
     "text": [
      "'c:\\program' is not recognized as an internal or external command,\n",
      "operable program or batch file.\n"
     ]
    }
   ],
   "source": [
    "pip install --upgrade pip"
   ]
  },
  {
   "cell_type": "code",
   "execution_count": 2,
   "metadata": {},
   "outputs": [
    {
     "name": "stdout",
     "output_type": "stream",
     "text": [
      "Package            Version\n",
      "------------------ ---------\n",
      "aiohttp            3.6.2\n",
      "astroid            2.3.3\n",
      "async-timeout      3.0.1\n",
      "atomicwrites       1.3.0\n",
      "attrs              19.3.0\n",
      "autopep8           1.5\n",
      "backcall           0.1.0\n",
      "beautifulsoup4     4.8.2\n",
      "bleach             3.1.3\n",
      "blis               0.7.4\n",
      "catalogue          2.0.6\n",
      "certifi            2019.6.16\n",
      "cffi               1.14.0\n",
      "chardet            3.0.4\n",
      "click              8.0.1\n",
      "colorama           0.4.1\n",
      "coverage           5.0.3\n",
      "cycler             0.10.0\n",
      "cymem              2.0.5\n",
      "decorator          4.4.2\n",
      "defusedxml         0.6.0\n",
      "discord.py         1.5.1\n",
      "en-core-web-sm     3.1.0\n",
      "entrypoints        0.3\n",
      "ffmpeg             1.4\n",
      "ffmpeg-python      0.2.0\n",
      "flake8             3.7.9\n",
      "flake8-polyfill    1.0.2\n",
      "future             0.17.1\n",
      "graphviz           0.13.2\n",
      "idna               2.8\n",
      "importlib-metadata 1.5.0\n",
      "ipykernel          5.2.0\n",
      "ipython            7.13.0\n",
      "ipython-genutils   0.2.0\n",
      "ipywidgets         7.5.1\n",
      "isort              4.3.21\n",
      "jedi               0.16.0\n",
      "jellyfish          0.8.8\n",
      "Jinja2             2.11.1\n",
      "joblib             1.1.0\n",
      "jsonschema         3.2.0\n",
      "jupyter            1.0.0\n",
      "jupyter-client     6.1.0\n",
      "jupyter-console    6.1.0\n",
      "jupyter-core       4.6.3\n",
      "kiwisolver         1.3.1\n",
      "lazy-object-proxy  1.4.3\n",
      "lxml               4.6.3\n",
      "mando              0.6.4\n",
      "MarkupSafe         1.1.1\n",
      "matplotlib         3.4.1\n",
      "mccabe             0.6.1\n",
      "mistune            0.8.4\n",
      "more-itertools     8.2.0\n",
      "multidict          4.7.5\n",
      "murmurhash         1.0.5\n",
      "nbconvert          5.6.1\n",
      "nbformat           5.0.4\n",
      "networkx           2.5.1\n",
      "nltk               3.6.3\n",
      "nose               1.3.7\n",
      "notebook           6.0.3\n",
      "numpy              1.19.5\n",
      "packaging          20.1\n",
      "pandas             1.1.5\n",
      "pandocfilters      1.4.2\n",
      "parso              0.6.2\n",
      "pathy              0.6.0\n",
      "pep8               1.7.1\n",
      "pickleshare        0.7.5\n",
      "Pillow             8.2.0\n",
      "pip                21.2.4\n",
      "pluggy             0.13.1\n",
      "preshed            3.0.5\n",
      "prometheus-client  0.7.1\n",
      "prompt-toolkit     3.0.4\n",
      "py                 1.8.1\n",
      "pyasn1             0.4.8\n",
      "pycodestyle        2.5.0\n",
      "pycparser          2.20\n",
      "pydantic           1.8.2\n",
      "pyflakes           2.1.1\n",
      "pygame             1.9.6\n",
      "pyglet             1.4.4\n",
      "Pygments           2.6.1\n",
      "pylint             2.4.4\n",
      "PyNaCl             1.3.0\n",
      "pyparsing          2.4.6\n",
      "pyrsistent         0.15.7\n",
      "PySimpleGUI        4.0.0\n",
      "PySocks            1.7.0\n",
      "pytest             5.3.5\n",
      "pytest-cov         2.8.1\n",
      "python-dateutil    2.8.1\n",
      "python-dotenv      0.12.0\n",
      "pytz               2021.1\n",
      "pywin32            227\n",
      "pywinpty           0.5.7\n",
      "pyzmq              19.0.0\n",
      "qtconsole          4.7.1\n",
      "QtPy               1.9.0\n",
      "radon              4.1.0\n",
      "regex              2021.9.30\n",
      "requests           2.22.0\n",
      "rsa                4.0\n",
      "scipy              1.6.3\n",
      "segtok             1.5.10\n",
      "Send2Trash         1.5.0\n",
      "setuptools         39.0.1\n",
      "six                1.14.0\n",
      "smart-open         5.2.1\n",
      "soupsieve          2.0\n",
      "spacy              3.1.3\n",
      "spacy-legacy       3.0.8\n",
      "srsly              2.4.1\n",
      "steampy            0.60\n",
      "tabulate           0.8.9\n",
      "terminado          0.8.3\n",
      "testpath           0.4.4\n",
      "thinc              8.0.10\n",
      "tornado            6.0.4\n",
      "tqdm               4.62.3\n",
      "traitlets          4.3.3\n",
      "typed-ast          1.4.1\n",
      "typer              0.4.0\n",
      "typing-extensions  3.10.0.2\n",
      "urllib3            1.25.3\n",
      "virtualenv         16.7.9\n",
      "wasabi             0.8.2\n",
      "wcwidth            0.1.8\n",
      "webencodings       0.5.1\n",
      "websockets         8.1\n",
      "widgetsnbextension 3.5.1\n",
      "wrapt              1.11.2\n",
      "yake               0.4.8\n",
      "yarl               1.4.2\n",
      "zipp               2.1.0\n"
     ]
    }
   ],
   "source": [
    "!pip list\n",
    "#tarkista löytyykö: lxml, html5lib, requests"
   ]
  },
  {
   "cell_type": "code",
   "execution_count": 3,
   "metadata": {},
   "outputs": [
    {
     "name": "stderr",
     "output_type": "stream",
     "text": [
      "[nltk_data] Downloading package stopwords to\n",
      "[nltk_data]     C:\\Users\\Lassi\\AppData\\Roaming\\nltk_data...\n",
      "[nltk_data]   Package stopwords is already up-to-date!\n"
     ]
    },
    {
     "data": {
      "text/plain": [
       "True"
      ]
     },
     "execution_count": 3,
     "metadata": {},
     "output_type": "execute_result"
    }
   ],
   "source": [
    "#jos nltk ei löydy asenna -> ! pip install nltk\n",
    "import nltk\n",
    "nltk.download(\"stopwords\")\n",
    "#from nltk.cluster.util import cosine_distance"
   ]
  },
  {
   "cell_type": "markdown",
   "metadata": {},
   "source": [
    "## TASK 1\n",
    "Assume the initial input is given as html document (choose an example of your own), we hypothesize that important keywords are initially contained in the words of titles, abstract and possibly titles of subsections of the document. Suggest a simple python script that inputs an html document and outputs the lists of words in the title, abstract and title of section/subsections."
   ]
  },
  {
   "cell_type": "code",
   "execution_count": 4,
   "metadata": {
    "scrolled": true
   },
   "outputs": [
    {
     "name": "stdout",
     "output_type": "stream",
     "text": [
      ">Title:\n",
      "\"Saattaa olla hiutaleita\" – tältä näyttää syyslomaviikkojen sää \n",
      "\n",
      ">Subheadlines:\n",
      "Viikko 41\n",
      "Viikko 42\n",
      "Viikko 43\n",
      "Sateiden joukossa hiutaleita\n",
      "\n",
      ">Bullet points:\n",
      "Koulujen syyslomia vietetään eri puolilla Suomea viikoilla 41, 42, 43.Sää viilenee kovaa vauhtia.Tilastojen mukaan kuun loppupuolella voidaan saada jo ehjä väliaikainen lumipeite ainakin Lapissa.\n",
      "\n",
      "\n",
      ">Article:\n",
      "Koulujen syyslomaviikkoja vietetään taas seuraavien kolmen viikon ajan ympäri Suomea. Viikolla 41 pääsevät lomailemaan turkulaiset, minkä jälkeen muualla puolen Suomea koululaiset lomailevat porrastetusti viikoilla 42 ja 43.\n",
      "Sää jokaiselle kolmelle viikolle näyttää hyvin perinteiseltä syyssäältä, hieman sateita, tuulta ja viileämpiä lämpötiloja.\n",
      "Jos haluat jatkossa seurata tarkemmin sään kehittymistä ja ennusteita, lataa älypuhelimeesi Iltalehden Paras Sää -sovellus.\n",
      "Koko viikko on oikeastaan melko pilvinen ja sateinen, kertoo Forecan meteorologi Joanna Rinne.\n",
      "Lämpötila on suurimmassa osassa maata 8–10 astetta viikon aikana, paitsi Lapissa, jossa lämpötila laskee jo lähelle viittä astetta.\n",
      "– Sää on pääosin samanalaista kun tällä kuluvalla viikolla, mutta hieman viileämpää. Yölämpötilat voivat käväistä jo pakkasen puolella, Rinne kertoo.\n",
      "Hajanaisia sateita saadaan pitkin Suomea koko viikon ajan. Sateet tulevat pääosin vetenä.\n",
      "– Aurinkokin pääsee sateiden väissä näyttäytymään, Rinne sanoo.\n",
      "Tämän viikon kohdalla ennusteissa siirrytään jo kuukausiennusteen havaintoihin. Ennusteessa ei näy suuria muutoksia suuntaan tai toiseen, Rinne toteaa.\n",
      "Viikolla 42 syyslomia vietetään eri puolilla maata, esimerkiksi pääkaupunkiseudulla sekä Rovaniemellä.\n",
      "– Lämpötilojen puolesta ollaan lähellä keskiarvoa, mutta viikko näyttää olevan hieman sateisempi kuin keskimääräisesti, Rinne toteaa.\n",
      "– Hyvin normaalia syyssäätä.\n",
      "Lokakuussa Suomen sää viilentyy kuukauden edetessä tasaisesti.\n",
      "– Lämpötilat ovat lähellä keskimääräistä lämpötilaa, ehkä pikkaisen viileämpää ja hieman sateisempaa kuin vuodenaikaan keskimäärin, Rinne kertoo.\n",
      "Lokakuun alkupuolella lämpötilat ovat etelässä keskimäärin noin 10 asteen tienoilla, kuun puolessavälissä 8–10 asteen paikkeilla ja kuun lopussa 4–8 asteen paikkeilla.\n",
      "Maan keskivaiheilla, Oulun eteläpuolella, taas lokakuun puolessavälissä lämpötila on keskimäärin jo 4–8 asteen tienoilla ja kuun lopussa keskimäärin 0–4 asteessa.\n",
      "Lämpötila viilenee entisestään Lapin keskimääräisiin lämpötiloihin mentäessä.\n",
      "– Lokakuun puolivälissä Lapissa lämpötila on 0–4 astetta päivällä ja kuun lopulla nollan ja miinus kahden välillä. Lämpötilat kyllä viittaavat siihen, että lumisateiden todennäköisyys koko ajan lisääntyy, Rinne toteaa.\n",
      "Tilastojen valossa näyttää siltä, että pysyvää luntakin voi jo lokakuun viimeisellä viikolla Pohjois-Lapissa olla.\n",
      "Kuun loppupuolella voi jo maan keskivaiheilla tulla ajoittain lumisateita.\n",
      "– Sateiden joukossa saattaa olla hiutaleita, Rinne kertoo.\n",
      "Mahdollinen lumi ei kuitenkaan tässä vaiheessa vuotta vielä maahan jää.\n",
      "Tilastollisesti pysyvän lumipeite saattaa tulla Pohjois-Lappiin jo lokakuun viimeisellä viikolla.\n",
      "– Ensimmäinen ehjä lumipeite, eli sellainen joka pysyy jonkin aikaa mutta ei hirveän pitkään, se tulee Pohjois-Lapissa jo lokakuun puolivälissä tilastollisesti. Etelä- ja Keski-Lapissa sekä Pohjois-Pohjanmaalla, Kainuussa ja osassa Pohjois-Karjalaa tilastollisesti 17.10–20.10.\n",
      "Rinne kuitenkin huomauttaa, että päiväkohtaisia ennusteita ei ole tällä hetkellä vielä kuun puoleenväliin, joten on vielä vaikea ennustaa lumitilannetta.\n",
      "– Kyllä kuukausiennuste kuitenkin puhuisi sen puolesta, että osassa Suomea olisi jo lunta syyslomien aikana, erityisesti nyt toisen ja kolmannen syyslomaviikon aikana.\n"
     ]
    }
   ],
   "source": [
    "from bs4 import BeautifulSoup\n",
    "import requests\n",
    "\n",
    "#Collect title, subtitles and abstract from html file\n",
    "\n",
    "url = \"https://www.iltalehti.fi/saauutiset/a/7095598c-3893-43ee-99fd-9b9cca404757\" \n",
    "\n",
    "source = requests.get(url).text\n",
    "soup = BeautifulSoup(source, 'lxml')\n",
    "#jos saat errorin -> FeatureNotFound, pakko päivitä lxml käskyllä -> pip install lxml --upgrade\n",
    "\n",
    "article = soup.find('article')\n",
    "#print(article.prettify())\n",
    "\n",
    "\n",
    "headline = article.find('div', class_=\"article-content\").h1.text\n",
    "\n",
    "print('>Title:\\n{0} \\n'.format(headline))\n",
    "\n",
    "subheadlines = article.find_all(\"h3\", {'class':'subheadline'})\n",
    "print('>Subheadlines:')\n",
    "for subheadline in subheadlines:\n",
    "    print(subheadline.text)\n",
    "    \n",
    "summary = article.find_all(\"div\", {'class':'article-bullets'})\n",
    "print('\\n>Bullet points:')\n",
    "for bullet in summary:\n",
    "    print(\"{}\\n\".format(bullet.text))\n",
    "    \n",
    "text = article.find_all('p', {'class':'paragraph'})\n",
    "print('\\n>Article:')\n",
    "for line in text:\n",
    "    print(line.text)\n",
    "\n"
   ]
  },
  {
   "cell_type": "code",
   "execution_count": 5,
   "metadata": {},
   "outputs": [
    {
     "name": "stdout",
     "output_type": "stream",
     "text": [
      "\"Saattaa olla hiutaleita\" – tältä näyttää syyslomaviikkojen sää Koulujen syyslomia vietetään eri puolilla Suomea viikoilla 41, 42, 43.Sää viilenee kovaa vauhtia.Tilastojen mukaan kuun loppupuolella voidaan saada jo ehjä väliaikainen lumipeite ainakin Lapissa. \n"
     ]
    }
   ],
   "source": [
    "text = headline + \" \"\n",
    "for i in subheadline:\n",
    "    text + i + \" \"\n",
    "    \n",
    "text = text + bullet.text + \" \"\n",
    "\n",
    "print(text)"
   ]
  },
  {
   "cell_type": "code",
   "execution_count": 6,
   "metadata": {},
   "outputs": [],
   "source": [
    "import yake"
   ]
  },
  {
   "cell_type": "code",
   "execution_count": 7,
   "metadata": {},
   "outputs": [
    {
     "name": "stdout",
     "output_type": "stream",
     "text": [
      "('Suomea viikoilla', 0.023458380875189744)\n",
      "('sää Koulujen', 0.04498862876540802)\n",
      "('Koulujen syyslomia', 0.04498862876540802)\n",
      "('puolilla Suomea', 0.04498862876540802)\n",
      "('tältä näyttää', 0.04940384002065631)\n",
      "('viilenee kovaa', 0.04940384002065631)\n",
      "('Saattaa', 0.08596317751626563)\n",
      "('Lapissa', 0.08596317751626563)\n",
      "('näyttää syyslomaviikkojen', 0.09700399286574239)\n",
      "('syyslomaviikkojen sää', 0.09700399286574239)\n",
      "('syyslomia vietetään', 0.09700399286574239)\n",
      "('kovaa vauhtia.Tilastojen', 0.09700399286574239)\n",
      "('kuun loppupuolella', 0.09700399286574239)\n",
      "('ehjä väliaikainen', 0.09700399286574239)\n",
      "('väliaikainen lumipeite', 0.09700399286574239)\n",
      "('Koulujen', 0.1447773057422032)\n",
      "('Suomea', 0.1447773057422032)\n",
      "('hiutaleita', 0.15831692877998726)\n",
      "('tältä', 0.15831692877998726)\n",
      "('viikoilla', 0.15831692877998726)\n",
      "('viilenee', 0.15831692877998726)\n",
      "('näyttää', 0.29736558256021506)\n",
      "('syyslomaviikkojen', 0.29736558256021506)\n",
      "('sää', 0.29736558256021506)\n",
      "('syyslomia', 0.29736558256021506)\n",
      "('vietetään', 0.29736558256021506)\n",
      "('puolilla', 0.29736558256021506)\n",
      "('kovaa', 0.29736558256021506)\n",
      "('vauhtia.Tilastojen', 0.29736558256021506)\n",
      "('kuun', 0.29736558256021506)\n",
      "('loppupuolella', 0.29736558256021506)\n",
      "('saada', 0.29736558256021506)\n",
      "('ehjä', 0.29736558256021506)\n",
      "('väliaikainen', 0.29736558256021506)\n",
      "('lumipeite', 0.29736558256021506)\n"
     ]
    }
   ],
   "source": [
    "#Keyword search and analysis\n",
    "\n",
    "w_extractor = yake.KeywordExtractor()\n",
    "\n",
    "language = \"fi\"\n",
    "max_ngram_size = 2\n",
    "deduplication_threshold = 0.9\n",
    "numOfKeywords = 50 #alunperin 10\n",
    "\n",
    "custom_kw_extractor = yake.KeywordExtractor(lan=language, n=max_ngram_size, dedupLim=deduplication_threshold, top=numOfKeywords, features=None)\n",
    "keywords = custom_kw_extractor.extract_keywords(text)\n",
    "\n",
    "for kw in keywords:\n",
    "    print(kw)\n"
   ]
  },
  {
   "cell_type": "markdown",
   "metadata": {},
   "source": [
    "## TASK 2\n",
    "Write down a simple python script that allows you to output the histogram of word frequency in the document, excluding the stopwords (see examples in online NLTK book). Use SpaCy named-entity tagger to identify person-named entities and organization-named entities in the document."
   ]
  },
  {
   "cell_type": "code",
   "execution_count": 15,
   "metadata": {},
   "outputs": [
    {
     "data": {
      "image/png": "[encoded data removed]",
      "text/plain": [
       "<Figure size 1296x360 with 1 Axes>"
      ]
     },
     "metadata": {
      "needs_background": "light"
     },
     "output_type": "display_data"
    }
   ],
   "source": [
    "#from collections import Counter\n",
    "from nltk.corpus import stopwords\n",
    "import matplotlib.pyplot as plt\n",
    "import numpy as np\n",
    "\n",
    "#Calculate the word frequencies and plot the histogram\n",
    "\n",
    "#Purkkapallolla koko artikkeli -> string\n",
    "article_readable = headline\n",
    "\n",
    "article_readable += (article.find('div', class_=\"article-content\").h1.text) + \" \"\n",
    "\n",
    "subheadlines = article.find_all(\"h3\", {'class':'subheadline'})\n",
    "for subheadline in subheadlines:\n",
    "    article_readable += subheadline.text\n",
    "\n",
    "article_readable += article_readable + \" \"\n",
    "    \n",
    "summary = article.find_all(\"div\", {'class':'article-bullets'})\n",
    "for bullet in summary:\n",
    "    article_readable += \"{}\\n\".format(bullet.text)\n",
    "    \n",
    "text = article.find_all('p', {'class':'paragraph'})\n",
    "for line in text:\n",
    "    article_readable += line.text\n",
    "    \n",
    "#print(article_readable)\n",
    "#Purkkapallo suoritettu\n",
    "\n",
    "stopwords = stopwords.words(\"finnish\")\n",
    "#print(stopwords)\n",
    "\n",
    "#Remove stopwords from the keywords list\n",
    "keywords_only, keywords_nums = zip(*keywords) \n",
    "keywords_no_sw =  [word for word in keywords_only if not word in stopwords]\n",
    "keywords_counts = []\n",
    "\n",
    "for kw in keywords_no_sw:\n",
    "    kw_count = article_readable.count(kw)\n",
    "    keywords_counts.append(kw_count)\n",
    "\n",
    "#print(keywords_no_sw)\n",
    "#print(keywords_counts)\n",
    "    \n",
    "#Plotting the histogram\n",
    "fig, ax = plt.subplots(figsize=(18,5))\n",
    "plt.bar(np.arange(len(keywords_no_sw)), keywords_counts, align='center')\n",
    "plt.ylabel('Keyword count')\n",
    "plt.xlabel('Keyword id')\n",
    "plt.show()"
   ]
  },
  {
   "cell_type": "code",
   "execution_count": 10,
   "metadata": {},
   "outputs": [
    {
     "name": "stdout",
     "output_type": "stream",
     "text": [
      "Koulujen - GPE\n",
      "41 - CARDINAL\n",
      "42 - DATE\n",
      "43.Sää - CARDINAL\n",
      "kuun loppupuolella voidaan saada jo - PERSON\n",
      "Lapissa - PERSON\n",
      "Koulujen - GPE\n",
      "viikon ajan - PERSON\n",
      "Suomea - ORG\n",
      "minkä jälkeen muualla - PERSON\n",
      "42 - CARDINAL\n",
      "jokaiselle - GPE\n",
      "kolmelle viikolle - PERSON\n",
      "hieman sateita - PERSON\n",
      "kehittymistä ja ennusteita - ORG\n",
      "Koko - PERSON\n",
      "melko pilvinen ja sateinen - PERSON\n",
      "kertoo Forecan - PERSON\n",
      "Joanna Rinne - PERSON\n",
      "viikon aikana - PERSON\n",
      "Lapissa - PERSON\n",
      "jo lähelle viittä - ORG\n",
      "kun - CARDINAL\n",
      "tällä kuluvalla viikolla - ORG\n",
      "Yölämpötilat - GPE\n",
      "jo pakkasen puolella - PERSON\n",
      "Rinne kertoo - PERSON\n",
      "Hajanaisia - GPE\n",
      "viikon ajan - PERSON\n",
      "Rinne - PERSON\n",
      "viikon kohdalla ennusteissa siirrytään - PERSON\n",
      "Rinne - PERSON\n",
      "Viikolla 42 - ORG\n",
      "vietetään eri puolilla maata - ORG\n",
      "esimerkiksi pääkaupunkiseudulla - GPE\n",
      "Rovaniemellä - PERSON\n",
      "lähellä keskiarvoa - ORG\n",
      "kuin keskimääräisesti - PERSON\n",
      "Rinne - PERSON\n",
      "Hyvin - PERSON\n",
      "Lokakuussa Suomen sää - PERSON\n",
      "lähellä - ORG\n",
      "ehkä pikkaisen - ORG\n",
      "sateisempaa kuin vuodenaikaan keskimäärin - PERSON\n",
      "Rinne kertoo - PERSON\n",
      "10 - CARDINAL\n",
      "kuun - PERSON\n",
      "8–10 - CARDINAL\n",
      "ja kuun - PERSON\n",
      "4–8 - DATE\n",
      "Maan keskivaiheilla - PERSON\n",
      "Oulun - NORP\n",
      "ja kuun lopussa keskimäärin - PERSON\n",
      "Lapin - PERSON\n",
      "Lapissa - PERSON\n",
      "0–4 - CARDINAL\n",
      "ja kuun - PERSON\n",
      "nollan ja - PERSON\n",
      "koko ajan lisääntyy - PERSON\n",
      "Rinne - PERSON\n",
      "Kuun - PERSON\n",
      "jo maan keskivaiheilla tulla ajoittain lumisateita - ORG\n",
      "Rinne kertoo - PERSON\n",
      "Mahdollinen - PERSON\n",
      "vielä maahan jää - PERSON\n",
      "Pohjois-Lappiin - WORK_OF_ART\n",
      "eli sellainen - ORG\n",
      "jonkin aikaa - PERSON\n",
      "ja Keski-Lapissa - PERSON\n",
      "Pohjois-Pohjanmaalla - ORG\n",
      "Kainuussa ja - PERSON\n",
      "Pohjois-Karjalaa - PERSON\n",
      "vielä kuun - PERSON\n",
      "vaikea - ORG\n",
      "Kyllä - ORG\n",
      "Suomea - ORG\n",
      "ja - NORP\n"
     ]
    }
   ],
   "source": [
    "#Use SpaCy to identify person-named entities and organization-named entities\n",
    "import spacy\n",
    "from spacy import displacy\n",
    "from collections import Counter\n",
    "import en_core_web_sm\n",
    "\n",
    "#vinkkiä https://towardsdatascience.com/named-entity-recognition-with-nltk-and-spacy-8c4a7d88e7da\n",
    "\n",
    "#Identifying person and organization-named entities\n",
    "nlp = en_core_web_sm.load()\n",
    "doc = nlp(article_readable)\n",
    "\n",
    "for X in doc.ents:\n",
    "    print(\"{} - {}\".format(X.text, X.label_))\n"
   ]
  },
  {
   "cell_type": "markdown",
   "metadata": {},
   "source": [
    "## TASK 3\n",
    "We would like the summarizer contains at least the ten most frequent word and many named-entities. For this purpose, use the following heuristic to construct the summarizer. i) Identify the first sentence in the document that contains the highest frequent word. If such sentence is located in the title or abstract of the document, then extract this sentence to be included in the summarizer. Otherwise, we extract the first sentence in the document that contains both this highest frequent word and named-entity. If there is no sentence that contains this highest frequent word and named-entity (person or organization), then extract the first sentence that contains this highest frequent word. Repeat this process for each of the remaining top ten frequent word in the document. Finally, output the underlined sentences while respecting the order in which the sentences appear in the document."
   ]
  },
  {
   "cell_type": "code",
   "execution_count": null,
   "metadata": {},
   "outputs": [],
   "source": []
  },
  {
   "cell_type": "markdown",
   "metadata": {},
   "source": [
    "## TASK 4\n",
    "We would like the choice of keywords not based on histogram frequency but using the open source RAKE https://www.airpair.com/nlp/keyword-extraction-tutorial. Repeat the previous process of selecting the sentences that are associated to the ten first keywords generated by RAKE. Comment on the quality of this summarizer based on your observation"
   ]
  },
  {
   "cell_type": "code",
   "execution_count": null,
   "metadata": {},
   "outputs": [],
   "source": []
  }
 ],
 "metadata": {
  "kernelspec": {
   "display_name": "Python 3",
   "language": "python",
   "name": "python3"
  },
  "language_info": {
   "codemirror_mode": {
    "name": "ipython",
    "version": 3
   },
   "file_extension": ".py",
   "mimetype": "text/x-python",
   "name": "python",
   "nbconvert_exporter": "python",
   "pygments_lexer": "ipython3",
   "version": "3.7.0"
  }
 },
 "nbformat": 4,
 "nbformat_minor": 4
}
