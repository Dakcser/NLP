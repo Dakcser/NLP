{
 "cells": [
  {
   "cell_type": "markdown",
   "metadata": {},
   "source": [
    "# NLP project\n"
   ]
  },
  {
   "cell_type": "markdown",
   "metadata": {},
   "source": [
    "Project 21: Automatic Summarization  \n",
    "\n",
    "We shall consider structured document containing a title, abstract and a set of subsections. We would like to build a text summarizer such that tracks important keywords in the document. For this purpose, the first step is identify these keywords.  "
   ]
  },
  {
   "cell_type": "code",
   "execution_count": null,
   "metadata": {},
   "outputs": [],
   "source": [
    "pip install --upgrade pip"
   ]
  },
  {
   "cell_type": "code",
   "execution_count": null,
   "metadata": {},
   "outputs": [],
   "source": [
    "!pip list\n",
    "# tarkista löytyykö: lxml, html5lib, requests, selenium, webdriver-manager\n",
    "# lisäohjeita task1"
   ]
  },
  {
   "cell_type": "code",
   "execution_count": 1,
   "metadata": {},
   "outputs": [
    {
     "name": "stderr",
     "output_type": "stream",
     "text": [
      "[nltk_data] Downloading package stopwords to\n",
      "[nltk_data]     C:\\Users\\Markus\\AppData\\Roaming\\nltk_data...\n",
      "[nltk_data]   Package stopwords is already up-to-date!\n"
     ]
    },
    {
     "data": {
      "text/plain": [
       "True"
      ]
     },
     "execution_count": 1,
     "metadata": {},
     "output_type": "execute_result"
    }
   ],
   "source": [
    "#jos nltk ei löydy asenna -> ! pip install nltk\n",
    "import nltk\n",
    "nltk.download(\"stopwords\")\n",
    "#from nltk.cluster.util import cosine_distance"
   ]
  },
  {
   "cell_type": "markdown",
   "metadata": {},
   "source": [
    "## TASK 1\n",
    "Assume the initial input is given as html document (choose an example of your own), we hypothesize that important keywords are initially contained in the words of titles, abstract and possibly titles of subsections of the document. Suggest a simple python script that inputs an html document and outputs the lists of words in the title, abstract and title of section/subsections."
   ]
  },
  {
   "cell_type": "code",
   "execution_count": 2,
   "metadata": {
    "scrolled": true
   },
   "outputs": [
    {
     "name": "stderr",
     "output_type": "stream",
     "text": [
      "[WDM] - \n",
      "\n",
      "[WDM] - ====== WebDriver manager ======\n",
      "[WDM] - Current google-chrome version is 95.0.4638\n",
      "[WDM] - Get LATEST driver version for 95.0.4638\n",
      "[WDM] - Driver [C:\\Users\\Markus\\.wdm\\drivers\\chromedriver\\win32\\95.0.4638.54\\chromedriver.exe] found in cache\n",
      "C:\\Users\\Markus\\anaconda3\\lib\\site-packages\\ipykernel_launcher.py:28: DeprecationWarning: executable_path has been deprecated, please pass in a Service object\n"
     ]
    },
    {
     "name": "stdout",
     "output_type": "stream",
     "text": [
      "Title:\n",
      "Scalable Nearest Neighbor Algorithms for High Dimensional Data. \n",
      "\n",
      "\n",
      "Abstract:\n",
      " Abstract:For many computer vision and machine learning problems, large training sets are key for good performance. However, the most computationally expensive part of many computer vision and machine learning algorithms consists of finding nearest neighbor matches to high dimensional vectors that represent the training data. We propose new algorithms for approximate nearest neighbor matching and evaluate and compare them with previous algorithms. For matching high dimensional features, we find two algorithms to be the most efficient: the randomized k-d forest and a new algorithm proposed in this paper, the priority search k-means tree. We also propose a new algorithm for matching binary features by searching multiple hierarchical clustering trees and show it outperforms methods typically used in the literature. We show that the optimal nearest neighbor algorithm and its parameters depend on the data set characteristics and describe an automated configuration procedure for finding the best algorithm to search a particular data set. In order to scale to very large data sets that would otherwise not fit in the memory of a single machine, we propose a distributed nearest neighbor matching framework that can be used with any of the algorithms described in the paper. All this research has been released as an open source library called fast library for approximate nearest neighbors (FLANN), which has been incorporated into OpenCV and is now one of the most popular libraries for nearest neighbor matching. \n",
      "\n",
      "\n",
      "Section titles:\n",
      "Fast Approximate NN Matching. Scaling Nearest Neighbor Search. The FLANN Library. \n",
      "\n",
      "\n",
      "Subsection titles:\n",
      "1.1 Definitions and Notation. 2.1 Nearest Neighbor Matching Algorithms. 2.2 Automatic Configuration of NN Algorithms. 3.1 The Randomized k-d Tree Algorithm. 3.2 The Priority Search K-Means Tree Algorithm. 3.3 The Hierarchical Clustering Tree. 3.4 Automatic Selection of the Optimal Algorithm. 4.1 Fast Approximate Nearest Neighbor Search. 4.2 Binary Features. 5.1 Searching on a Compute Cluster. 5.2 Evaluation of Distributed Search. \n",
      "\n",
      "\n",
      "Subsubsection titles:\n",
      "2.1.1 Partitioning Trees. 2.1.2 Hashing Based Nearest Neighbor Techniques. 2.1.3 Nearest Neighbor Graph Techniques. 3.2.1 Algorithm Description. 3.2.2 Analysis. 4.1.1 Data Dimensionality. 4.1.2 Search Precision. 4.1.3 Automatic Selection of Optimal Algorithm. \n",
      "\n",
      "\n"
     ]
    }
   ],
   "source": [
    "from bs4 import BeautifulSoup\n",
    "from selenium import webdriver\n",
    "from webdriver_manager.chrome import ChromeDriverManager\n",
    "from nltk.tokenize import sent_tokenize\n",
    "import time\n",
    "# Kaikki sivut ei anna koko html bodyä käyttämällä pelkkää requestia. Seleniumilla näyttää toimivan useammilla. \n",
    "# pip install -U selenium\n",
    "# pip install webdriver-manager\n",
    "# jos käytät anacondaa eikä meinaa toimia niin kokeile myös $ conda update pip\n",
    "\n",
    "# Collect title, subtitles, abstract and body text from html file.\n",
    "# Print out titles and abstract and construct one string based on\n",
    "# the elements.\n",
    "\n",
    "def _convertHtmlToStr(elements):\n",
    "    str = \"\"\n",
    "    for element in elements:\n",
    "        if len(element.text.split()) > 1:\n",
    "            str += element.text\n",
    "            if not str.endswith(\".\"):\n",
    "                str += \".\"\n",
    "            str += \" \"\n",
    "    sentences = sent_tokenize(str)\n",
    "    return str, len(sentences)\n",
    "\n",
    "def scrape_article(url):\n",
    "    article = \"\"\n",
    "    driver = webdriver.Chrome(ChromeDriverManager().install())\n",
    "    driver.get(url)\n",
    "\n",
    "    # Wait for article to fully load\n",
    "    time.sleep(3)\n",
    "\n",
    "    soup = BeautifulSoup(driver.page_source, 'lxml')\n",
    "    strElement = \"\"\n",
    "    countTitle, countAbstract, countH2, countH3, countH4, countP = 0, 0, 0, 0, 0, 0\n",
    "\n",
    "    strElement, countTitle = _convertHtmlToStr(soup.find(\"h1\", {\"class\": \"document-title\"}))\n",
    "    print(\"Title:\\n{}\\n\\n\".format(strElement))\n",
    "    article += strElement\n",
    "    article += \". \"\n",
    "    strElement, countAbstract = _convertHtmlToStr(soup.find(\"div\", {\"class\": \"abstract-text\"}))\n",
    "    print(\"Abstract:\\n{}\\n\\n\".format(strElement))\n",
    "    article += strElement\n",
    "\n",
    "    articleHtmlBody = soup.find(\"div\", {\"id\": \"article\"})\n",
    "    if articleHtmlBody == None:\n",
    "        raise ValueError\n",
    "\n",
    "    strElement, countH2 = _convertHtmlToStr(articleHtmlBody.find_all(\"h2\"))\n",
    "    print(\"Section titles:\\n{}\\n\\n\".format(strElement))\n",
    "    article += strElement\n",
    "    strElement, countH3 = _convertHtmlToStr(articleHtmlBody.find_all(\"h3\"))\n",
    "    print(\"Subsection titles:\\n{}\\n\\n\".format(strElement))\n",
    "    article += strElement\n",
    "    strElement, countH4 = _convertHtmlToStr(articleHtmlBody.find_all(\"h4\"))\n",
    "    print(\"Subsubsection titles:\\n{}\\n\\n\".format(strElement))\n",
    "    article += strElement\n",
    "    strElement, countP = _convertHtmlToStr(articleHtmlBody.find_all(\"p\"))\n",
    "    article += strElement\n",
    "    countP += 1\n",
    "\n",
    "    driver.close()\n",
    "\n",
    "    counts = [countTitle, countAbstract, countH2, countH3, countH4, countP]\n",
    "    return article, counts\n",
    "\n",
    "url = \"https://ieeexplore.ieee.org/document/6809191\"\n",
    "article, counts = scrape_article(url)"
   ]
  },
  {
   "cell_type": "code",
   "execution_count": 3,
   "metadata": {},
   "outputs": [],
   "source": [
    "import yake"
   ]
  },
  {
   "cell_type": "code",
   "execution_count": 4,
   "metadata": {},
   "outputs": [
    {
     "name": "stdout",
     "output_type": "stream",
     "text": [
      "('Nearest Neighbor', 0.000448337246055043)\n",
      "('Neighbor Search', 0.0007203790943328738)\n",
      "('search', 0.001004904396729257)\n",
      "('data set', 0.0012469099024782296)\n",
      "('Data', 0.001556920030819596)\n",
      "('data sets', 0.0016365692470026764)\n",
      "('Neighbor', 0.002061016261751991)\n",
      "('Nearest', 0.0021167328285612947)\n",
      "('tree', 0.002195809492801172)\n",
      "('k-means tree', 0.0027180714963474274)\n",
      "('search k-means', 0.0027209590239161492)\n",
      "('algorithm', 0.0028593265650193665)\n",
      "('priority search', 0.003149722165786221)\n",
      "('Algorithms', 0.0046464056681564695)\n",
      "('neighbor algorithm', 0.004691055125189331)\n",
      "('approximate nearest', 0.004897135668102593)\n",
      "('set', 0.005054260810840441)\n",
      "('trees', 0.0058554919808031245)\n",
      "('search algorithms', 0.005962405598626943)\n",
      "('neighbors', 0.0061094410616219725)\n",
      "('search performance', 0.006126923659235143)\n",
      "('search time', 0.006168996994115662)\n",
      "('neighbor matching', 0.006372481957572293)\n",
      "('Tree Algorithm', 0.00745020662968025)\n",
      "('sets', 0.007581391216260663)\n",
      "('approximate search', 0.0078029232970523625)\n",
      "('k-means', 0.0087935139972272)\n",
      "('performance', 0.009651699304127126)\n",
      "('large data', 0.010116205750407501)\n",
      "('approximate', 0.010777678241274229)\n",
      "('time', 0.01102643638772766)\n",
      "('points', 0.01148942832082029)\n",
      "('Fig.', 0.011771818674417475)\n",
      "('randomized', 0.011813767932372184)\n",
      "('data points', 0.011881259349469592)\n",
      "('LSH', 0.012953593514246955)\n",
      "('number', 0.013241279475089256)\n",
      "('K-nearest neighbor', 0.01407194169608558)\n",
      "('priority', 0.014455992614740785)\n",
      "('FLANN', 0.014468182859321539)\n",
      "('show', 0.014854035778942622)\n",
      "('point', 0.014986210853243854)\n",
      "('SIFT features', 0.015004579758831186)\n",
      "('LSH algorithms', 0.015099368862575024)\n",
      "('memory', 0.015590877092398658)\n",
      "('features', 0.01580901694020048)\n",
      "('Clustering Tree', 0.01610366282083762)\n",
      "('clustering', 0.016284844358761853)\n",
      "('tree build', 0.01672171378743329)\n",
      "('randomized trees', 0.016829157092329468)\n"
     ]
    }
   ],
   "source": [
    "#Keyword search and analysis\n",
    "\n",
    "w_extractor = yake.KeywordExtractor()\n",
    "\n",
    "language = \"en\"\n",
    "max_ngram_size = 2\n",
    "deduplication_threshold = 0.9\n",
    "numOfKeywords = 50 #alunperin 10\n",
    "\n",
    "custom_kw_extractor = yake.KeywordExtractor(lan=language, n=max_ngram_size, dedupLim=deduplication_threshold, top=numOfKeywords, features=None)\n",
    "keywords = custom_kw_extractor.extract_keywords(article)\n",
    "\n",
    "for kw in keywords:\n",
    "    print(kw)\n"
   ]
  },
  {
   "cell_type": "markdown",
   "metadata": {},
   "source": [
    "## TASK 2\n",
    "Write down a simple python script that allows you to output the histogram of word frequency in the document, excluding the stopwords (see examples in online NLTK book). Use SpaCy named-entity tagger to identify person-named entities and organization-named entities in the document."
   ]
  },
  {
   "cell_type": "code",
   "execution_count": 5,
   "metadata": {},
   "outputs": [],
   "source": [
    "from nltk.corpus import stopwords\n",
    "import matplotlib.pyplot as plt\n",
    "import numpy as np\n",
    "from nltk.tokenize import word_tokenize\n",
    "from collections import Counter\n",
    "\n",
    "all_stopwords = stopwords.words('english')\n",
    "all_stopwords.append('The')"
   ]
  },
  {
   "cell_type": "code",
   "execution_count": 6,
   "metadata": {},
   "outputs": [
    {
     "name": "stdout",
     "output_type": "stream",
     "text": [
      "['Scalable', 'Nearest', 'Neighbor', 'Algorithms', 'High', 'Dimensional', 'Data', 'Abstract', 'For', 'many', 'computer', 'vision', 'machine', 'learning', 'problems', 'large', 'training', 'sets', 'key', 'good', 'performance', 'However', 'computationally', 'expensive', 'part', 'many', 'computer', 'vision', 'machine', 'learning', 'algorithms', 'consists', 'finding', 'nearest', 'neighbor', 'matches', 'high', 'dimensional', 'vectors', 'represent', 'training', 'data', 'We', 'propose', 'new', 'algorithms', 'approximate', 'nearest', 'neighbor', 'matching', 'evaluate', 'compare', 'previous', 'algorithms', 'For', 'matching', 'high', 'dimensional', 'features', 'find', 'two', 'algorithms', 'efficient', 'randomized', 'forest', 'new', 'algorithm', 'proposed', 'paper', 'priority', 'search', 'tree', 'We', 'also', 'propose', 'new', 'algorithm', 'matching', 'binary', 'features', 'searching', 'multiple', 'hierarchical', 'clustering', 'trees', 'show', 'outperforms', 'methods', 'typically', 'used', 'literature', 'We', 'show', 'optimal', 'nearest', 'neighbor', 'algorithm', 'parameters', 'depend', 'data', 'set', 'characteristics', 'describe', 'automated', 'configuration', 'procedure', 'finding', 'best', 'algorithm', 'search', 'particular', 'data', 'set', 'In', 'order', 'scale', 'large', 'data', 'sets', 'would', 'otherwise', 'fit', 'memory', 'single', 'machine', 'propose', 'distributed', 'nearest', 'neighbor', 'matching', 'framework', 'used', 'algorithms', 'described', 'paper', 'All', 'research', 'released', 'open', 'source', 'library', 'called', 'fast', 'library', 'approximate', 'nearest', 'neighbors', 'FLANN', 'incorporated', 'OpenCV', 'one', 'popular', 'libraries', 'nearest', 'neighbor', 'matching', 'Fast', 'Approximate', 'NN', 'Matching', 'Scaling', 'Nearest', 'Neighbor', 'Search', 'FLANN', 'Library', 'Definitions', 'Notation', 'Nearest', 'Neighbor', 'Matching', 'Algorithms', 'Automatic', 'Configuration', 'NN', 'Algorithms', 'Randomized', 'Tree', 'Algorithm', 'Priority', 'Search', 'Tree', 'Algorithm', 'Hierarchical', 'Clustering', 'Tree', 'Automatic', 'Selection', 'Optimal', 'Algorithm', 'Fast', 'Approximate', 'Nearest', 'Neighbor', 'Search', 'Binary', 'Features', 'Searching', 'Compute', 'Cluster', 'Evaluation', 'Distributed', 'Search', 'Partitioning', 'Trees', 'Hashing', 'Based', 'Nearest', 'Neighbor', 'Techniques', 'Nearest', 'Neighbor', 'Graph', 'Techniques', 'Algorithm', 'Description', 'Analysis', 'Data', 'Dimensionality', 'Search', 'Precision', 'Automatic', 'Selection', 'Optimal', 'Algorithm', 'computationally', 'expensive', 'part', 'many', 'computer', 'vision', 'algorithms', 'consists', 'searching', 'similar', 'matches', 'vectors', 'also', 'referred', 'nearest', 'neighbor', 'matching', 'Having', 'efficient', 'algorithm', 'performing', 'fast', 'nearest', 'neighbor', 'matching', 'large', 'data', 'sets', 'bring', 'speed', 'improvements', 'several', 'orders', 'magnitude', 'many', 'applications', 'Examples', 'problems', 'include', 'finding', 'best', 'matches', 'local', 'image', 'features', 'large', 'data', 'sets', 'clustering', 'local', 'features', 'visual', 'words', 'using', 'similar', 'algorithms', 'global', 'image', 'feature', 'matching', 'scene', 'recognition', 'human', 'pose', 'estimation', 'matching', 'deformable', 'shapes', 'object', 'recognition', 'performing', 'normalized', 'NCC', 'compare', 'image', 'patches', 'large', 'data', 'sets', 'nearest', 'neighbor', 'search', 'problem', 'also', 'major', 'importance', 'many', 'applications', 'including', 'machine', 'learning', 'document', 'retrieval', 'data', 'compression', 'data', 'analysis', 'It', 'shown', 'using', 'large', 'training', 'sets', 'key', 'obtaining', 'good', 'performance', 'many', 'computer', 'vision', 'methods', 'Today', 'Internet', 'vast', 'resource', 'training', 'data', 'large', 'data', 'sets', 'performance', 'algorithms', 'employed', 'quickly', 'becomes', 'key', 'issue', 'When', 'working', 'high', 'dimensional', 'features', 'encountered', 'computer', 'vision', 'applications', 'image', 'patches', 'local', 'descriptors', 'global', 'image', 'descriptors', 'often', 'known', 'search', 'algorithm', 'exact', 'acceptable', 'performance', 'To', 'obtain', 'speed', 'improvement', 'many', 'practical', 'applications', 'forced', 'settle', 'approximate', 'search', 'neighbors', 'returned', 'exact', 'meaning', 'approximate', 'typically', 'still', 'close', 'exact', 'neighbors', 'In', 'practice', 'common', 'approximate', 'nearest', 'neighbor', 'search', 'algorithms', 'provide', 'percent', 'correct', 'neighbors', 'still', 'two', 'orders', 'magnitude', 'faster', 'linear', 'search', 'In', 'many', 'cases', 'nearest', 'neighbor', 'search', 'part', 'larger', 'application', 'containing', 'approximations', 'little', 'loss', 'performance', 'using', 'approximate', 'rather', 'exact', 'neighbors', 'In', 'paper', 'evaluate', 'promising', 'search', 'algorithms', 'literature', 'propose', 'new', 'algorithms', 'improvements', 'existing', 'ones', 'present', 'method', 'performing', 'automatic', 'algorithm', 'selection', 'parameter', 'optimization', 'discuss', 'problem', 'scaling', 'large', 'data', 'sets', 'using', 'compute', 'clusters', 'We', 'released', 'work', 'open', 'source', 'library', 'named', 'fast', 'library', 'approximate', 'nearest', 'neighbors', 'FLANN', 'In', 'paper', 'concerned', 'problem', 'efficient', 'nearest', 'neighbor', 'search', 'metric', 'spaces', 'nearest', 'neighbor', 'search', 'metric', 'space', 'defined', 'follows', 'given', 'set', 'points', 'pn', 'metric', 'space', 'M', 'query', 'point', 'find', 'element', 'NN', 'q', 'P', 'closest', 'q', 'respect', 'metric', 'distance', 'NN', 'q', 'P', 'q', 'x', 'Source', 'NN', 'q', 'P', 'arg', 'P', 'q', 'x', 'nearest', 'neighbor', 'problem', 'consists', 'finding', 'method', 'set', 'P', 'operation', 'NN', 'q', 'P', 'performed', 'efficiently', 'We', 'often', 'interested', 'finding', 'first', 'closest', 'neighbor', 'several', 'closest', 'neighbors', 'In', 'case', 'search', 'performed', 'several', 'ways', 'depending', 'number', 'neighbors', 'returned', 'distance', 'query', 'point', 'neighbor', 'KNN', 'search', 'goal', 'find', 'closest', 'K', 'points', 'query', 'point', 'radius', 'nearest', 'neighbor', 'search', 'RNN', 'goal', 'find', 'points', 'located', 'closer', 'distance', 'R', 'query', 'point', 'We', 'define', 'neighbor', 'search', 'formally', 'following', 'manner', 'KNN', 'q', 'P', 'K', 'View', 'Source', 'KNN', 'q', 'P', 'K', 'A', 'A', 'set', 'satisfies', 'following', 'conditions', 'Source', 'K', 'A', 'P', 'q', 'x', 'q', 'Source', 'A', 'q', 'x', 'q', 'neighbor', 'search', 'property', 'always', 'return', 'exactly', 'K', 'neighbors', 'least', 'K', 'points', 'P', 'radius', 'nearest', 'neighbor', 'search', 'defined', 'follows', 'RNN', 'q', 'P', 'R', 'q', 'p', 'R', 'Source', 'RNN', 'q', 'P', 'R', 'P', 'q', 'p', 'Depending', 'value', 'R', 'chosen', 'radius', 'search', 'return', 'number', 'points', 'zero', 'whole', 'data', 'set', 'In', 'practice', 'passing', 'large', 'value', 'R', 'radius', 'search', 'search', 'return', 'large', 'number', 'points', 'often', 'inefficient', 'Radius', 'neighbor', 'RKNN', 'search', 'combination', 'neighbor', 'search', 'radius', 'search', 'limit', 'placed', 'number', 'points', 'radius', 'search', 'return', 'RKNN', 'q', 'P', 'K', 'R', 'View', 'Source', 'RKNN', 'q', 'P', 'K', 'R', 'A', 'Source', 'K', 'A', 'P', 'q', 'x', 'Randd', 'q', 'x', 'q', 'Source', 'x', 'A', 'q', 'x', 'q', 'x', 'q', 'search', 'fundamental', 'part', 'many', 'computer', 'vision', 'algorithms', 'significant', 'importance', 'many', 'fields', 'widely', 'studied', 'This', 'section', 'presents', 'review', 'previous', 'work', 'area', 'We', 'review', 'widely', 'used', 'nearest', 'neighbor', 'techniques', 'classified', 'three', 'categories', 'partitioning', 'trees', 'hashing', 'techniques', 'neighboring', 'graph', 'techniques', 'one', 'best', 'known', 'nearest', 'neighbor', 'algorithms', 'While', 'effective', 'low', 'dimensionality', 'spaces', 'performance', 'quickly', 'decreases', 'high', 'dimensional', 'data', 'Arya', 'et', 'al', 'propose', 'variation', 'tree', 'used', 'approximate', 'search', 'considering', 'nearest', 'neighbors', 'points', 'dist', 'p', 'q', 'dist', 'q', 'true', 'nearest', 'neighbor', 'authors', 'also', 'propose', 'use', 'priority', 'queue', 'speed', 'search', 'This', 'method', 'approximating', 'nearest', 'neighbor', 'search', 'also', 'referred', 'error', 'bound', 'approximate', 'search', 'Another', 'way', 'approximating', 'nearest', 'neighbor', 'search', 'limiting', 'time', 'spent', 'search', 'time', 'bound', 'approximate', 'search', 'This', 'method', 'proposed', 'tree', 'search', 'stopped', 'early', 'examining', 'fixed', 'number', 'leaf', 'nodes', 'In', 'practice', 'approximation', 'criterion', 'found', 'give', 'better', 'results', 'approximate', 'search', 'Multiple', 'randomized', 'trees', 'proposed', 'means', 'speed', 'approximate', 'search', 'In', 'perform', 'wide', 'range', 'comparisons', 'showing', 'multiple', 'randomized', 'trees', 'one', 'effective', 'methods', 'matching', 'high', 'dimensional', 'data', 'Variations', 'tree', 'using', 'partitioning', 'hyperplanes', 'proposed', 'trinary', 'projection', 'tree', 'We', 'found', 'algorithms', 'efficient', 'randomized', 'tree', 'decomposition', 'overhead', 'evaluating', 'multiple', 'dimensions', 'search', 'outweighed', 'benefit', 'better', 'space', 'decomposition', 'Another', 'class', 'partitioning', 'trees', 'decompose', 'space', 'using', 'various', 'clustering', 'algorithms', 'instead', 'using', 'hyperplanes', 'case', 'tree', 'variants', 'Example', 'decompositions', 'include', 'hierarchical', 'tree', 'GNAT', 'anchors', 'hierarchy', 'cover', 'tree', 'Nister', 'Stewenius', 'propose', 'vocabulary', 'tree', 'searched', 'accessing', 'single', 'leaf', 'hierarchical', 'tree', 'Leibe', 'et', 'al', 'propose', 'data', 'structure', 'constructed', 'using', 'mixed', 'clustering', 'algorithm', 'Schindler', 'et', 'al', 'propose', 'new', 'way', 'searching', 'hierarchical', 'tree', 'Philbin', 'et', 'al', 'conducted', 'experiments', 'showing', 'approximate', 'flat', 'vocabulary', 'outperforms', 'vocabulary', 'tree', 'recognition', 'task', 'In', 'paper', 'describe', 'modified', 'tree', 'algorithm', 'found', 'give', 'best', 'results', 'data', 'sets', 'randomized', 'trees', 'best', 'others', 'Jégou', 'et', 'al', 'propose', 'product', 'quantization', 'approach', 'decompose', 'space', 'low', 'dimensional', 'subspaces', 'represent', 'data', 'sets', 'points', 'compact', 'codes', 'computed', 'quantization', 'indices', 'subspaces', 'compact', 'codes', 'efficiently', 'compared', 'query', 'points', 'using', 'asymmetric', 'approximate', 'distance', 'Babenko', 'Lempitsky', 'propose', 'inverted', 'obtained', 'replacing', 'standard', 'quantization', 'inverted', 'index', 'product', 'quantization', 'obtaining', 'denser', 'subdivision', 'search', 'space', 'Both', 'methods', 'shown', 'efficient', 'searching', 'large', 'data', 'sets', 'considered', 'evaluation', 'possible', 'incorporation', 'FLANN', 'Perhaps', 'best', 'known', 'hashing', 'based', 'nearest', 'neighbor', 'technique', 'locality', 'sensitive', 'hashing', 'LSH', 'uses', 'large', 'number', 'hash', 'functions', 'property', 'hashes', 'elements', 'close', 'also', 'likely', 'close', 'Variants', 'LSH', 'LSH', 'improves', 'high', 'storage', 'costs', 'reducing', 'number', 'hash', 'tables', 'LSH', 'Forest', 'adapts', 'better', 'data', 'without', 'requiring', 'hand', 'tuning', 'parameters', 'performance', 'hashing', 'methods', 'highly', 'dependent', 'quality', 'hashing', 'functions', 'use', 'large', 'body', 'research', 'targeted', 'improving', 'hashing', 'methods', 'using', 'hashing', 'functions', 'computed', 'using', 'various', 'learning', 'techniques', 'parameter', 'sensitive', 'hashing', 'spectral', 'hashing', 'randomized', 'LSH', 'hashing', 'learned', 'metrics', 'kernelized', 'LSH', 'learnt', 'binary', 'embeddings', 'kernel', 'hashing', 'hashing', 'optimized', 'kernel', 'hashing', 'complementary', 'hashing', 'different', 'LSH', 'algorithms', 'provide', 'theoretical', 'guarantees', 'search', 'quality', 'successfully', 'used', 'number', 'projects', 'however', 'experiments', 'reported', 'Section', 'show', 'practice', 'usually', 'outperformed', 'algorithms', 'using', 'space', 'partitioning', 'structures', 'randomized', 'trees', 'priority', 'search', 'tree', 'Nearest', 'neighbor', 'graph', 'methods', 'build', 'graph', 'structure', 'points', 'vertices', 'edges', 'connect', 'point', 'nearest', 'neighbors', 'query', 'points', 'used', 'explore', 'graph', 'using', 'various', 'strategies', 'order', 'get', 'closer', 'nearest', 'neighbors', 'In', 'authors', 'select', 'well', 'separated', 'elements', 'graph', 'seeds', 'start', 'graph', 'exploration', 'seeds', 'fashion', 'Similarly', 'authors', 'perform', 'exploration', 'graph', 'use', 'strategy', 'pick', 'starting', 'points', 'random', 'They', 'present', 'recent', 'experiments', 'compare', 'favourably', 'randomized', 'proposed', 'algorithm', 'considered', 'future', 'evaluation', 'possible', 'incorporation', 'FLANN', 'nearest', 'neighbor', 'graph', 'methods', 'suffer', 'quite', 'expensive', 'construction', 'graph', 'structure', 'Wang', 'et', 'al', 'improve', 'construction', 'cost', 'building', 'approximate', 'nearest', 'neighbor', 'graph', 'There', 'hundreds', 'papers', 'published', 'nearest', 'neighbor', 'search', 'algorithms', 'little', 'systematic', 'comparison', 'guide', 'choice', 'among', 'algorithms', 'set', 'internal', 'parameters', 'In', 'practice', 'nearest', 'neighbor', 'literature', 'setting', 'algorithm', 'parameters', 'manual', 'process', 'carried', 'using', 'various', 'heuristics', 'rarely', 'make', 'use', 'systematic', 'approaches', 'Bawa', 'et', 'al', 'show', 'performance', 'standard', 'LSH', 'algorithm', 'critically', 'dependent', 'length', 'hashing', 'key', 'propose', 'LSH', 'Forest', 'algorithm', 'eliminates', 'data', 'dependent', 'parameter', 'In', 'previous', 'paper', 'proposed', 'automatic', 'nearest', 'neighbor', 'algorithm', 'configuration', 'method', 'combining', 'grid', 'search', 'finer', 'grained', 'downhill', 'simplex', 'optimization', 'process', 'There', 'extensive', 'research', 'algorithm', 'configuration', 'methods', 'however', 'aware', 'papers', 'apply', 'techniques', 'finding', 'optimum', 'parameters', 'nearest', 'neighbor', 'algorithms', 'Bergstra', 'Bengio', 'show', 'except', 'small', 'parameter', 'spaces', 'random', 'search', 'efficient', 'strategy', 'parameter', 'optimization', 'grid', 'search', 'Exact', 'search', 'costly', 'many', 'applications', 'generated', 'interest', 'approximate', 'search', 'algorithms', 'return', 'neighbors', 'cases', 'orders', 'magnitude', 'faster', 'exact', 'search', 'After', 'evaluating', 'many', 'different', 'algorithms', 'approximate', 'nearest', 'neighbor', 'search', 'data', 'sets', 'wide', 'range', 'dimensionality', 'found', 'one', 'two', 'algorithms', 'gave', 'best', 'performance', 'priority', 'search', 'tree', 'multiple', 'randomized', 'trees', 'These', 'algorithms', 'described', 'remainder', 'section', 'randomized', 'tree', 'algorithm', 'approximate', 'nearest', 'neighbor', 'search', 'algorithm', 'builds', 'multiple', 'randomized', 'trees', 'searched', 'parallel', 'trees', 'built', 'similar', 'manner', 'classic', 'tree', 'difference', 'classic', 'algorithm', 'splits', 'data', 'dimension', 'highest', 'variance', 'randomized', 'trees', 'split', 'dimension', 'chosen', 'randomly', 'top', 'ND', 'dimensions', 'highest', 'variance', 'We', 'used', 'fixed', 'value', 'implementation', 'performs', 'well', 'across', 'data', 'sets', 'benefit', 'significantly', 'tuning', 'When', 'searching', 'randomized', 'forest', 'single', 'priority', 'queue', 'maintained', 'across', 'randomized', 'trees', 'priority', 'queue', 'ordered', 'increasing', 'distance', 'decision', 'boundary', 'branch', 'queue', 'search', 'explore', 'first', 'closest', 'leaves', 'trees', 'Once', 'data', 'point', 'examined', 'compared', 'query', 'point', 'inside', 'tree', 'marked', 'order', 'another', 'tree', 'degree', 'approximation', 'determined', 'maximum', 'number', 'leaves', 'visited', 'across', 'trees', 'returning', 'best', 'nearest', 'neighbor', 'candidates', 'found', 'point', 'Fig', 'shows', 'value', 'searching', 'many', 'randomized', 'time', 'It', 'seen', 'performance', 'improves', 'number', 'randomized', 'trees', 'certain', 'point', 'random', 'trees', 'case', 'increasing', 'number', 'random', 'trees', 'leads', 'static', 'decreasing', 'performance', 'memory', 'overhead', 'using', 'multiple', 'random', 'trees', 'increases', 'linearly', 'number', 'trees', 'point', 'speedup', 'may', 'justify', 'additional', 'memory', 'used', 'Speedup', 'obtained', 'using', 'multiple', 'randomized', 'SIFT', 'features', 'data', 'set', 'Show', 'All', 'Fig', 'gives', 'intuition', 'behind', 'exploring', 'multiple', 'randomized', 'improves', 'search', 'performance', 'When', 'query', 'point', 'close', 'one', 'splitting', 'hyperplanes', 'nearest', 'neighbor', 'lies', 'almost', 'equal', 'probability', 'either', 'side', 'hyperplane', 'lies', 'opposite', 'side', 'splitting', 'hyperplane', 'exploration', 'tree', 'required', 'cell', 'containing', 'visited', 'Using', 'multiple', 'random', 'decompositions', 'increases', 'probability', 'one', 'query', 'point', 'nearest', 'neighbor', 'cell', 'Example', 'randomized', 'nearest', 'neighbor', 'across', 'decision', 'boundary', 'query', 'point', 'first', 'decomposition', 'however', 'cell', 'second', 'decomposition', 'Show', 'All', 'We', 'found', 'randomized', 'forest', 'effective', 'many', 'situations', 'however', 'data', 'sets', 'different', 'algorithm', 'priority', 'search', 'tree', 'effective', 'finding', 'approximate', 'nearest', 'neighbors', 'especially', 'high', 'precision', 'required', 'priority', 'search', 'tree', 'tries', 'better', 'exploit', 'natural', 'structure', 'existing', 'data', 'clustering', 'data', 'points', 'using', 'full', 'distance', 'across', 'dimensions', 'contrast', 'randomized', 'tree', 'algorithm', 'partitions', 'data', 'based', 'one', 'dimension', 'time', 'algorithms', 'use', 'hierarchical', 'partitioning', 'schemes', 'based', 'clustering', 'data', 'points', 'previously', 'proposed', 'literature', 'These', 'algorithms', 'differ', 'way', 'construct', 'partitioning', 'tree', 'whether', 'using', 'agglomerative', 'form', 'clustering', 'especially', 'strategies', 'used', 'exploring', 'hierarchical', 'tree', 'We', 'developed', 'improved', 'version', 'explores', 'tree', 'using', 'strategy', 'analogy', 'found', 'significantly', 'improve', 'performance', 'approximate', 'searches', 'priority', 'search', 'tree', 'constructed', 'partitioning', 'data', 'points', 'level', 'K', 'distinct', 'regions', 'using', 'clustering', 'applying', 'method', 'recursively', 'points', 'region', 'recursion', 'stopped', 'number', 'points', 'region', 'smaller', 'K', 'see', 'Algorithm', 'Show', 'All', 'tree', 'searched', 'initially', 'traversing', 'tree', 'root', 'closest', 'leaf', 'following', 'inner', 'node', 'branch', 'closest', 'cluster', 'centre', 'query', 'point', 'adding', 'unexplored', 'branches', 'along', 'path', 'priority', 'queue', 'see', 'Algorithm', 'priority', 'queue', 'sorted', 'increasing', 'distance', 'query', 'point', 'boundary', 'branch', 'added', 'queue', 'After', 'initial', 'tree', 'traversal', 'algorithm', 'resumes', 'traversing', 'tree', 'always', 'starting', 'top', 'branch', 'queue', 'Show', 'All', 'number', 'clusters', 'K', 'use', 'partitioning', 'data', 'node', 'parameter', 'algorithm', 'called', 'branching', 'factor', 'choosing', 'K', 'important', 'obtaining', 'good', 'search', 'performance', 'In', 'Section', 'propose', 'algorithm', 'finding', 'optimum', 'algorithm', 'parameters', 'including', 'optimum', 'branching', 'factor', 'Fig', 'contains', 'visualisation', 'several', 'hierarchical', 'decompositions', 'different', 'branching', 'factors', 'Projections', 'priority', 'search', 'trees', 'constructed', 'using', 'different', 'branching', 'factors', 'projections', 'constructed', 'using', 'technique', 'gray', 'values', 'indicating', 'ratio', 'distances', 'nearest', 'cluster', 'centre', 'tree', 'level', 'darkest', 'values', 'ratio', 'fall', 'near', 'boundaries', 'regions', 'Show', 'All', 'Another', 'parameter', 'priority', 'search', 'tree', 'Imax', 'maximum', 'number', 'iterations', 'perform', 'clustering', 'loop', 'Performing', 'fewer', 'iterations', 'substantially', 'reduce', 'tree', 'build', 'time', 'results', 'slightly', 'less', 'optimal', 'clustering', 'consider', 'sum', 'squared', 'errors', 'points', 'cluster', 'centres', 'measure', 'optimality', 'However', 'observed', 'even', 'using', 'small', 'number', 'iterations', 'nearest', 'neighbor', 'search', 'performance', 'similar', 'tree', 'constructed', 'running', 'clustering', 'convergence', 'illustrated', 'Fig', 'It', 'seen', 'using', 'seven', 'iterations', 'get', 'percent', 'performance', 'tree', 'constructed', 'using', 'full', 'convergence', 'requiring', 'less', 'percent', 'build', 'time', 'influence', 'number', 'iterations', 'search', 'speed', 'tree', 'Figure', 'shows', 'relative', 'search', 'time', 'compared', 'case', 'using', 'full', 'convergence', 'Show', 'All', 'algorithm', 'use', 'picking', 'initial', 'centres', 'clustering', 'controlled', 'Calg', 'parameter', 'In', 'experiments', 'FLANN', 'library', 'used', 'following', 'algorithms', 'random', 'selection', 'Gonzales', 'algorithm', 'selecting', 'centres', 'spaced', 'apart', 'algorithm', 'We', 'found', 'initial', 'cluster', 'selection', 'made', 'small', 'difference', 'terms', 'overall', 'search', 'efficiency', 'cases', 'random', 'initial', 'cluster', 'selection', 'usually', 'good', 'choice', 'priority', 'search', 'tree', 'When', 'analysing', 'complexity', 'priority', 'search', 'tree', 'consider', 'tree', 'construction', 'time', 'search', 'time', 'memory', 'requirements', 'storing', 'tree', 'Construction', 'time', 'complexity', 'During', 'construction', 'tree', 'clustering', 'operation', 'performed', 'inner', 'node', 'Considering', 'node', 'v', 'nv', 'associated', 'data', 'points', 'assuming', 'maximum', 'number', 'iterations', 'I', 'clustering', 'loop', 'complexity', 'clustering', 'operation', 'O', 'nvdKI', 'represents', 'data', 'dimensionality', 'Taking', 'account', 'inner', 'nodes', 'level', 'complexity', 'constructing', 'level', 'tree', 'O', 'ndKI', 'Assuming', 'balanced', 'tree', 'height', 'tree', 'resulting', 'total', 'tree', 'construction', 'cost', 'O', 'ndKI', 'Search', 'time', 'complexity', 'In', 'case', 'time', 'constrained', 'approximate', 'nearest', 'neighbor', 'search', 'algorithm', 'stops', 'examining', 'L', 'data', 'points', 'Considering', 'complete', 'priority', 'search', 'tree', 'branching', 'factor', 'K', 'number', 'top', 'tree', 'traversals', 'required', 'leaf', 'node', 'contains', 'K', 'points', 'complete', 'tree', 'During', 'traversal', 'algorithm', 'needs', 'check', 'O', 'inner', 'nodes', 'one', 'leaf', 'node', 'For', 'internal', 'node', 'algorithm', 'find', 'branch', 'closest', 'query', 'point', 'needs', 'compute', 'distances', 'cluster', 'centres', 'child', 'nodes', 'O', 'Kd', 'operation', 'unexplored', 'branches', 'added', 'priority', 'queue', 'accomplished', 'O', 'K', 'amortized', 'cost', 'using', 'binomial', 'heaps', 'For', 'leaf', 'node', 'distance', 'query', 'points', 'leaf', 'needs', 'computed', 'takes', 'O', 'Kd', 'time', 'In', 'summary', 'overall', 'search', 'cost', 'O', 'Ld', 'Matching', 'binary', 'features', 'increasing', 'interest', 'computer', 'vision', 'community', 'many', 'binary', 'visual', 'descriptors', 'recently', 'proposed', 'BRIEF', 'ORB', 'BRISK', 'Many', 'algorithms', 'suitable', 'matching', 'vector', 'based', 'features', 'randomized', 'priority', 'search', 'tree', 'either', 'efficient', 'suitable', 'matching', 'binary', 'features', 'example', 'priority', 'search', 'tree', 'requires', 'points', 'vector', 'space', 'dimensions', 'independently', 'averaged', 'Binary', 'descriptors', 'typically', 'compared', 'using', 'Hamming', 'distance', 'binary', 'data', 'computed', 'bitwise', 'XOR', 'operation', 'followed', 'bit', 'count', 'result', 'efficient', 'computers', 'hardware', 'support', 'counting', 'number', 'bits', 'set', 'word', 'This', 'section', 'briefly', 'presents', 'new', 'data', 'structure', 'algorithm', 'called', 'hierarchical', 'clustering', 'tree', 'found', 'effective', 'matching', 'binary', 'features', 'For', 'detailed', 'description', 'algorithm', 'reader', 'encouraged', 'consult', 'hierarchical', 'clustering', 'tree', 'performs', 'decomposition', 'search', 'space', 'recursively', 'clustering', 'input', 'data', 'set', 'using', 'random', 'data', 'points', 'cluster', 'centers', 'nodes', 'see', 'Algorithm', 'Show', 'All', 'In', 'contrast', 'priority', 'search', 'tree', 'presented', 'using', 'one', 'tree', 'bring', 'significant', 'improvements', 'found', 'building', 'multiple', 'hierarchical', 'clustering', 'trees', 'searching', 'parallel', 'using', 'common', 'priority', 'queue', 'approach', 'found', 'work', 'well', 'randomized', 'resulted', 'significant', 'improvements', 'search', 'performance', 'Our', 'experiments', 'revealed', 'optimal', 'algorithm', 'approximate', 'nearest', 'neighbor', 'search', 'highly', 'dependent', 'several', 'factors', 'data', 'dimensionality', 'size', 'structure', 'data', 'set', 'whether', 'correlation', 'features', 'data', 'set', 'desired', 'search', 'precision', 'Additionally', 'algorithm', 'set', 'parameters', 'significant', 'influence', 'search', 'performance', 'number', 'randomized', 'trees', 'branching', 'factor', 'number', 'iterations', 'As', 'already', 'mention', 'Section', 'optimum', 'parameters', 'nearest', 'neighbor', 'algorithm', 'typically', 'chosen', 'manually', 'using', 'various', 'heuristics', 'In', 'section', 'propose', 'method', 'automatic', 'selection', 'best', 'nearest', 'neighbor', 'algorithm', 'use', 'particular', 'data', 'set', 'choosing', 'optimum', 'parameters', 'By', 'considering', 'nearest', 'neighbor', 'algorithm', 'parameter', 'generic', 'nearest', 'neighbor', 'search', 'routine', 'A', 'problem', 'reduced', 'determining', 'parameters', 'give', 'best', 'solution', 'Θ', 'also', 'known', 'parameter', 'configuration', 'space', 'This', 'formulated', 'optimization', 'problem', 'parameter', 'configuration', 'space', 'θ', 'View', 'Source', 'min', 'c', 'c', 'cost', 'function', 'indicating', 'well', 'search', 'algorithm', 'A', 'configured', 'parameters', 'θ', 'performs', 'given', 'input', 'data', 'We', 'define', 'cost', 'combination', 'search', 'time', 'tree', 'build', 'time', 'tree', 'memory', 'overhead', 'Depending', 'application', 'three', 'factors', 'different', 'importance', 'cases', 'care', 'much', 'tree', 'build', 'time', 'build', 'tree', 'use', 'large', 'number', 'queries', 'cases', 'tree', 'build', 'time', 'search', 'time', 'must', 'small', 'tree', 'built', 'searched', 'small', 'number', 'times', 'There', 'also', 'situations', 'wish', 'limit', 'memory', 'overhead', 'work', 'memory', 'constrained', 'environments', 'We', 'define', 'cost', 'function', 'follows', 'c', 'θ', 'θ', 'θ', 'θ', 'θ', 'θ', 'View', 'Source', 'c', 'b', 'min', 'b', 'θ', 'b', 'θ', 'θ', 'represent', 'search', 'time', 'tree', 'build', 'time', 'memory', 'overhead', 'tree', 'constructed', 'queried', 'parameters', 'θ', 'memory', 'overhead', 'measured', 'ratio', 'memory', 'used', 'tree', 'memory', 'used', 'data', 'θ', 'θ', 'weights', 'wb', 'wm', 'used', 'control', 'relative', 'importance', 'build', 'time', 'memory', 'overhead', 'overall', 'cost', 'weight', 'wb', 'controls', 'importance', 'tree', 'build', 'time', 'relative', 'search', 'time', 'Search', 'time', 'defined', 'time', 'search', 'number', 'points', 'tree', 'time', 'overhead', 'computed', 'relative', 'optimum', 'time', 'cost', 'θ', 'θ', 'defined', 'optimal', 'search', 'build', 'time', 'memory', 'usage', 'factor', 'We', 'perform', 'optimization', 'two', 'steps', 'global', 'exploration', 'parameter', 'space', 'using', 'grid', 'search', 'followed', 'local', 'optimization', 'starting', 'best', 'solution', 'found', 'first', 'step', 'grid', 'search', 'feasible', 'effective', 'approach', 'first', 'step', 'number', 'parameters', 'relatively', 'low', 'In', 'second', 'step', 'use', 'downhill', 'simplex', 'method', 'locally', 'explore', 'parameter', 'space', 'best', 'solution', 'obtained', 'first', 'step', 'Although', 'guarantee', 'global', 'minimum', 'experiments', 'shown', 'parameter', 'values', 'obtained', 'close', 'optimum', 'practice', 'We', 'use', 'random', 'generate', 'data', 'query', 'points', 'run', 'optimization', 'In', 'FLANN', 'optimization', 'run', 'full', 'data', 'set', 'accurate', 'results', 'using', 'fraction', 'data', 'set', 'faster', 'process', 'parameter', 'selection', 'needs', 'performed', 'type', 'data', 'set', 'optimum', 'parameter', 'values', 'saved', 'applied', 'future', 'data', 'sets', 'type', 'For', 'experiments', 'presented', 'section', 'used', 'selection', 'data', 'sets', 'wide', 'range', 'sizes', 'data', 'dimensionality', 'Among', 'data', 'sets', 'used', 'patch', 'data', 'set', 'data', 'sets', 'randomly', 'sampled', 'data', 'different', 'dimensionality', 'data', 'sets', 'SIFT', 'features', 'different', 'sizes', 'obtained', 'sampling', 'CD', 'cover', 'data', 'set', 'well', 'data', 'set', 'SIFT', 'features', 'extracted', 'overlapping', 'images', 'forming', 'panoramas', 'We', 'measure', 'accuracy', 'approximate', 'nearest', 'neighbor', 'algorithm', 'using', 'search', 'precision', 'precision', 'defined', 'fraction', 'neighbors', 'returned', 'approximate', 'algorithm', 'exact', 'nearest', 'neighbors', 'We', 'measure', 'search', 'performance', 'algorithm', 'time', 'required', 'perform', 'linear', 'search', 'divided', 'time', 'required', 'perform', 'approximate', 'search', 'refer', 'search', 'speedup', 'speedup', 'We', 'present', 'several', 'experiments', 'conducted', 'order', 'analyse', 'performance', 'two', 'algorithms', 'described', 'Section', 'Data', 'dimensionality', 'one', 'factors', 'great', 'impact', 'nearest', 'neighbor', 'matching', 'performance', 'top', 'Fig', 'shows', 'search', 'performance', 'degrades', 'dimensionality', 'increases', 'case', 'random', 'vectors', 'data', 'sets', 'case', 'contain', 'vectors', 'whose', 'values', 'randomly', 'sampled', 'uniform', 'distribution', 'These', 'random', 'data', 'sets', 'one', 'difficult', 'problems', 'nearest', 'neighbor', 'search', 'value', 'gives', 'predictive', 'information', 'value', 'Search', 'efficiency', 'data', 'varying', 'dimensionality', 'We', 'experimented', 'random', 'vectors', 'image', 'patches', 'data', 'sets', 'size', 'random', 'vectors', 'top', 'figure', 'represent', 'hardest', 'case', 'dimensions', 'correlations', 'problems', 'behave', 'like', 'image', 'patches', 'bottom', 'figure', 'Show', 'All', 'As', 'seen', 'top', 'part', 'Fig', 'searches', 'low', 'efficiency', 'higher', 'dimensional', 'data', 'percent', 'precision', 'approximate', 'search', 'speed', 'better', 'linear', 'search', 'number', 'dimensions', 'greater', 'performance', 'markedly', 'different', 'many', 'data', 'sets', 'bottom', 'part', 'Fig', 'shows', 'speedup', 'function', 'dimensionality', 'image', 'patches', 'resampled', 'achieve', 'varying', 'dimensionality', 'In', 'case', 'however', 'speedup', 'decrease', 'dimensionality', 'actually', 'increasing', 'precisions', 'This', 'explained', 'fact', 'exists', 'strong', 'correlation', 'dimensions', 'even', 'patches', 'dimensions', 'similarity', 'dimensions', 'provides', 'strong', 'evidence', 'overall', 'patch', 'similarity', 'Fig', 'shows', 'four', 'examples', 'queries', 'Trevi', 'data', 'set', 'patches', 'different', 'patch', 'sizes', 'Example', 'nearest', 'neighbor', 'queries', 'different', 'patch', 'sizes', 'Trevi', 'Fountain', 'patch', 'data', 'set', 'queried', 'using', 'different', 'patch', 'sizes', 'rows', 'arranged', 'decreasing', 'order', 'patch', 'size', 'query', 'patch', 'left', 'panel', 'following', 'five', 'patches', 'nearest', 'neighbors', 'set', 'patches', 'Incorrect', 'matches', 'respect', 'ground', 'truth', 'shown', 'X', 'Show', 'All', 'We', 'use', 'several', 'data', 'sets', 'different', 'sizes', 'experiments', 'Fig', 'We', 'construct', 'million', 'SIFT', 'feature', 'data', 'sets', 'randomly', 'sampling', 'data', 'set', 'million', 'SIFT', 'features', 'extracted', 'collection', 'CD', 'cover', 'images', 'We', 'also', 'use', 'million', 'SIFT', 'feature', 'data', 'set', 'source', 'Search', 'speedup', 'different', 'data', 'set', 'sizes', 'Show', 'All', 'desired', 'search', 'precision', 'determines', 'degree', 'speedup', 'obtained', 'approximate', 'algorithm', 'Looking', 'Fig', 'data', 'set', 'see', 'willing', 'accept', 'precision', 'low', 'percent', 'meaning', 'percent', 'neighbors', 'returned', 'exact', 'nearest', 'neighbors', 'approximations', 'achieve', 'speedup', 'three', 'orders', 'magnitude', 'linear', 'search', 'using', 'multiple', 'randomized', 'However', 'require', 'precision', 'greater', 'percent', 'speedup', 'smaller', 'less', 'orders', 'magnitude', 'using', 'priority', 'search', 'tree', 'We', 'compare', 'two', 'algorithms', 'found', 'best', 'finding', 'fast', 'approximate', 'nearest', 'neighbors', 'multiple', 'randomized', 'priority', 'search', 'tree', 'existing', 'approaches', 'ANN', 'LSH', 'algorithms', 'first', 'data', 'set', 'SIFT', 'features', 'Since', 'LSH', 'implementation', 'E', 'package', 'solves', 'neighbor', 'problem', 'finds', 'neighbors', 'within', 'radius', 'R', 'query', 'point', 'nearest', 'neighbors', 'find', 'nearest', 'neighbors', 'used', 'approach', 'suggested', 'user', 'manual', 'compute', 'neighbors', 'increasing', 'values', 'parameters', 'LSH', 'algorithm', 'chosen', 'using', 'parameter', 'estimation', 'tool', 'included', 'package', 'For', 'case', 'computed', 'precision', 'achieved', 'percentage', 'query', 'points', 'nearest', 'neighbors', 'correctly', 'found', 'Fig', 'shows', 'priority', 'search', 'algorithm', 'outperforms', 'ANN', 'LSH', 'algorithms', 'order', 'magnitude', 'results', 'ANN', 'consistent', 'experiment', 'Fig', 'ANN', 'uses', 'single', 'benefit', 'speedup', 'due', 'using', 'multiple', 'randomized', 'trees', 'Comparison', 'search', 'efficiency', 'several', 'nearest', 'neighbor', 'algorithms', 'Show', 'All', 'Fig', 'compares', 'performance', 'nearest', 'neighbor', 'matching', 'data', 'set', 'contains', 'true', 'matches', 'feature', 'test', 'set', 'case', 'contains', 'false', 'matches', 'A', 'true', 'match', 'match', 'query', 'nearest', 'neighbor', 'point', 'represent', 'entity', 'example', 'case', 'SIFT', 'features', 'represent', 'image', 'patches', 'object', 'In', 'experiment', 'used', 'two', 'SIFT', 'features', 'data', 'sets', 'one', 'ground', 'truth', 'determined', 'global', 'image', 'matching', 'one', 'randomly', 'sampled', 'million', 'SIFT', 'features', 'data', 'set', 'contains', 'false', 'matches', 'feature', 'test', 'set', 'Our', 'experiments', 'showed', 'randomized', 'significantly', 'better', 'performance', 'true', 'matches', 'query', 'features', 'likely', 'significantly', 'closer', 'neighbors', 'Similar', 'results', 'reported', 'Search', 'speedup', 'query', 'points', 'true', 'matches', 'data', 'set', 'versus', 'case', 'Show', 'All', 'Fig', 'shows', 'difference', 'performance', 'randomized', 'priority', 'search', 'tree', 'one', 'patches', 'data', 'set', 'In', 'case', 'randomized', 'algorithm', 'clearly', 'outperforms', 'priority', 'search', 'algorithm', 'everywhere', 'except', 'precisions', 'close', 'percent', 'It', 'appears', 'works', 'much', 'better', 'cases', 'intrinsic', 'dimensionality', 'data', 'much', 'lower', 'actual', 'dimensionality', 'presumably', 'better', 'exploit', 'correlations', 'among', 'dimensions', 'However', 'Fig', 'shows', 'tree', 'perform', 'better', 'data', 'sets', 'especially', 'high', 'precisions', 'This', 'shows', 'importance', 'performing', 'algorithm', 'selection', 'data', 'set', 'Search', 'speedup', 'Trevi', 'Fountain', 'patches', 'data', 'set', 'Show', 'All', 'In', 'Table', 'show', 'results', 'running', 'parameter', 'selection', 'procedure', 'described', 'Section', 'data', 'set', 'containing', 'randomly', 'sampled', 'SIFT', 'features', 'We', 'used', 'two', 'different', 'search', 'precisions', 'percent', 'several', 'combinations', 'tradeoff', 'factors', 'wb', 'wm', 'For', 'build', 'time', 'weight', 'wb', 'used', 'three', 'different', 'possible', 'values', 'representing', 'case', 'care', 'tree', 'build', 'time', 'case', 'tree', 'build', 'time', 'search', 'time', 'importance', 'representing', 'case', 'care', 'mainly', 'search', 'time', 'also', 'want', 'avoid', 'large', 'build', 'time', 'Similarly', 'memory', 'weight', 'chosen', 'case', 'memory', 'usage', 'concern', 'representing', 'case', 'memory', 'use', 'dominant', 'concern', 'middle', 'ground', 'two', 'cases', 'This', 'section', 'evaluates', 'performance', 'hierarchical', 'clustering', 'tree', 'described', 'Section', 'We', 'use', 'patches', 'data', 'set', 'compare', 'nearest', 'neighbor', 'search', 'performance', 'hierarchical', 'clustering', 'tree', 'well', 'known', 'nearest', 'neighbor', 'search', 'algorithms', 'For', 'comparison', 'use', 'combination', 'vector', 'features', 'SIFT', 'SURF', 'image', 'patches', 'binary', 'features', 'BRIEF', 'ORB', 'image', 'patches', 'downscaled', 'pixels', 'matched', 'using', 'normalized', 'cross', 'correlation', 'Fig', 'shows', 'nearest', 'neighbor', 'search', 'times', 'different', 'feature', 'types', 'Each', 'point', 'graph', 'computed', 'using', 'best', 'performing', 'algorithm', 'particular', 'feature', 'type', 'randomized', 'priority', 'search', 'tree', 'SIFT', 'SURF', 'image', 'patches', 'hierarchical', 'clustering', 'algorithm', 'BRIEF', 'ORB', 'In', 'case', 'optimum', 'choice', 'parameters', 'maximizes', 'speedup', 'given', 'precision', 'used', 'Absolute', 'search', 'time', 'different', 'popular', 'feature', 'types', 'binary', 'vector', 'Show', 'All', 'In', 'Fig', 'compare', 'hierarchical', 'clustering', 'tree', 'locality', 'sensitive', 'hashing', 'implementation', 'For', 'comparison', 'used', 'data', 'sets', 'BRIEF', 'ORB', 'features', 'extracted', 'recognition', 'benchmark', 'images', 'data', 'set', 'containing', 'close', 'million', 'features', 'It', 'seen', 'hierarchical', 'clustering', 'index', 'outperforms', 'LSH', 'implementation', 'data', 'set', 'LSH', 'implementation', 'also', 'requires', 'significantly', 'memory', 'compared', 'hierarchical', 'clustering', 'trees', 'high', 'precision', 'required', 'needs', 'allocate', 'large', 'number', 'hash', 'tables', 'achieve', 'high', 'search', 'precision', 'In', 'experiment', 'Fig', 'LSH', 'required', 'six', 'times', 'memory', 'hierarchical', 'search', 'search', 'precisions', 'percent', 'Comparison', 'hierarchical', 'clustering', 'index', 'LSH', 'recognition', 'benchmark', 'images', 'data', 'set', 'million', 'features', 'Show', 'All', 'Many', 'papers', 'shown', 'using', 'simple', 'methods', 'conjunction', 'large', 'scale', 'data', 'sets', 'lead', 'good', 'recognition', 'performance', 'Scaling', 'large', 'data', 'sets', 'difficult', 'task', 'one', 'main', 'challenges', 'impossibility', 'loading', 'data', 'main', 'memory', 'single', 'machine', 'For', 'example', 'size', 'raw', 'tiny', 'images', 'data', 'set', 'GB', 'greater', 'found', 'computers', 'present', 'Fitting', 'data', 'memory', 'even', 'problematic', 'data', 'sets', 'size', 'used', 'When', 'dealing', 'large', 'amounts', 'data', 'possible', 'solutions', 'include', 'performing', 'dimensionality', 'reduction', 'data', 'keeping', 'data', 'disk', 'loading', 'parts', 'main', 'memory', 'distributing', 'data', 'several', 'computers', 'using', 'distributed', 'nearest', 'neighbor', 'search', 'algorithm', 'Dimensionality', 'reduction', 'used', 'literature', 'good', 'results', 'however', 'even', 'dimensionality', 'reduction', 'challenging', 'fit', 'data', 'memory', 'single', 'machine', 'large', 'data', 'sets', 'Storing', 'data', 'disk', 'involves', 'significant', 'performance', 'penalties', 'due', 'performance', 'gap', 'memory', 'disk', 'access', 'times', 'In', 'FLANN', 'used', 'approach', 'performing', 'distributed', 'nearest', 'neighbor', 'search', 'across', 'multiple', 'machines', 'In', 'order', 'scale', 'large', 'data', 'sets', 'use', 'approach', 'distributing', 'data', 'multiple', 'machines', 'compute', 'cluster', 'perform', 'nearest', 'neighbor', 'search', 'using', 'machines', 'parallel', 'data', 'distributed', 'equally', 'machines', 'cluster', 'N', 'machines', 'index', 'search', 'whole', 'data', 'set', 'although', 'ratios', 'changed', 'data', 'machines', 'others', 'final', 'result', 'nearest', 'neighbor', 'search', 'obtained', 'merging', 'partial', 'results', 'machines', 'cluster', 'completed', 'search', 'In', 'order', 'distribute', 'nearest', 'neighbor', 'matching', 'compute', 'cluster', 'implemented', 'like', 'algorithm', 'using', 'message', 'passing', 'interface', 'MPI', 'specification', 'Algorithm', 'describes', 'procedure', 'building', 'distributed', 'nearest', 'neighbor', 'matching', 'index', 'Each', 'process', 'cluster', 'executes', 'parallel', 'reads', 'distributed', 'filesystem', 'fraction', 'data', 'set', 'All', 'processes', 'build', 'nearest', 'neighbor', 'search', 'index', 'parallel', 'using', 'respective', 'data', 'set', 'fractions', 'Show', 'All', 'In', 'order', 'search', 'distributed', 'index', 'query', 'sent', 'client', 'one', 'computers', 'MPI', 'cluster', 'call', 'master', 'server', 'see', 'Fig', 'By', 'convention', 'master', 'server', 'process', 'rank', 'MPI', 'cluster', 'however', 'process', 'MPI', 'cluster', 'play', 'role', 'master', 'server', 'Scaling', 'nearest', 'neighbor', 'search', 'compute', 'cluster', 'using', 'message', 'passing', 'interface', 'standard', 'Show', 'All', 'master', 'server', 'broadcasts', 'query', 'processes', 'cluster', 'process', 'run', 'nearest', 'neighbor', 'matching', 'parallel', 'fraction', 'data', 'When', 'search', 'complete', 'MPI', 'reduce', 'operation', 'used', 'merge', 'results', 'back', 'master', 'process', 'final', 'result', 'returned', 'client', 'master', 'server', 'bottleneck', 'merging', 'results', 'MPI', 'reduce', 'operation', 'also', 'distributed', 'partial', 'results', 'merged', 'two', 'two', 'hierarchical', 'fashion', 'servers', 'cluster', 'master', 'server', 'Additionally', 'merge', 'operation', 'efficient', 'since', 'distances', 'query', 'neighbors', 'returned', 'nearest', 'neighbor', 'search', 'operations', 'server', 'Show', 'All', 'When', 'distributing', 'large', 'data', 'set', 'purpose', 'nearest', 'neighbor', 'search', 'chose', 'partition', 'data', 'multiple', 'disjoint', 'subsets', 'construct', 'independent', 'indexes', 'subsets', 'During', 'search', 'query', 'broadcast', 'indexes', 'performs', 'nearest', 'neighbor', 'search', 'within', 'associated', 'data', 'In', 'different', 'approach', 'Aly', 'et', 'al', 'introduce', 'distributed', 'tree', 'implementation', 'place', 'root', 'tree', 'top', 'trees', 'leaf', 'trees', 'role', 'selecting', 'subset', 'trees', 'searched', 'send', 'query', 'trees', 'They', 'show', 'distributed', 'tree', 'higher', 'throughput', 'compared', 'using', 'independent', 'trees', 'due', 'fact', 'portion', 'trees', 'need', 'searched', 'query', 'partitioning', 'data', 'set', 'independent', 'subsets', 'described', 'implemented', 'FLANN', 'advantage', 'depend', 'type', 'index', 'used', 'randomized', 'priority', 'search', 'tree', 'hierarchical', 'clustering', 'LSH', 'applied', 'current', 'future', 'nearest', 'neighbor', 'algorithm', 'FLANN', 'In', 'distributed', 'tree', 'implementation', 'search', 'backtrack', 'root', 'node', 'possible', 'subsets', 'data', 'containing', 'near', 'points', 'searched', 'root', 'tree', 'select', 'corresponding', 'leaf', 'trees', 'beginning', 'In', 'section', 'present', 'several', 'experiments', 'demonstrate', 'effectiveness', 'distributed', 'nearest', 'neighbor', 'matching', 'framework', 'FLANN', 'For', 'experiments', 'used', 'million', 'patch', 'data', 'set', 'In', 'MPI', 'distributed', 'system', 'possible', 'run', 'multiple', 'parallel', 'processes', 'machine', 'recommended', 'approach', 'run', 'many', 'processes', 'CPU', 'cores', 'machine', 'Fig', 'presents', 'results', 'experiment', 'run', 'multiple', 'MPI', 'processes', 'single', 'machine', 'eight', 'CPU', 'cores', 'It', 'seen', 'overall', 'performance', 'improves', 'increasing', 'number', 'processes', 'however', 'decrease', 'performance', 'moving', 'four', 'eight', 'parallel', 'processes', 'This', 'explained', 'fact', 'increasing', 'parallelism', 'machine', 'also', 'increases', 'number', 'requests', 'main', 'memory', 'since', 'processes', 'share', 'main', 'memory', 'point', 'bottleneck', 'moves', 'CPU', 'memory', 'Increasing', 'parallelism', 'past', 'point', 'results', 'decreased', 'performance', 'Fig', 'also', 'shows', 'direct', 'search', 'performance', 'obtained', 'using', 'FLANN', 'directly', 'without', 'MPI', 'layer', 'As', 'expected', 'direct', 'search', 'performance', 'identical', 'performance', 'obtained', 'using', 'MPI', 'layer', 'single', 'process', 'showing', 'significant', 'overhead', 'MPI', 'runtime', 'For', 'experiment', 'one', 'Fig', 'used', 'subset', 'million', 'tiny', 'images', 'able', 'run', 'experiment', 'single', 'machine', 'Distributing', 'nearest', 'neighbor', 'search', 'single', 'machine', 'When', 'degree', 'parallelism', 'increases', 'beyond', 'certain', 'point', 'memory', 'access', 'becomes', 'bottleneck', 'direct', 'search', 'case', 'corresponds', 'using', 'FLANN', 'library', 'directly', 'without', 'MPI', 'layer', 'Show', 'All', 'advantage', 'distributing', 'search', 'multiple', 'machines', 'Even', 'using', 'number', 'parallel', 'processes', 'distributing', 'computation', 'multiple', 'machines', 'still', 'leads', 'improvement', 'performance', 'due', 'less', 'memory', 'access', 'overhead', 'Direct', 'search', 'corresponds', 'using', 'FLANN', 'without', 'MPI', 'layer', 'provided', 'comparison', 'baseline', 'Show', 'All', 'Fig', 'shows', 'performance', 'obtained', 'using', 'eight', 'parallel', 'processes', 'one', 'two', 'three', 'machines', 'Even', 'though', 'number', 'parallel', 'processes', 'used', 'seen', 'performance', 'increases', 'processes', 'distributed', 'machines', 'This', 'also', 'explained', 'memory', 'access', 'overhead', 'since', 'machines', 'used', 'fewer', 'processes', 'running', 'machine', 'requiring', 'fewer', 'memory', 'accesses', 'Fig', 'shows', 'search', 'speedup', 'data', 'set', 'million', 'tiny', 'images', 'algorithm', 'used', 'radomized', 'tree', 'forest', 'determined', 'procedure', 'efficient', 'case', 'It', 'seen', 'search', 'performance', 'scales', 'well', 'data', 'set', 'size', 'benefits', 'using', 'multiple', 'parallel', 'processes', 'Matching', 'million', 'tiny', 'images', 'directly', 'using', 'compute', 'cluster', 'Show', 'All', 'All', 'previous', 'experiments', 'shown', 'distributing', 'nearest', 'neighbor', 'search', 'multiple', 'machines', 'results', 'overall', 'increase', 'performance', 'addition', 'advantage', 'able', 'use', 'memory', 'Ideally', 'distributing', 'search', 'N', 'machines', 'speedup', 'would', 'N', 'times', 'higher', 'however', 'practice', 'approximate', 'nearest', 'neighbor', 'search', 'speedup', 'smaller', 'due', 'fact', 'search', 'machines', 'complexity', 'size', 'input', 'data', 'set', 'work', 'presented', 'paper', 'made', 'publicly', 'available', 'open', 'source', 'library', 'named', 'Fast', 'Library', 'Approximate', 'Nearest', 'Neighbors', 'FLANN', 'used', 'large', 'number', 'research', 'industry', 'projects', 'widely', 'used', 'computer', 'vision', 'community', 'part', 'due', 'inclusion', 'OpenCV', 'popular', 'open', 'source', 'computer', 'vision', 'library', 'FLANN', 'also', 'used', 'well', 'known', 'open', 'source', 'projects', 'point', 'cloud', 'library', 'PCL', 'robot', 'operating', 'system', 'ROS', 'FLANN', 'packaged', 'mainstream', 'Linux', 'distributions', 'Debian', 'Ubuntu', 'Fedora', 'Arch', 'Gentoo', 'derivatives', 'This', 'paper', 'addresses', 'problem', 'fast', 'nearest', 'neighbor', 'search', 'high', 'dimensional', 'spaces', 'core', 'problem', 'many', 'computer', 'vision', 'machine', 'learning', 'algorithms', 'often', 'computationally', 'expensive', 'part', 'algorithms', 'We', 'present', 'compare', 'algorithms', 'found', 'work', 'best', 'fast', 'approximate', 'search', 'high', 'dimensional', 'spaces', 'randomized', 'trees', 'newly', 'introduced', 'algorithm', 'priority', 'search', 'tree', 'We', 'introduce', 'new', 'algorithm', 'fast', 'approximate', 'matching', 'binary', 'features', 'We', 'address', 'issues', 'arising', 'scaling', 'large', 'size', 'data', 'sets', 'proposing', 'algorithm', 'distributed', 'nearest', 'neighbor', 'matching', 'compute', 'clusters']\n"
     ]
    }
   ],
   "source": [
    "text_tokens = word_tokenize(article)\n",
    "tokens_without_sw = [word for word in text_tokens if word.isalpha() and word not in all_stopwords]\n",
    "\n",
    "print(tokens_without_sw)\n",
    "#print(filtered_sentence)"
   ]
  },
  {
   "cell_type": "code",
   "execution_count": 7,
   "metadata": {},
   "outputs": [
    {
     "name": "stdout",
     "output_type": "stream",
     "text": [
      "[('search', 144), ('data', 121), ('tree', 85), ('nearest', 83), ('neighbor', 77), ('using', 57), ('algorithm', 56), ('set', 51), ('performance', 42), ('algorithms', 37), ('time', 37), ('In', 36), ('sets', 34), ('used', 34), ('randomized', 33), ('number', 33), ('trees', 32), ('approximate', 31), ('memory', 31), ('points', 30), ('We', 29), ('priority', 29), ('clustering', 27), ('neighbors', 27), ('query', 27), ('q', 27), ('features', 26), ('large', 24), ('All', 24), ('Fig', 24), ('point', 23), ('matching', 22), ('multiple', 22), ('case', 22), ('Show', 21), ('hierarchical', 20), ('different', 19), ('cluster', 19), ('many', 18), ('one', 18), ('parameter', 18), ('use', 18), ('LSH', 18), ('FLANN', 17), ('also', 16), ('patches', 16), ('P', 16), ('K', 16), ('hashing', 16), ('dimensionality', 16), ('found', 16), ('build', 16), ('speedup', 16), ('θ', 16), ('parameters', 15), ('best', 15), ('distributed', 15), ('results', 15), ('machines', 15), ('machine', 14), ('propose', 14), ('random', 14), ('processes', 14), ('For', 13), ('image', 13), ('space', 13), ('experiments', 13), ('shows', 13), ('SIFT', 13), ('MPI', 13), ('high', 12), ('two', 12), ('parallel', 12), ('precision', 12), ('Search', 11), ('several', 11), ('This', 11), ('graph', 11), ('overhead', 11), ('computer', 10), ('vision', 10), ('efficient', 10), ('binary', 10), ('methods', 10), ('single', 10), ('percent', 10), ('Source', 10), ('A', 10), ('queue', 10), ('dimensions', 10), ('obtained', 10), ('million', 10), ('finding', 9), ('matches', 9), ('dimensional', 9), ('order', 9), ('library', 9), ('Algorithm', 9), ('problem', 9), ('selection', 9), ('distance', 9), ('x', 9), ('R', 9), ('partitioning', 9), ('leaf', 9), ('better', 9), ('however', 9), ('cost', 9), ('process', 9), ('optimum', 9), ('node', 9), ('patch', 9), ('Nearest', 8), ('part', 8), ('proposed', 8), ('paper', 8), ('feature', 8), ('When', 8), ('method', 8), ('optimization', 8), ('compute', 8), ('closest', 8), ('operation', 8), ('et', 8), ('al', 8), ('perform', 8), ('approach', 8), ('index', 8), ('well', 8), ('increasing', 8), ('O', 8), ('size', 8), ('images', 8), ('new', 7), ('compare', 7), ('searching', 7), ('show', 7), ('fast', 7), ('performing', 7), ('importance', 7), ('It', 7), ('exact', 7), ('close', 7), ('practice', 7), ('cases', 7), ('first', 7), ('radius', 7), ('section', 7), ('searched', 7), ('constructed', 7), ('computed', 7), ('top', 7), ('implementation', 7), ('seen', 7), ('required', 7), ('values', 7), ('iterations', 7), ('run', 7), ('sizes', 7), ('distributing', 7), ('master', 7), ('server', 7), ('Neighbor', 6), ('good', 6), ('vectors', 6), ('represent', 6), ('find', 6), ('described', 6), ('source', 6), ('NN', 6), ('speed', 6), ('magnitude', 6), ('recognition', 6), ('shown', 6), ('known', 6), ('returned', 6), ('present', 6), ('work', 6), ('value', 6), ('significant', 6), ('effective', 6), ('structure', 6), ('compared', 6), ('possible', 6), ('Section', 6), ('randomly', 6), ('across', 6), ('increases', 6), ('branching', 6), ('factors', 6), ('overall', 6), ('complexity', 6), ('experiment', 6), ('due', 6), ('learning', 5), ('outperforms', 5), ('literature', 5), ('configuration', 5), ('open', 5), ('orders', 5), ('applications', 5), ('global', 5), ('containing', 5), ('spaces', 5), ('defined', 5), ('following', 5), ('return', 5), ('chosen', 5), ('techniques', 5), ('three', 5), ('low', 5), ('true', 5), ('nodes', 5), ('decomposition', 5), ('various', 5), ('construction', 5), ('small', 5), ('significantly', 5), ('branch', 5), ('see', 5), ('factor', 5), ('contains', 5), ('needs', 5), ('times', 5), ('precisions', 5), ('main', 5), ('problems', 4), ('training', 4), ('key', 4), ('However', 4), ('expensive', 4), ('previous', 4), ('forest', 4), ('typically', 4), ('optimal', 4), ('procedure', 4), ('research', 4), ('Matching', 4), ('similar', 4), ('improvements', 4), ('local', 4), ('descriptors', 4), ('often', 4), ('linear', 4), ('metric', 4), ('performed', 4), ('View', 4), ('quantization', 4), ('based', 4), ('improves', 4), ('without', 4), ('dependent', 4), ('exploration', 4), ('comparison', 4), ('grid', 4), ('performs', 4), ('full', 4), ('level', 4), ('root', 4), ('inner', 4), ('initial', 4), ('less', 4), ('centres', 4), ('even', 4), ('relative', 4), ('efficiency', 4), ('BRIEF', 4), ('ORB', 4), ('vector', 4), ('computers', 4), ('c', 4), ('wb', 4), ('step', 4), ('fraction', 4), ('type', 4), ('sampled', 4), ('fact', 4), ('ANN', 4), ('tiny', 4), ('access', 4), ('subsets', 4), ('layer', 4), ('Algorithms', 3), ('Data', 3), ('computationally', 3), ('consists', 3), ('particular', 3), ('scale', 3), ('called', 3), ('popular', 3), ('Fast', 3), ('Approximate', 3), ('Scaling', 3), ('Automatic', 3), ('Tree', 3), ('include', 3), ('obtaining', 3), ('still', 3), ('faster', 3), ('existing', 3), ('automatic', 3), ('clusters', 3), ('follows', 3), ('given', 3), ('KNN', 3), ('RNN', 3), ('closer', 3), ('define', 3), ('p', 3), ('passing', 3), ('RKNN', 3), ('combination', 3), ('widely', 3), ('presents', 3), ('authors', 3), ('Another', 3), ('way', 3), ('give', 3), ('wide', 3), ('range', 3), ('showing', 3), ('hyperplanes', 3), ('benefit', 3), ('Example', 3), ('decompositions', 3), ('cover', 3), ('vocabulary', 3), ('standard', 3), ('sensitive', 3), ('hash', 3), ('functions', 3), ('requiring', 3), ('projects', 3), ('explore', 3), ('strategy', 3), ('starting', 3), ('future', 3), ('building', 3), ('There', 3), ('papers', 3), ('choice', 3), ('These', 3), ('difference', 3), ('dimension', 3), ('boundary', 3), ('degree', 3), ('determined', 3), ('maximum', 3), ('cell', 3), ('especially', 3), ('construct', 3), ('smaller', 3), ('ratio', 3), ('distances', 3), ('fewer', 3), ('reduce', 3), ('measure', 3), ('running', 3), ('convergence', 3), ('During', 3), ('complete', 3), ('example', 3), ('result', 3), ('input', 3), ('presented', 3), ('correlation', 3), ('As', 3), ('solution', 3), ('function', 3), ('care', 3), ('much', 3), ('queries', 3), ('b', 3), ('weight', 3), ('extracted', 3), ('higher', 3), ('greater', 3), ('achieve', 3), ('explained', 3), ('Trevi', 3), ('ground', 3), ('representing', 3), ('reduction', 3), ('disk', 3), ('N', 3), ('bottleneck', 3), ('since', 3), ('independent', 3), ('advantage', 3), ('CPU', 3), ('eight', 3), ('parallelism', 3), ('direct', 3), ('directly', 3), ('evaluate', 2), ('depend', 2), ('describe', 2), ('would', 2), ('fit', 2), ('framework', 2), ('released', 2), ('OpenCV', 2), ('Library', 2), ('Selection', 2), ('Optimal', 2), ('Binary', 2), ('Techniques', 2), ('Dimensionality', 2), ('referred', 2), ('bring', 2), ('visual', 2), ('estimation', 2), ('object', 2), ('normalized', 2), ('including', 2), ('quickly', 2), ('becomes', 2), ('improvement', 2), ('meaning', 2), ('common', 2), ('provide', 2), ('application', 2), ('approximations', 2), ('little', 2), ('scaling', 2), ('named', 2), ('respect', 2), ('efficiently', 2), ('goal', 2), ('manner', 2), ('property', 2), ('always', 2), ('Depending', 2), ('whole', 2), ('limit', 2), ('review', 2), ('considering', 2), ('dist', 2), ('approximating', 2), ('bound', 2), ('stopped', 2), ('examining', 2), ('fixed', 2), ('approximation', 2), ('evaluating', 2), ('decompose', 2), ('conducted', 2), ('task', 2), ('others', 2), ('product', 2), ('subspaces', 2), ('compact', 2), ('codes', 2), ('inverted', 2), ('considered', 2), ('evaluation', 2), ('incorporation', 2), ('technique', 2), ('locality', 2), ('uses', 2), ('elements', 2), ('likely', 2), ('tables', 2), ('Forest', 2), ('tuning', 2), ('highly', 2), ('quality', 2), ('kernel', 2), ('reported', 2), ('usually', 2), ('strategies', 2), ('get', 2), ('select', 2), ('seeds', 2), ('fashion', 2), ('Similarly', 2), ('They', 2), ('improve', 2), ('systematic', 2), ('among', 2), ('internal', 2), ('manual', 2), ('heuristics', 2), ('approaches', 2), ('downhill', 2), ('simplex', 2), ('except', 2), ('interest', 2), ('After', 2), ('built', 2), ('classic', 2), ('highest', 2), ('variance', 2), ('decision', 2), ('leaves', 2), ('visited', 2), ('certain', 2), ('leads', 2), ('decreasing', 2), ('gives', 2), ('exploring', 2), ('splitting', 2), ('lies', 2), ('probability', 2), ('either', 2), ('side', 2), ('hyperplane', 2), ('second', 2), ('situations', 2), ('exploit', 2), ('contrast', 2), ('whether', 2), ('searches', 2), ('regions', 2), ('recursively', 2), ('region', 2), ('traversing', 2), ('centre', 2), ('unexplored', 2), ('branches', 2), ('added', 2), ('traversal', 2), ('choosing', 2), ('indicating', 2), ('near', 2), ('loop', 2), ('consider', 2), ('influence', 2), ('selecting', 2), ('made', 2), ('Considering', 2), ('associated', 2), ('ndKI', 2), ('constrained', 2), ('Kd', 2), ('community', 2), ('Many', 2), ('suitable', 2), ('requires', 2), ('followed', 2), ('Our', 2), ('desired', 2), ('Additionally', 2), ('By', 2), ('min', 2), ('queried', 2), ('wm', 2), ('usage', 2), ('applied', 2), ('sampling', 2), ('CD', 2), ('difficult', 2), ('varying', 2), ('figure', 2), ('correlations', 2), ('like', 2), ('bottom', 2), ('decrease', 2), ('strong', 2), ('similarity', 2), ('four', 2), ('Fountain', 2), ('truth', 2), ('package', 2), ('within', 2), ('Comparison', 2), ('test', 2), ('false', 2), ('match', 2), ('concern', 2), ('SURF', 2), ('types', 2), ('Each', 2), ('benchmark', 2), ('loading', 2), ('final', 2), ('merging', 2), ('partial', 2), ('implemented', 2), ('message', 2), ('interface', 2), ('client', 2), ('role', 2), ('merge', 2), ('indexes', 2), ('introduce', 2), ('subset', 2), ('system', 2), ('cores', 2), ('able', 2), ('corresponds', 2), ('Even', 2), ('Scalable', 1), ('High', 1), ('Dimensional', 1), ('Abstract', 1), ('characteristics', 1), ('automated', 1), ('otherwise', 1), ('incorporated', 1), ('libraries', 1), ('Definitions', 1), ('Notation', 1), ('Configuration', 1), ('Randomized', 1), ('Priority', 1), ('Hierarchical', 1), ('Clustering', 1), ('Features', 1), ('Searching', 1), ('Compute', 1), ('Cluster', 1), ('Evaluation', 1), ('Distributed', 1), ('Partitioning', 1), ('Trees', 1), ('Hashing', 1), ('Based', 1), ('Graph', 1), ('Description', 1), ('Analysis', 1), ('Precision', 1), ('Having', 1), ('Examples', 1), ('words', 1), ('scene', 1), ('human', 1), ('pose', 1), ('deformable', 1), ('shapes', 1), ('NCC', 1), ('major', 1), ('document', 1), ('retrieval', 1), ('compression', 1), ('analysis', 1), ('Today', 1), ('Internet', 1), ('vast', 1), ('resource', 1), ('employed', 1), ('issue', 1), ('working', 1), ('encountered', 1), ('acceptable', 1), ('To', 1), ('obtain', 1), ('practical', 1), ('forced', 1), ('settle', 1), ('correct', 1), ('larger', 1), ('loss', 1), ('rather', 1), ('promising', 1), ('ones', 1), ('discuss', 1), ('concerned', 1), ('pn', 1), ('M', 1), ('element', 1), ('arg', 1), ('interested', 1), ('ways', 1), ('depending', 1), ('located', 1), ('formally', 1), ('satisfies', 1), ('conditions', 1), ('exactly', 1), ('least', 1), ('zero', 1), ('inefficient', 1), ('Radius', 1), ('placed', 1), ('Randd', 1), ('fundamental', 1), ('fields', 1), ('studied', 1), ('area', 1), ('classified', 1), ('categories', 1), ('neighboring', 1), ('While', 1), ('decreases', 1), ('Arya', 1), ('variation', 1), ('error', 1), ('limiting', 1), ('spent', 1), ('early', 1), ('criterion', 1), ('Multiple', 1), ('means', 1), ('comparisons', 1), ('Variations', 1), ('trinary', 1), ('projection', 1), ('outweighed', 1), ('class', 1), ('instead', 1), ('variants', 1), ('GNAT', 1), ('anchors', 1), ('hierarchy', 1), ('Nister', 1), ('Stewenius', 1), ('accessing', 1), ('Leibe', 1), ('mixed', 1), ('Schindler', 1), ('Philbin', 1), ('flat', 1), ('modified', 1), ('Jégou', 1), ('indices', 1), ('asymmetric', 1), ('Babenko', 1), ('Lempitsky', 1), ('replacing', 1), ('denser', 1), ('subdivision', 1), ('Both', 1), ('Perhaps', 1), ('hashes', 1), ('Variants', 1), ('storage', 1), ('costs', 1), ('reducing', 1), ('adapts', 1), ('hand', 1), ('body', 1), ('targeted', 1), ('improving', 1), ('spectral', 1), ('learned', 1), ('metrics', 1), ('kernelized', 1), ('learnt', 1), ('embeddings', 1), ('optimized', 1), ('complementary', 1), ('theoretical', 1), ('guarantees', 1), ('successfully', 1), ('outperformed', 1), ('structures', 1), ('vertices', 1), ('edges', 1), ('connect', 1), ('separated', 1), ('start', 1), ('pick', 1), ('recent', 1), ('favourably', 1), ('suffer', 1), ('quite', 1), ('Wang', 1), ('hundreds', 1), ('published', 1), ('guide', 1), ('setting', 1), ('carried', 1), ('rarely', 1), ('make', 1), ('Bawa', 1), ('critically', 1), ('length', 1), ('eliminates', 1), ('combining', 1), ('finer', 1), ('grained', 1), ('extensive', 1), ('aware', 1), ('apply', 1), ('Bergstra', 1), ('Bengio', 1), ('Exact', 1), ('costly', 1), ('generated', 1), ('gave', 1), ('remainder', 1), ('builds', 1), ('splits', 1), ('split', 1), ('ND', 1), ('maintained', 1), ('ordered', 1), ('Once', 1), ('examined', 1), ('inside', 1), ('marked', 1), ('another', 1), ('returning', 1), ('candidates', 1), ('static', 1), ('linearly', 1), ('may', 1), ('justify', 1), ('additional', 1), ('Speedup', 1), ('intuition', 1), ('behind', 1), ('almost', 1), ('equal', 1), ('opposite', 1), ('Using', 1), ('tries', 1), ('natural', 1), ('partitions', 1), ('schemes', 1), ('previously', 1), ('differ', 1), ('agglomerative', 1), ('form', 1), ('developed', 1), ('improved', 1), ('version', 1), ('explores', 1), ('analogy', 1), ('distinct', 1), ('applying', 1), ('recursion', 1), ('initially', 1), ('adding', 1), ('along', 1), ('path', 1), ('sorted', 1), ('resumes', 1), ('important', 1), ('visualisation', 1), ('Projections', 1), ('projections', 1), ('gray', 1), ('darkest', 1), ('fall', 1), ('boundaries', 1), ('Imax', 1), ('Performing', 1), ('substantially', 1), ('slightly', 1), ('sum', 1), ('squared', 1), ('errors', 1), ('optimality', 1), ('observed', 1), ('illustrated', 1), ('seven', 1), ('Figure', 1), ('picking', 1), ('controlled', 1), ('Calg', 1), ('Gonzales', 1), ('spaced', 1), ('apart', 1), ('terms', 1), ('analysing', 1), ('requirements', 1), ('storing', 1), ('Construction', 1), ('v', 1), ('nv', 1), ('assuming', 1), ('I', 1), ('nvdKI', 1), ('represents', 1), ('Taking', 1), ('account', 1), ('constructing', 1), ('Assuming', 1), ('balanced', 1), ('height', 1), ('resulting', 1), ('total', 1), ('stops', 1), ('L', 1), ('traversals', 1), ('check', 1), ('child', 1), ('accomplished', 1), ('amortized', 1), ('binomial', 1), ('heaps', 1), ('takes', 1), ('summary', 1), ('Ld', 1), ('recently', 1), ('BRISK', 1), ('independently', 1), ('averaged', 1), ('Hamming', 1), ('bitwise', 1), ('XOR', 1), ('bit', 1), ('count', 1), ('hardware', 1), ('support', 1), ('counting', 1), ('bits', 1), ('word', 1), ('briefly', 1), ('detailed', 1), ('description', 1), ('reader', 1), ('encouraged', 1), ('consult', 1), ('centers', 1), ('resulted', 1), ('revealed', 1), ('already', 1), ('mention', 1), ('manually', 1), ('generic', 1), ('routine', 1), ('reduced', 1), ('determining', 1), ('Θ', 1), ('formulated', 1), ('configured', 1), ('must', 1), ('wish', 1), ('environments', 1), ('measured', 1), ('weights', 1), ('control', 1), ('controls', 1), ('steps', 1), ('feasible', 1), ('relatively', 1), ('locally', 1), ('Although', 1), ('guarantee', 1), ('minimum', 1), ('generate', 1), ('accurate', 1), ('saved', 1), ('Among', 1), ('overlapping', 1), ('forming', 1), ('panoramas', 1), ('accuracy', 1), ('divided', 1), ('refer', 1), ('analyse', 1), ('great', 1), ('impact', 1), ('degrades', 1), ('contain', 1), ('whose', 1), ('uniform', 1), ('distribution', 1), ('predictive', 1), ('information', 1), ('experimented', 1), ('hardest', 1), ('behave', 1), ('markedly', 1), ('resampled', 1), ('actually', 1), ('exists', 1), ('provides', 1), ('evidence', 1), ('examples', 1), ('rows', 1), ('arranged', 1), ('left', 1), ('panel', 1), ('five', 1), ('Incorrect', 1), ('X', 1), ('collection', 1), ('determines', 1), ('Looking', 1), ('willing', 1), ('accept', 1), ('require', 1), ('Since', 1), ('E', 1), ('solves', 1), ('finds', 1), ('suggested', 1), ('user', 1), ('tool', 1), ('included', 1), ('achieved', 1), ('percentage', 1), ('correctly', 1), ('consistent', 1), ('compares', 1), ('entity', 1), ('showed', 1), ('Similar', 1), ('versus', 1), ('clearly', 1), ('everywhere', 1), ('appears', 1), ('works', 1), ('intrinsic', 1), ('lower', 1), ('actual', 1), ('presumably', 1), ('Table', 1), ('combinations', 1), ('tradeoff', 1), ('mainly', 1), ('want', 1), ('avoid', 1), ('dominant', 1), ('middle', 1), ('evaluates', 1), ('downscaled', 1), ('pixels', 1), ('matched', 1), ('cross', 1), ('maximizes', 1), ('Absolute', 1), ('allocate', 1), ('six', 1), ('simple', 1), ('conjunction', 1), ('lead', 1), ('challenges', 1), ('impossibility', 1), ('raw', 1), ('GB', 1), ('Fitting', 1), ('problematic', 1), ('dealing', 1), ('amounts', 1), ('solutions', 1), ('keeping', 1), ('parts', 1), ('challenging', 1), ('Storing', 1), ('involves', 1), ('penalties', 1), ('gap', 1), ('equally', 1), ('although', 1), ('ratios', 1), ('changed', 1), ('completed', 1), ('distribute', 1), ('specification', 1), ('describes', 1), ('executes', 1), ('reads', 1), ('filesystem', 1), ('respective', 1), ('fractions', 1), ('sent', 1), ('call', 1), ('convention', 1), ('rank', 1), ('play', 1), ('broadcasts', 1), ('back', 1), ('merged', 1), ('servers', 1), ('operations', 1), ('purpose', 1), ('chose', 1), ('partition', 1), ('disjoint', 1), ('broadcast', 1), ('Aly', 1), ('place', 1), ('send', 1), ('throughput', 1), ('portion', 1), ('need', 1), ('current', 1), ('backtrack', 1), ('corresponding', 1), ('beginning', 1), ('demonstrate', 1), ('effectiveness', 1), ('recommended', 1), ('moving', 1), ('requests', 1), ('share', 1), ('moves', 1), ('Increasing', 1), ('past', 1), ('decreased', 1), ('expected', 1), ('identical', 1), ('runtime', 1), ('Distributing', 1), ('beyond', 1), ('computation', 1), ('Direct', 1), ('provided', 1), ('baseline', 1), ('though', 1), ('accesses', 1), ('radomized', 1), ('scales', 1), ('benefits', 1), ('increase', 1), ('addition', 1), ('Ideally', 1), ('publicly', 1), ('available', 1), ('Neighbors', 1), ('industry', 1), ('inclusion', 1), ('cloud', 1), ('PCL', 1), ('robot', 1), ('operating', 1), ('ROS', 1), ('packaged', 1), ('mainstream', 1), ('Linux', 1), ('distributions', 1), ('Debian', 1), ('Ubuntu', 1), ('Fedora', 1), ('Arch', 1), ('Gentoo', 1), ('derivatives', 1), ('addresses', 1), ('core', 1), ('newly', 1), ('introduced', 1), ('address', 1), ('issues', 1), ('arising', 1), ('proposing', 1)]\n"
     ]
    },
    {
     "data": {
      "image/png": "[encoded data removed]",
      "text/plain": [
       "<Figure size 1296x360 with 1 Axes>"
      ]
     },
     "metadata": {
      "needs_background": "light"
     },
     "output_type": "display_data"
    }
   ],
   "source": [
    "\n",
    "### Count histogram from every word manually ###\n",
    "#charsToRemove = \".,()\"\n",
    "#wordCounts = Counter(tokens_without_sw)\n",
    "wordCounts = Counter(tokens_without_sw)\n",
    "wordCounts = wordCounts.most_common()\n",
    "\n",
    "print(wordCounts)\n",
    "\n",
    "wordCounts = wordCounts[0:20]\n",
    "\n",
    "words = list(zip(*wordCounts))[0]\n",
    "occurency = list(zip(*wordCounts))[1]\n",
    "fig, ax = plt.subplots(figsize=(18,5))\n",
    "plt.bar(np.arange(len(words)), occurency, align='center')\n",
    "plt.xticks(np.arange(len(words)), words, rotation='vertical')\n",
    "plt.ylabel('Keyword count')\n",
    "plt.xlabel('Keyword id')\n",
    "plt.show()"
   ]
  },
  {
   "cell_type": "code",
   "execution_count": 8,
   "metadata": {},
   "outputs": [
    {
     "name": "stdout",
     "output_type": "stream",
     "text": [
      "NCC - ORG\n",
      "NN - ORG\n",
      "NN - ORG\n",
      "KNN - ORG\n",
      "RNN - ORG\n",
      "KNN - ORG\n",
      "P K View Source KNN - ORG\n",
      "RKNN - ORG\n",
      "RKNN - ORG\n",
      "Variations - ORG\n",
      "Leibe - PERSON\n",
      "Schindler - PERSON\n",
      "Jégou - PERSON\n",
      "Babenko Lempitsky - PERSON\n",
      "LSH - ORG\n",
      "Variants LSH LSH - ORG\n",
      "LSH Forest - ORG\n",
      "LSH - ORG\n",
      "Nearest - ORG\n",
      "Wang - PERSON\n",
      "Bawa - PERSON\n",
      "LSH Forest - ORG\n",
      "downhill simplex - PERSON\n",
      "Bergstra Bengio - PERSON\n",
      "Exact - PERSON\n",
      "Fig - PERSON\n",
      "Fig - ORG\n",
      "Fig - PERSON\n",
      "ORB - ORG\n",
      "Hamming - ORG\n",
      "Depending - PERSON\n",
      "Section Data - ORG\n",
      "Fig - ORG\n",
      "Fig - ORG\n",
      "Fig - PERSON\n",
      "Fig - PERSON\n",
      "Trevi - PERSON\n",
      "Trevi Fountain - PERSON\n",
      "Fig - PERSON\n",
      "SIFT - ORG\n",
      "SIFT - PERSON\n",
      "Fig - PERSON\n",
      "Fig ANN - PERSON\n",
      "Comparison - ORG\n",
      "SIFT - ORG\n",
      "Trevi Fountain - ORG\n",
      "SIFT SURF - PERSON\n",
      "ORB - ORG\n",
      "Fig - ORG\n",
      "SIFT SURF - PERSON\n",
      "ORB - ORG\n",
      "ORB - ORG\n",
      "Fig LSH - PERSON\n",
      "Comparison - ORG\n",
      "Fitting - ORG\n",
      "N - ORG\n",
      "MPI - ORG\n",
      "Fig - PERSON\n",
      "MPI - ORG\n",
      "Aly - PERSON\n",
      "LSH - ORG\n",
      "MPI - ORG\n",
      "Fig - ORG\n",
      "MPI - ORG\n",
      "Fig - PERSON\n",
      "Fig - ORG\n",
      "Direct - ORG\n",
      "Fig - ORG\n",
      "N - ORG\n",
      "N times - ORG\n",
      "Fast Library Approximate Nearest Neighbors FLANN - ORG\n",
      "FLANN - PERSON\n",
      "PCL - ORG\n",
      "ROS FLANN - ORG\n",
      "Ubuntu Fedora Arch Gentoo - PERSON\n"
     ]
    }
   ],
   "source": [
    "#Use SpaCy to identify person-named entities and organization-named entities\n",
    "import spacy\n",
    "from spacy import displacy\n",
    "from collections import Counter\n",
    "import en_core_web_sm\n",
    "\n",
    "#vinkkiä https://towardsdatascience.com/named-entity-recognition-with-nltk-and-spacy-8c4a7d88e7da\n",
    "\n",
    "#Identifying person and organization-named entities\n",
    "wordsInStr = \"\"\n",
    "for word in tokens_without_sw:\n",
    "    wordsInStr += word\n",
    "    wordsInStr += \" \"\n",
    "    \n",
    "nlp = en_core_web_sm.load()\n",
    "doc = nlp(wordsInStr)\n",
    "\n",
    "#Print only ORG or PERSON labeled entities\n",
    "if doc.ents:\n",
    "    for ent in doc.ents:\n",
    "        if ent.label_ == \"ORG\" or ent.label_ == \"PERSON\":\n",
    "            print(ent.text+ \" - \" + ent.label_)\n",
    "else:\n",
    "    print(\"No named entities found.\")"
   ]
  },
  {
   "cell_type": "markdown",
   "metadata": {},
   "source": [
    "## TASK 3\n",
    "\n",
    "We would like the summarizer to contain frequent wording (excluding stopwords) and as many named-entities as possible. For this purpose, use the following heuristic to construct the summarizer. First we shall assume each sentence of the document as individual sub-document. Use TfIdf vectorizer to output the individual tfidef score of each word of each sentence (after initial preprocessing and wordnet lemmatization stage). Then consider only sentences that contain person or organization named-entities and use similar approach to output the tfidf score of the named-entities in each sentence. Finally construct the sentence (S) weight as a  weighted sum:\n",
    "<br>\n",
    "$$S_{weight}=\\sum_{w\\varepsilon S}W_{TfiDf}+2\\sum_{NM\\varepsilon S}NM_{TfiDf}+POS_s$$\n",
    "<br>\n",
    "where NMTfiDF stands for the TfIdF of named-entity NM in sentence S.  POSS corresponds to the sentence weight associated to the location of the sentence. So that the sentence location weight will be maximum (1) if located in the title of the document, 0.5 if located  in the title of one of the subsection, 0.25 if located in the title one of the subsubsection, 0.1 if located in one representative object of the document, and 0 if located only in the main text. Make sure to normalize the term tfidf and Nm tfidf weights and suggest a script to implement the preceding accordingly, so that the summarizer will contain the 10 sentences with the highest Sweight scores.  \n"
   ]
  },
  {
   "cell_type": "code",
   "execution_count": 9,
   "metadata": {},
   "outputs": [
    {
     "name": "stderr",
     "output_type": "stream",
     "text": [
      "[nltk_data] Downloading package punkt to\n",
      "[nltk_data]     C:\\Users\\Markus\\AppData\\Roaming\\nltk_data...\n",
      "[nltk_data]   Package punkt is already up-to-date!\n",
      "[nltk_data] Downloading package wordnet to\n",
      "[nltk_data]     C:\\Users\\Markus\\AppData\\Roaming\\nltk_data...\n",
      "[nltk_data]   Package wordnet is already up-to-date!\n"
     ]
    }
   ],
   "source": [
    "from nltk.stem import WordNetLemmatizer\n",
    "from nltk.stem.snowball import SnowballStemmer\n",
    "from nltk.tokenize import word_tokenize\n",
    "nltk.download('punkt')\n",
    "nltk.download('wordnet')\n",
    "from sklearn.feature_extraction.text import TfidfVectorizer\n",
    "from sklearn.preprocessing import MinMaxScaler\n",
    "import numpy as np\n",
    "import pandas as pd"
   ]
  },
  {
   "cell_type": "code",
   "execution_count": 10,
   "metadata": {},
   "outputs": [],
   "source": [
    "weights = {\n",
    "    \"1\": 1,\n",
    "    \"2\": 0.1,\n",
    "    \"3\": 0.5,\n",
    "    \"4\": 0.25,\n",
    "    \"else\": 0.0\n",
    "}"
   ]
  },
  {
   "cell_type": "code",
   "execution_count": 11,
   "metadata": {},
   "outputs": [],
   "source": [
    "def _calculateFullScores(sentenceScores, namedEntityScores, counts):\n",
    "    scaler = MinMaxScaler()\n",
    "    weightList= []\n",
    "\n",
    "    if len(counts) > 0:\n",
    "        if counts[2] == 0:\n",
    "            counts.pop[2]\n",
    "    else:\n",
    "        counts = [0, 0, 0, 0, len(sentenceScores)]\n",
    "\n",
    "    for i in range(len(counts)):\n",
    "        for j in range(counts[i]):\n",
    "            if i > 3:\n",
    "                weightList.append(weights[\"else\"])\n",
    "            else:\n",
    "                weightList.append(weights[str(i+1)])\n",
    "\n",
    "    df = pd.DataFrame({\n",
    "        \"Weights\": weightList,\n",
    "        \"SentenceScores\": sentenceScores,\n",
    "        \"EntityScores\": namedEntityScores,\n",
    "    })\n",
    "\n",
    "    df[[\"SentencesScaled\"]] = scaler.fit_transform(df[[\"SentenceScores\"]])\n",
    "    df[[\"EntitiesScaled\"]] = scaler.fit_transform(df[[\"EntityScores\"]])\n",
    "    df[\"S_weight\"] = df[\"SentencesScaled\"] + (2 * df[\"EntitiesScaled\"]) + df[\"Weights\"]\n",
    "\n",
    "    return df[\"S_weight\"].tolist()\n",
    "\n",
    "\n",
    "def _getNamedEntities(article):\n",
    "    nlp = en_core_web_sm.load()\n",
    "    doc = nlp(article)\n",
    "    namedEntities = []\n",
    "    \n",
    "    for ent in doc.ents:\n",
    "        if ent.label_ == \"ORG\" or ent.label_ == \"PERSON\":\n",
    "                namedEntities.append(ent.text)\n",
    "\n",
    "    return namedEntities\n",
    "\n",
    "\n",
    "def _getSentencesWithMaxWeights(weights, sentences, numberOfSentences):\n",
    "    arr = np.array(weights)\n",
    "    indexes = np.argpartition(arr, -numberOfSentences)[-numberOfSentences:]\n",
    "    sentences = np.array(sentences)\n",
    "    return sentences[indexes]\n",
    "\n",
    "\n",
    "def _preProcess(document):\n",
    "    stopwords = list(set(nltk.corpus.stopwords.words('english')))\n",
    "    WN_lemmatizer = WordNetLemmatizer()\n",
    "    sentences = sent_tokenize(document)\n",
    "    processedSentences = []\n",
    "    tokens = []\n",
    "\n",
    "    for sentence in sentences:\n",
    "        words = word_tokenize(sentence)\n",
    "        words = [WN_lemmatizer.lemmatize(word, pos=\"v\") for word in words]\n",
    "\n",
    "        # get rid of numbers and Stopwords\n",
    "        words = [word for word in words if word.isalpha() and word not in stopwords]\n",
    "        processedSentences.append(' '.join(word for word in words))\n",
    "        tokens.extend(words)\n",
    "\n",
    "    return processedSentences, tokens\n",
    "\n",
    "\n",
    "def _tfidfScores(corpus, sentences):\n",
    "    tfidf = TfidfVectorizer()\n",
    "    fittedVectorizer = tfidf.fit(corpus)\n",
    "    vectors = fittedVectorizer.transform(sentences).toarray()\n",
    "\n",
    "    scores = []\n",
    "    for i in range(len(vectors)):\n",
    "        score = 0\n",
    "        for j in range(len(vectors[i])):\n",
    "            score = score + vectors[i][j]\n",
    "\n",
    "        scores.append(score)\n",
    "    return scores"
   ]
  },
  {
   "cell_type": "code",
   "execution_count": 12,
   "metadata": {},
   "outputs": [
    {
     "name": "stdout",
     "output_type": "stream",
     "text": [
      "Our experiments have revealed that the optimal algorithm for approximate nearest neighbor search is highly dependent\n",
      " on several factors such as the data dimensionality, size and structure of the data set (whether there is any\n",
      " correlation between the features in the data set) and the desired search precision.\n",
      "\n",
      "For the comparison we use a combination of both vector features such as SIFT, SURF, image patches and\n",
      " binary features such as BRIEF and ORB.\n",
      "\n",
      "After evaluating many different algorithms for approximate nearest neighbor search on data sets with a wide range of\n",
      " dimensionality [14][47], we have\n",
      " found that one of two algorithms gave the best performance: the priority search k-means tree or\n",
      " the multiple randomized k-d trees.\n",
      "\n",
      "We show that the optimal nearest neighbor algorithm and its parameters depend on the data set characteristics and describe an automated configuration procedure for finding the best algorithm to search a particular data set.\n",
      "\n",
      "Scalable Nearest Neighbor Algorithms for High Dimensional Data.\n",
      "\n",
      "All this research has been released as an open source library called fast library for approximate nearest neighbors (FLANN), which has been incorporated into OpenCV and is now one of the most popular libraries for nearest neighbor matching.\n",
      "\n",
      "Each point on the graph is computed using the best\n",
      " performing algorithm for that particular feature type (randomized kd-trees or priority search k-means tree for SIFT,\n",
      " SURF, image patches and the hierarchical clustering algorithm for BRIEF and ORB).\n",
      "\n",
      "We have found the randomized k-d forest to be very effective in many situations, however on other data sets a\n",
      " different algorithm, the priority search k-means tree, has been more effective at finding approximate\n",
      " nearest neighbors, especially when a high precision is required.\n",
      "\n",
      "We compare the two algorithms we found to be the best at finding fast approximate nearest neighbors (the multiple\n",
      " randomized kd-trees and the priority search k-means tree) with existing approaches, the ANN \n",
      "[11] and LSH algorithms [29]\n",
      " on the first data set of 100,000 SIFT features.\n",
      "\n",
      "The partitioning of the data set into independent subsets, as described above and implemented in FLANN, has the\n",
      " advantage that it doesn’t depend on the type of index used (randomized kd-trees, priority search k-means tree,\n",
      " hierarchical clustering, LSH) and can be applied to any current or future nearest neighbor algorithm in FLANN.\n",
      "\n"
     ]
    }
   ],
   "source": [
    "def findTopSentences(document, numberOfSentences, isUrl):\n",
    "    sentences, tokens = _preProcess(document)\n",
    "    sentenceTfidfScores = _tfidfScores(tokens, sentences)\n",
    "    namedEntitiesTfidfScores = _tfidfScores(_getNamedEntities(document), sentences)\n",
    "    if isUrl:\n",
    "        SWeight = _calculateFullScores(sentenceTfidfScores, namedEntitiesTfidfScores, counts)\n",
    "    else:\n",
    "        SWeight = _calculateFullScores(sentenceTfidfScores, namedEntitiesTfidfScores, [])\n",
    "    topSentences = _getSentencesWithMaxWeights(SWeight, sent_tokenize(document), numberOfSentences)\n",
    "    return list(topSentences)\n",
    "\n",
    "topSentences = findTopSentences(article, 10, True)\n",
    "for sentence in topSentences:\n",
    "    print(\"{}\\n\".format(sentence))"
   ]
  },
  {
   "cell_type": "markdown",
   "metadata": {},
   "source": [
    "\n",
    "## TASK 4\n",
    "Test the above approach with Opinosis dataset available at https://kavita-ganesan.com/opinosis-opinion-dataset/#.YVw6J5ozY2x,  and record the corresponding Rouge-2 and Rouge-3 evaluation score. "
   ]
  },
  {
   "cell_type": "code",
   "execution_count": 13,
   "metadata": {},
   "outputs": [],
   "source": [
    "#Rouge 2 ja 3 scoring\n",
    "#https://towardsdatascience.com/the-ultimate-performance-metric-in-nlp-111df6c64460\n"
   ]
  },
  {
   "cell_type": "code",
   "execution_count": 14,
   "metadata": {},
   "outputs": [
    {
     "data": {
      "text/plain": [
       "'\\nIn ROUGE, a \"peer\" summary produced by a machine summarization system is compared against \\none or more hand-written \"model\" summaries and then assigned a score from 0 to 1. This score is the\\nF-measure of recall vs. precision, and the evaluator can adjust a parameter α to control whether this \\nscore favors recall (does the peer summary contain all of the information in the model summaries?) \\nor precision (does the peer summary contain only information in the model summaries?). \\n\\nWhen α ≈ 0, this score favors recall; when α ≈ 1, it favors precision. \\nIn the DUC conferences, α was set to 0, and a hard length limit was imposed on generated summaries. \\nThe original ROUGE implementation uses α = 0.5 by default.\\n'"
      ]
     },
     "execution_count": 14,
     "metadata": {},
     "output_type": "execute_result"
    }
   ],
   "source": [
    "#pip install git+git://github.com/bdusell/rougescore.git\n",
    "\n",
    "'''\n",
    "In ROUGE, a \"peer\" summary produced by a machine summarization system is compared against \n",
    "one or more hand-written \"model\" summaries and then assigned a score from 0 to 1. This score is the\n",
    "F-measure of recall vs. precision, and the evaluator can adjust a parameter α to control whether this \n",
    "score favors recall (does the peer summary contain all of the information in the model summaries?) \n",
    "or precision (does the peer summary contain only information in the model summaries?). \n",
    "\n",
    "When α ≈ 0, this score favors recall; when α ≈ 1, it favors precision. \n",
    "In the DUC conferences, α was set to 0, and a hard length limit was imposed on generated summaries. \n",
    "The original ROUGE implementation uses α = 0.5 by default.\n",
    "'''\n",
    "\n"
   ]
  },
  {
   "cell_type": "code",
   "execution_count": 15,
   "metadata": {},
   "outputs": [],
   "source": [
    "import rougescore as rouge\n",
    "\n",
    "def getRouge(peer, model):\n",
    "    rougeBi = rouge.rouge_2(peer, model, 1)\n",
    "    print(\"Rouge 2: \", rougeBi)\n",
    "    rougeTri = rouge.rouge_3(peer, model, 1)\n",
    "    print(\"Rouge 3: \", rougeTri)\n",
    "    \n",
    "    return rougeBi,rougeTri"
   ]
  },
  {
   "cell_type": "code",
   "execution_count": 16,
   "metadata": {},
   "outputs": [],
   "source": [
    "def read_folder(dir):\n",
    "    \n",
    "    topic = []\n",
    "    \n",
    "    for file in os.listdir(dir):   \n",
    "        with open(os.path.join(dir + file)) as f:\n",
    "            doc = f.readlines()\n",
    "            f.close()\n",
    "            doc = \" \".join(doc)\n",
    "            topic.append(doc)\n",
    "            \n",
    "    return topic           \n",
    "\n",
    "def create_model(dir):\n",
    "    \n",
    "    model = []\n",
    "    \n",
    "    for folder in os.listdir(directory + \"summaries-gold/\"):\n",
    "        \n",
    "        gold = read_folder(directory + \"summaries-gold/\" + folder + \"/\")\n",
    "        model.append(gold)\n",
    "        \n",
    "    \n",
    "    return model"
   ]
  },
  {
   "cell_type": "code",
   "execution_count": 17,
   "metadata": {},
   "outputs": [],
   "source": [
    "def summary(dir):\n",
    "    \n",
    "    list_summary = []\n",
    "    for file in os.listdir(directory + \"topics/\"):\n",
    "            \n",
    "        with open(os.path.join(dir + \"topics/\" + file)) as f:\n",
    "            doc = f.readlines()\n",
    "            f.close()\n",
    "            doc = \" \".join(doc)\n",
    "            \n",
    "            summary = findTopSentences(doc, 10, False)\n",
    "            list_summary.append(summary)\n",
    "            \n",
    "    return list_summary\n"
   ]
  },
  {
   "cell_type": "code",
   "execution_count": 18,
   "metadata": {},
   "outputs": [],
   "source": [
    "import os\n",
    "\n",
    "directory = \"C:/Users/Markus/Documents/studies/NLP/data/Opinosis_dataset/\"\n",
    "\n",
    "summary = summary(directory)\n",
    "model = create_model(directory)"
   ]
  },
  {
   "cell_type": "code",
   "execution_count": 19,
   "metadata": {},
   "outputs": [],
   "source": [
    "#lause = \"\"\n",
    "#for senctence in summary:\n",
    "#    lause += sentence\n",
    "\n",
    "#malli = [\"The battery life of the ipod nano is very short. It seems to continue\", \"using battery even when the ipod is not in use, otherwise, it's a great product.\"]\n",
    "#result = rouge.rouge_2(lause, model, 1)\n",
    "#print(result)"
   ]
  },
  {
   "cell_type": "code",
   "execution_count": 20,
   "metadata": {},
   "outputs": [],
   "source": [
    "#summary = ['It has worked well for local driving giving accurate directions for roads and streets .', \",  Very Accurate but with one small glitch I found ,  I'll explain in the CONS\\n This is a great GPS, it is so easy to use and it is always accurate .\", 'The Garmin is loaded with very accurate maps that generally know the roads in even the remotest areas .', \"I used it the day I bought it,   and then this morning, and as soon as it comes on it is  ready to navigate  The only downfall of this product, and the only reason I did not give it 5 stars is the fact that the speed limit it displays for the road you are on isn't 100% accurate .\", 'Depending on what you are using it for, it is a nice adjunct to a travel trip and the directions are accurate and usually the quickest, but not always .', \"I'm really glad I bought it though, and like the easy to read graphics, the voice used to tell you the name of the street you are to turn on, the uncannily accurate estimates of mileage and time of arrival at your destination .\", 'My new Garmin 255w had very Easy Set Up, Accurate Directions to locations, User Friendly Unit to anyone in my vehicle who tried it .', 'In closing, this is a fantastic GPS with some very nice features and is very accurate in directions .', 'but for the most part, we find that the Garmin software provides accurate directions, whereever we intend to go .', '0 out of 5 stars Inexpensive, accurate, plenty of features, August 6, 2009\\n  The only glitch I have found so far is that the speed limits are not 100% accurate, although the GPS, amazingly, is able to very accurately tell you how fast your vehicle is moving .']\n",
    "#summary = \" \".join(summary)\n",
    "#print(type(summary))\n",
    "#model = ['This unit is generally quite accurate.  \\n Set-up and usage are considered to be very easy. \\n The maps can be updated, and tend to be reliable.\\n', \"The Garmin seems to be generally very accurate.\\n It's easy to use with an intuitive interface.\", 'It is very accurate, even in destination time.\\n', 'Very accurate with travel and destination time.\\n Negatives are not accurate with speed limits and rural roads.', 'Its accurate, fast and its simple operations make this a for sure buy.']\n",
    "#bi, tri = getRouge(summary, model)"
   ]
  },
  {
   "cell_type": "code",
   "execution_count": 21,
   "metadata": {},
   "outputs": [
    {
     "name": "stdout",
     "output_type": "stream",
     "text": [
      "Rouge 2:  0.0521415270018622\n",
      "Rouge 3:  0.04161490683229813\n",
      "Rouge 2:  0.06709401709401709\n",
      "Rouge 3:  0.05205772314270444\n",
      "Rouge 2:  0.06591880341880342\n",
      "Rouge 3:  0.0518439337252806\n",
      "Rouge 2:  0.05249376558603491\n",
      "Rouge 3:  0.038053649407361195\n",
      "Rouge 2:  0.045127670661803024\n",
      "Rouge 3:  0.03388946819603754\n",
      "Rouge 2:  0.04378980891719745\n",
      "Rouge 3:  0.032982791586998086\n",
      "Rouge 2:  0.07489539748953974\n",
      "Rouge 3:  0.057780879274249825\n",
      "Rouge 2:  0.04680511182108626\n",
      "Rouge 3:  0.03788968824940048\n",
      "Rouge 2:  0.06344676180021953\n",
      "Rouge 3:  0.04470071389346513\n",
      "Rouge 2:  0.04062976130015236\n",
      "Rouge 3:  0.029268292682926828\n",
      "Rouge 2:  0.05088339222614841\n",
      "Rouge 3:  0.03559222156747201\n",
      "Rouge 2:  0.03131808278867102\n",
      "Rouge 3:  0.02425068119891008\n",
      "Rouge 2:  0.05612244897959184\n",
      "Rouge 3:  0.04238861386138614\n",
      "Rouge 2:  0.05408932714617169\n",
      "Rouge 3:  0.04294834590829948\n",
      "Rouge 2:  0.034907161803713525\n",
      "Rouge 3:  0.026539278131634817\n",
      "Rouge 2:  0.07409200968523003\n",
      "Rouge 3:  0.058873410054512416\n",
      "Rouge 2:  0.043626806833114325\n",
      "Rouge 3:  0.034845496383957925\n",
      "Rouge 2:  0.04647599591419816\n",
      "Rouge 3:  0.036177823198773634\n",
      "Rouge 2:  0.0725883476599809\n",
      "Rouge 3:  0.04990439770554493\n",
      "Rouge 2:  0.09107981220657277\n",
      "Rouge 3:  0.0678151918559123\n",
      "Rouge 2:  0.05964035964035964\n",
      "Rouge 3:  0.04737631184407796\n",
      "Rouge 2:  0.038120567375886524\n",
      "Rouge 3:  0.03180435884439939\n",
      "Rouge 2:  0.05420118343195266\n",
      "Rouge 3:  0.0403789224393132\n",
      "Rouge 2:  0.03985148514851485\n",
      "Rouge 3:  0.03207033184744923\n",
      "Rouge 2:  0.08447488584474885\n",
      "Rouge 3:  0.05515665796344647\n",
      "Rouge 2:  0.06648489932885907\n",
      "Rouge 3:  0.05142737195633921\n",
      "Rouge 2:  0.07336065573770492\n",
      "Rouge 3:  0.05577580314422419\n",
      "Rouge 2:  0.0517051705170517\n",
      "Rouge 3:  0.039955971381397906\n",
      "Rouge 2:  0.06485461441213654\n",
      "Rouge 3:  0.05034788108791903\n",
      "Rouge 2:  0.05285035629453682\n",
      "Rouge 3:  0.03328050713153724\n",
      "Rouge 2:  0.025994919559695174\n",
      "Rouge 3:  0.02193985599322321\n",
      "Rouge 2:  0.048163418290854576\n",
      "Rouge 3:  0.037321830457614405\n",
      "Rouge 2:  0.029743975903614456\n",
      "Rouge 3:  0.024630912925579992\n",
      "Rouge 2:  0.04833110814419225\n",
      "Rouge 3:  0.04101536406145625\n",
      "Rouge 2:  0.048601206801974765\n",
      "Rouge 3:  0.033479692645444564\n",
      "Rouge 2:  0.03872468527640941\n",
      "Rouge 3:  0.032447973713033956\n",
      "Rouge 2:  0.038834951456310676\n",
      "Rouge 3:  0.030233122875182122\n",
      "Rouge 2:  0.07674236491777604\n",
      "Rouge 3:  0.06253918495297806\n",
      "Rouge 2:  0.06296743063932449\n",
      "Rouge 3:  0.04683162341581171\n",
      "Rouge 2:  0.02669902912621359\n",
      "Rouge 3:  0.020692567567567568\n",
      "Rouge 2:  0.04047958214624881\n",
      "Rouge 3:  0.032541567695962\n",
      "Rouge 2:  0.06276540652511652\n",
      "Rouge 3:  0.05139896373056995\n",
      "Rouge 2:  0.03875\n",
      "Rouge 3:  0.029325920778318273\n",
      "Rouge 2:  0.05179119754350051\n",
      "Rouge 3:  0.04065540194572453\n",
      "Rouge 2:  0.05507921714818267\n",
      "Rouge 3:  0.04317016317016317\n",
      "Rouge 2:  0.038325471698113206\n",
      "Rouge 3:  0.02867256637168142\n",
      "Rouge 2:  0.03949661181026137\n",
      "Rouge 3:  0.02818401937046005\n",
      "Rouge 2:  0.0445910290237467\n",
      "Rouge 3:  0.03551155115511551\n",
      "Rouge 2:  0.07524836186852674\n",
      "Rouge 3:  0.059221658206429786\n",
      "Rouge 2:  0.037405857740585774\n",
      "Rouge 3:  0.02980326496442026\n",
      "Rouge 2:  0.034093789607097594\n",
      "Rouge 3:  0.02561826252377933\n"
     ]
    }
   ],
   "source": [
    "list_score = []\n",
    "\n",
    "for i in range(len(summary)):\n",
    "    summary_str = \" \".join(summary[i])\n",
    "    bi, tri = getRouge(summary_str, model[i])\n",
    "    list_score.append((bi,tri))"
   ]
  },
  {
   "cell_type": "code",
   "execution_count": 22,
   "metadata": {},
   "outputs": [
    {
     "name": "stdout",
     "output_type": "stream",
     "text": [
      "[(0.0521415270018622, 0.04161490683229813), (0.06709401709401709, 0.05205772314270444), (0.06591880341880342, 0.0518439337252806), (0.05249376558603491, 0.038053649407361195), (0.045127670661803024, 0.03388946819603754), (0.04378980891719745, 0.032982791586998086), (0.07489539748953974, 0.057780879274249825), (0.04680511182108626, 0.03788968824940048), (0.06344676180021953, 0.04470071389346513), (0.04062976130015236, 0.029268292682926828), (0.05088339222614841, 0.03559222156747201), (0.03131808278867102, 0.02425068119891008), (0.05612244897959184, 0.04238861386138614), (0.05408932714617169, 0.04294834590829948), (0.034907161803713525, 0.026539278131634817), (0.07409200968523003, 0.058873410054512416), (0.043626806833114325, 0.034845496383957925), (0.04647599591419816, 0.036177823198773634), (0.0725883476599809, 0.04990439770554493), (0.09107981220657277, 0.0678151918559123), (0.05964035964035964, 0.04737631184407796), (0.038120567375886524, 0.03180435884439939), (0.05420118343195266, 0.0403789224393132), (0.03985148514851485, 0.03207033184744923), (0.08447488584474885, 0.05515665796344647), (0.06648489932885907, 0.05142737195633921), (0.07336065573770492, 0.05577580314422419), (0.0517051705170517, 0.039955971381397906), (0.06485461441213654, 0.05034788108791903), (0.05285035629453682, 0.03328050713153724), (0.025994919559695174, 0.02193985599322321), (0.048163418290854576, 0.037321830457614405), (0.029743975903614456, 0.024630912925579992), (0.04833110814419225, 0.04101536406145625), (0.048601206801974765, 0.033479692645444564), (0.03872468527640941, 0.032447973713033956), (0.038834951456310676, 0.030233122875182122), (0.07674236491777604, 0.06253918495297806), (0.06296743063932449, 0.04683162341581171), (0.02669902912621359, 0.020692567567567568), (0.04047958214624881, 0.032541567695962), (0.06276540652511652, 0.05139896373056995), (0.03875, 0.029325920778318273), (0.05179119754350051, 0.04065540194572453), (0.05507921714818267, 0.04317016317016317), (0.038325471698113206, 0.02867256637168142), (0.03949661181026137, 0.02818401937046005), (0.0445910290237467, 0.03551155115511551), (0.07524836186852674, 0.059221658206429786), (0.037405857740585774, 0.02980326496442026), (0.034093789607097594, 0.02561826252377933)]\n"
     ]
    }
   ],
   "source": [
    "print(list_score)"
   ]
  },
  {
   "cell_type": "code",
   "execution_count": 23,
   "metadata": {},
   "outputs": [],
   "source": [
    "import dataframe_image as dfi\n",
    "\n",
    "df = pd.DataFrame(list_score)\n",
    "df.columns=['rouge2', 'rouge3']\n",
    "#df.rename(columns={'0': })\n",
    "df.loc['mean'] = df.mean()\n",
    "df.columns.names = ['topic number']\n",
    "df\n",
    "#dfi.export(df, 'dataframe.png')\n",
    "#df.mean(axis=0)\n",
    "#for list_score in list_scores:\n",
    "#    df"
   ]
  },
  {
   "cell_type": "markdown",
   "metadata": {},
   "source": [
    "## TASK 5\n",
    "\n",
    "[x] We would like to improve the summarization by taking into account the diversity among the sentence in the sense that we would like to minimize redundancy among sentences. For this purpose, we shall use the sentence-to-sentence semantic similarity introduced in the NLP lab. \n",
    "\n",
    "[x] Next, instead of recording only the 10 sentences with highest Sweight scores, we shall record the 20 top sentences in terms of $S_{weight}$ scores. Then the selection of the top 10 sentences among the 20 sentences follows the following approach. \n",
    "\n",
    "[x] First, order the 20 sentences in the decreasing order of their $S_{weight}$ scores, say S1, S2, …, S20 (where S1 is the top ranked and S20 the 20th ranked sentence). \n",
    "\n",
    "[x] Second, we shall assume that S1 is always included in the summarizer, we shall then attempt to find the other sentences among S2 till S20 to be included into the summarizer. \n",
    "\n",
    "[x] Calculate the sentence-to-sentence similarity Sim(S1,Si) for i=1 to 20, the Sentence Sj that yields the minimum similarity with S1 will therefore be included in the summarizer. \n",
    "\n",
    "[x] Next, for each of the remaining sentences Sk (with k different from 1 and j), we calculate the sentence similarity with Sj. Therefore the sentence Sp that yields minimum value of “Sim(Sp, S1)+Sim(Sp,Sj)” will be included in the summarizer (Note: the quantity Sim(Sp, S1) is already calculated in previous step).  \n",
    "\n",
    "[x] Similarly in the next phase, we should select a sentence Sl (l different from 1, j and k) so that  “Sim(Sl, S1)+Sim(Sl,Sj)+Sim(Sl,Sp)”, Etc.. \n",
    "\n",
    "[x] You then stop once you reached 10 sentences included in the summarizer. \n",
    "\n",
    "[ ] Suggest a script that includes this process.. and illustrate its functioning in the example you chosen in 1)."
   ]
  },
  {
   "cell_type": "code",
   "execution_count": null,
   "metadata": {},
   "outputs": [],
   "source": [
    "#kirjoitan tähän itselleni että pysyn ohjeiden perässä\n",
    "#1.Luo 20 lauseen lista, missä lauseiden s(weight) pisteet ovat suurimmat (s1,s2,s3,...,s20)\n",
    "#2.s1 on tiivistelmän ensimmäinen lause \n",
    "#    2.1 poista s1 listalta\n",
    "#3.Vertaa loppuja lauseita s1. Lause joka on vähiten samanlainen s1 kanssa lisätään tiivistelmään, ja kutsutaan s(j)\n",
    "#    3.1 poista s(j) listalta\n",
    "#4.Vertaa loppuja lauseita s(j) ja taas alin arvo lisätään tiivistelmään. Lisätty lause s(p)\n",
    "#    4.1 poista lause"
   ]
  },
  {
   "cell_type": "code",
   "execution_count": null,
   "metadata": {},
   "outputs": [],
   "source": [
    "#print(len(sentences))"
   ]
  },
  {
   "cell_type": "code",
   "execution_count": null,
   "metadata": {},
   "outputs": [],
   "source": [
    "#download larger pipeline package for spaCy\n",
    "#python -m spacy download en_core_web_lg #tarkempi mutta 770mb kokoinen\n",
    "\n",
    "#python -m spacy download en_core_web_sm #paljon pienempi mutta ei yhtä tarkka"
   ]
  },
  {
   "cell_type": "code",
   "execution_count": 24,
   "metadata": {},
   "outputs": [],
   "source": [
    "#s1 määritys\n",
    "def find_first_sentence(sentences):\n",
    "    picked_sentences = []\n",
    "\n",
    "    #choose dictionary\n",
    "    nlp = spacy.load(\"en_core_web_sm\")\n",
    "    #nlp = spacy.load(\"en_core_web_md\")\n",
    "\n",
    "    #löydä ensimmäinen lause, korkein s(weigth)\n",
    "    for sentence in sentences: \n",
    "        #lisää koodi s(weight) laskemiseen, tai valitse ensimmäinen lause jos lista on järjestyksessä\n",
    "        s1 = sentence\n",
    "\n",
    "    #poista valinta listasta ja lisää tiivistelmä listaan    \n",
    "    picked_sentences.append(s1)\n",
    "    sentences.remove(s1)\n",
    "\n",
    "    print(picked_sentences)\n",
    "    return picked_sentences"
   ]
  },
  {
   "cell_type": "code",
   "execution_count": 26,
   "metadata": {},
   "outputs": [
    {
     "name": "stdout",
     "output_type": "stream",
     "text": [
      "['The partitioning of the data set into independent subsets, as described above and implemented in FLANN, has the\\n advantage that it doesn’t depend on the type of index used (randomized kd-trees, priority search k-means tree,\\n hierarchical clustering, LSH) and can be applied to any current or future nearest neighbor algorithm in FLANN.']\n"
     ]
    },
    {
     "name": "stderr",
     "output_type": "stream",
     "text": [
      "C:\\Users\\Markus\\anaconda3\\lib\\site-packages\\ipykernel_launcher.py:18: UserWarning: [W007] The model you're using has no word vectors loaded, so the result of the Doc.similarity method will be based on the tagger, parser and NER, which may not give useful similarity judgements. This may happen if you're using one of the small models, e.g. `en_core_web_sm`, which don't ship with word vectors and only use context-sensitive tensors. You can always add your own word vectors, or use one of the larger models instead if available.\n"
     ]
    },
    {
     "name": "stdout",
     "output_type": "stream",
     "text": [
      "[0.643861550105796, 0.5028268063107327, 0.7322534859727825, 0.663930511385731, 0.6335904544092588, 0.6983835592201584, 0.622118457505475, 0.4401745828121053, 0.5762596271229163, 0.6523423887535276, 0.7360174665545778, 0.6829561835694372, 0.6393883659146156, 0.5333326103698475, 0.42252652644148997, 0.6780301642254263, 0.7962834825090873, 0.6396972923799609, 0.6064917099697087]\n",
      "Sentences left in the list: 19\n",
      "Smallest value: 0.42252652644148997\n",
      "Scalable Nearest Neighbor Algorithms for High Dimensional Data.\n",
      "[0.8588201822113241, 0.8090994928151842, 1.116702113022128, 0.9964958721438267, 0.9089299138617903, 1.1250272215241606, 0.9947831006405559, 0.8128338248561437, 0.876445044105516, 1.0860537154974677, 1.0385956804130738, 1.1911751204516392, 0.9707476217801154, 0.8858559461157092, 0.997710305284621, 1.1926906328104425, 0.9516025097491644, 0.978312247820341]\n",
      "Sentences left in the list: 18\n",
      "Smallest value: 0.8090994928151842\n",
      "For the comparison we use a combination of both vector features such as SIFT, SURF, image patches and\n",
      " binary features such as BRIEF and ORB.\n",
      "[1.173675280055047, 1.6073307992732757, 1.489827253095006, 1.5765909073924158, 1.6560804105703961, 1.438968202515216, 1.1609439864533004, 1.272717380316817, 1.5285926924909554, 1.6214931878211252, 1.662217055909342, 1.425690629519572, 1.3015024453633965, 1.5522243790505375, 1.811920527362266, 1.233943897872271, 1.5398375488249634]\n",
      "Sentences left in the list: 17\n",
      "Smallest value: 1.1609439864533004\n",
      "We also propose a new algorithm for matching binary features by searching multiple hierarchical clustering trees and show it outperforms methods typically used in the literature.\n",
      "[1.7386914521691887, 2.0399705072583334, 1.930955183813928, 2.0144303855925565, 2.090228333382079, 1.9320200919483501, 1.8639351312731254, 1.971346331857259, 2.182386951705856, 2.0115234662259387, 2.13257207203885, 1.9924624930091903, 1.9967388704564843, 2.205621676408666, 1.7273806055869505, 1.8248585032492817]\n",
      "Sentences left in the list: 16\n",
      "Smallest value: 1.7273806055869505\n",
      "We have found the randomized k-d forest to be very effective in many situations, however on other data sets a\n",
      " different algorithm, the priority search k-means tree, has been more effective at finding approximate\n",
      " nearest neighbors, especially when a high precision is required.\n",
      "[2.3626905741944357, 2.563856510382615, 2.6596703202480194, 2.5918059292291113, 2.7370532298436037, 2.528194092863326, 2.410626025354507, 2.427213250936194, 2.9063631684887667, 2.5178762572788416, 2.689793639332457, 2.57861048005419, 2.534651597186916, 2.7594709220098137, 2.2811278337870444]\n",
      "Sentences left in the list: 15\n",
      "Smallest value: 2.2811278337870444\n",
      "We compare the two algorithms we found to be the best at finding fast approximate nearest neighbors (the multiple\n",
      " randomized kd-trees and the priority search k-means tree) with existing approaches, the ANN \n",
      "[11] and LSH algorithms [29]\n",
      " on the first data set of 100,000 SIFT features.\n",
      "[2.743403591057264, 3.237199079526088, 3.376778187331715, 3.1336332924226564, 3.543326225284741, 3.0578360572133487, 2.934048713637141, 3.0068301625792317, 3.524474837723716, 3.1026887677294743, 3.217170745041308, 2.994571933571614, 3.0233663240846633, 3.500231401919072]\n",
      "Sentences left in the list: 14\n",
      "Smallest value: 2.743403591057264\n",
      "In order to scale to very large data sets that would otherwise not fit in the memory of a single machine, we propose a distributed nearest neighbor matching framework that can be used with any of the algorithms described in the paper.\n",
      "[3.89447612573766, 3.986912039149798, 3.7636220370294815, 4.1479979820543695, 3.6431824108971327, 3.6558830719620623, 3.5919358177792913, 4.1504557980110945, 3.6639556066426087, 3.8469016100355424, 3.608829782332958, 3.6627877503828206, 3.9981920330827956]\n",
      "Sentences left in the list: 13\n",
      "Smallest value: 3.5919358177792913\n",
      "[31] show that the performance of the standard LSH\n",
      " algorithm is critically dependent on the length of the hashing key and propose the LSH Forest, a self-tuning algorithm\n",
      " that eliminates this data dependent parameter.\n",
      "[4.604229976550529, 4.598841817669609, 4.3693037815000855, 4.796719676137997, 4.268606006340521, 4.2939074335814125, 4.699523079030083, 4.315732863635867, 4.42680064545382, 4.041398246403251, 4.193888672872723, 4.657816371466871]\n",
      "Sentences left in the list: 12\n",
      "Smallest value: 4.041398246403251\n",
      "Having an efficient\n",
      " algorithm for performing fast nearest neighbor matching in large data sets can bring speed improvements of several\n",
      " orders of magnitude to many applications.\n",
      "[5.158961932336739, 5.079627118995093, 5.003126453582626, 5.442271083390752, 4.9446706082476375, 4.943705290670613, 5.349955360330762, 4.681054136722308, 5.208195518938037, 4.720550152507131, 5.214039857387832]\n",
      "Sentences left in the list: 11\n",
      "Smallest value: 4.681054136722308\n",
      "The work presented in this paper has been made publicly available as an open source library named Fast Library for\n",
      " Approximate Nearest Neighbors [59].\n"
     ]
    }
   ],
   "source": [
    "#Loppujen yhdeksän lauseen valinta\n",
    "def sentence_to_sentence(sentences):\n",
    "#lista samanlaisuus pisteistä\n",
    "    sim_score = []\n",
    "    picked_sentences = find_first_sentence(sentences)\n",
    "    #while pyörii kunnes 10 lausetta on löydetty\n",
    "    while(len(picked_sentences)<10):\n",
    "        sim_score.clear()\n",
    "\n",
    "        for sentence in sentences:\n",
    "            nlp_sentence = nlp(str(sentence))\n",
    "            score = 0\n",
    "\n",
    "            for p_sentence in picked_sentences:\n",
    "                #vertaa kahta lausetta\n",
    "                nlp_p_sentence = nlp(str(p_sentence))\n",
    "\n",
    "                score += nlp_p_sentence.similarity(nlp_sentence)\n",
    "\n",
    "            sim_score.append(score)\n",
    "\n",
    "\n",
    "        print(sim_score)\n",
    "        min_value = min(sim_score)\n",
    "        min_index = sim_score.index(min_value)   \n",
    "\n",
    "        print(\"Sentences left in the list: \" + str(len(sentences)))\n",
    "        print(\"Smallest value: \" + str(min_value))\n",
    "        print(sentences[min_index])\n",
    "\n",
    "        picked_sentences.append(sentences[min_index])\n",
    "        sentences.remove(sentences[min_index])\n",
    "    return picked_sentences\n",
    "\n",
    "picked_sentences = sentence_to_sentence(findTopSentences(article, 20, True))"
   ]
  },
  {
   "cell_type": "code",
   "execution_count": 27,
   "metadata": {},
   "outputs": [
    {
     "name": "stdout",
     "output_type": "stream",
     "text": [
      "Summarized text\n",
      "['The partitioning of the data set into independent subsets, as described above and implemented in FLANN, has the\\n advantage that it doesn’t depend on the type of index used (randomized kd-trees, priority search k-means tree,\\n hierarchical clustering, LSH) and can be applied to any current or future nearest neighbor algorithm in FLANN.', 'Scalable Nearest Neighbor Algorithms for High Dimensional Data.', 'For the comparison we use a combination of both vector features such as SIFT, SURF, image patches and\\n binary features such as BRIEF and ORB.', 'We also propose a new algorithm for matching binary features by searching multiple hierarchical clustering trees and show it outperforms methods typically used in the literature.', 'We have found the randomized k-d forest to be very effective in many situations, however on other data sets a\\n different algorithm, the priority search k-means tree, has been more effective at finding approximate\\n nearest neighbors, especially when a high precision is required.', 'We compare the two algorithms we found to be the best at finding fast approximate nearest neighbors (the multiple\\n randomized kd-trees and the priority search k-means tree) with existing approaches, the ANN \\n[11] and LSH algorithms [29]\\n on the first data set of 100,000 SIFT features.', 'In order to scale to very large data sets that would otherwise not fit in the memory of a single machine, we propose a distributed nearest neighbor matching framework that can be used with any of the algorithms described in the paper.', '[31] show that the performance of the standard LSH\\n algorithm is critically dependent on the length of the hashing key and propose the LSH Forest, a self-tuning algorithm\\n that eliminates this data dependent parameter.', 'Having an efficient\\n algorithm for performing fast nearest neighbor matching in large data sets can bring speed improvements of several\\n orders of magnitude to many applications.', 'The work presented in this paper has been made publicly available as an open source library named Fast Library for\\n Approximate Nearest Neighbors [59].']\n"
     ]
    }
   ],
   "source": [
    "print(\"Summarized text\")\n",
    "print(picked_sentences)"
   ]
  },
  {
   "cell_type": "markdown",
   "metadata": {},
   "source": [
    "## TASK 6\n",
    "\n",
    "We would like to make the choice of keywords not based on histogram frequency but using the open source RAKE https://www.airpair.com/nlp/keyword-extraction-tutorial. Repeat the previous process of selecting the sentences that are associated to the ten first keywords generated by RAKE. Comment on the quality of this summarizer based on your observation"
   ]
  },
  {
   "cell_type": "code",
   "execution_count": null,
   "metadata": {},
   "outputs": [],
   "source": [
    "#Repossa ollut asennus tiedosto ei kyennyt asentumaan windows ympäristössä ilman korjausta\n",
    "#git clone https://github.com/zelandiya/RAKE-tutorial\n",
    "#cd RAKE-tutorial\n",
    "\n",
    "#Ennen asennusta mene setup.py tiedostoon ja poista slash (/) poluista: \n",
    "#package_dir={'nlp_rake': './'} ja \n",
    "#package_data={'nlp_rake': ['data/']}\n",
    "\n",
    "#muutin \"nlp-rake\" nimen pelkäksi \"rake\" asennus tiedostossa.\n",
    "\n",
    "#kuva setup_korjaus löytyy githubista, jonka jälkeen paketin asennus toimii\n",
    "#python setup.py install \n",
    "\n"
   ]
  },
  {
   "cell_type": "code",
   "execution_count": null,
   "metadata": {},
   "outputs": [],
   "source": [
    "#Asensin moduulin eri paikkaan kuin missä jupyter serveri polku, korjasin tällä polun\n",
    "import sys \n",
    "sys.path.append(\"C:/Users/Markus/Documents/studies/NLP/RAKE-tutorial\")"
   ]
  },
  {
   "cell_type": "code",
   "execution_count": null,
   "metadata": {},
   "outputs": [],
   "source": [
    "import rake \n",
    "import operator"
   ]
  },
  {
   "cell_type": "code",
   "execution_count": null,
   "metadata": {},
   "outputs": [],
   "source": [
    "#Korjaa polku, tiedosto löytyy githubista\n",
    "rake_object = rake.Rake(\"C:/Users/Markus/Documents/studies/NLP/NLP/SmartStoplist.txt\", 5, 3, 4) "
   ]
  },
  {
   "cell_type": "code",
   "execution_count": null,
   "metadata": {},
   "outputs": [],
   "source": [
    "#sample_file = open(\"C:/NLP/RAKE-tutorial/data/docs/fao_test/w2167e.txt\", 'r') #aseta teksti minkä haluat käsitellä\n",
    "#text = sample_file.read()\n",
    "sentenceList = rake.split_sentences(article)\n",
    "print(sentenceList[0:1])\n"
   ]
  },
  {
   "cell_type": "code",
   "execution_count": null,
   "metadata": {},
   "outputs": [],
   "source": [
    "keywords = rake_object.run(article)\n",
    "#print(\"Keywords:\", keywords[0:10]) #10 ensimmäistä\n",
    "keywords_topten = []\n",
    "\n",
    "for i in range(10):\n",
    "    keywords_topten.append(keywords[i][0])\n",
    "    \n",
    "print(keywords_topten)"
   ]
  },
  {
   "cell_type": "code",
   "execution_count": null,
   "metadata": {},
   "outputs": [],
   "source": [
    "#extract sentences using keywords\n",
    "dct = {}\n",
    "for sentence in sentenceList:\n",
    "    dct[sentence] = sum(1 for word in keywords_topten if word in sentence)\n",
    "\n",
    "rake_sentences = [key for key,value in dct.items() if value == max(dct.values())]\n",
    "\n",
    "\n",
    "print(\"\\n\".join(rake_sentences))"
   ]
  },
  {
   "cell_type": "code",
   "execution_count": null,
   "metadata": {},
   "outputs": [],
   "source": [
    "#Comparing results\n",
    "print(\"Sentences in original text: {}, summarized amount: {}\".format(len(sentenceList),len(rake_sentences)))"
   ]
  },
  {
   "cell_type": "code",
   "execution_count": null,
   "metadata": {},
   "outputs": [],
   "source": [
    "Comment on results:"
   ]
  },
  {
   "cell_type": "markdown",
   "metadata": {},
   "source": [
    "## TASK 7\n",
    "\n",
    "It is also suggested to explore alternative implementations with larger number of summarization approaches implemented- https://github.com/miso-belica/sumy. Show how each of the implemented summarizer behaves when inputted with the same document you used in previous case."
   ]
  },
  {
   "cell_type": "code",
   "execution_count": null,
   "metadata": {},
   "outputs": [],
   "source": [
    "#https://github.com/miso-belica/sumy\n",
    "#pip install sumy"
   ]
  },
  {
   "cell_type": "code",
   "execution_count": 28,
   "metadata": {},
   "outputs": [],
   "source": [
    "from sumy.parsers.html import HtmlParser\n",
    "from sumy.parsers.plaintext import PlaintextParser\n",
    "from sumy.nlp.tokenizers import Tokenizer\n",
    "from sumy.summarizers.lsa import LsaSummarizer as LSASummarizer\n",
    "from sumy.summarizers.lex_rank import LexRankSummarizer as LexRankSummarizer\n",
    "from sumy.summarizers.luhn import LuhnSummarizer as LuhnSummarizer\n",
    "from sumy.nlp.stemmers import Stemmer\n",
    "from sumy.utils import get_stop_words\n",
    "\n",
    "LANGUAGE = \"english\"\n",
    "SENTENCES_COUNT = 10"
   ]
  },
  {
   "cell_type": "code",
   "execution_count": 29,
   "metadata": {},
   "outputs": [
    {
     "name": "stdout",
     "output_type": "stream",
     "text": [
      "[<Sentence: 2.1 Nearest Neighbor Matching Algorithms.>, <Sentence: After evaluating many different algorithms for approximate nearest neighbor search on data sets with a wide range of dimensionality [14][47], we have found that one of two algorithms gave the best performance: the priority search k-means tree or the multiple randomized k-d trees.>, <Sentence: The randomized k-d tree algorithm [13], is an approximate nearest neighbor search algorithm that builds multiple randomized k-d trees which are searched in parallel.>, <Sentence: Our experiments have revealed that the optimal algorithm for approximate nearest neighbor search is highly dependent on several factors such as the data dimensionality, size and structure of the data set (whether there is any correlation between the features in the data set) and the desired search precision.>, <Sentence: We compare the two algorithms we found to be the best at finding fast approximate nearest neighbors (the multiple randomized kd-trees and the priority search k-means tree) with existing approaches, the ANN [11] and LSH algorithms [29] on the first data set of 100,000 SIFT features.>, <Sentence: 10 shows the difference in performance between the randomized kd-trees and the priority search k-means tree for one of the Winder/Brown patches data set.>, <Sentence: 7 shows that the k-means tree can perform better for other data sets (especially for high precisions).>, <Sentence: We use the Winder/Brown patches data set [53] to compare the nearest neighbor search performance of the hierarchical clustering tree to that of other well known nearest neighbor search algorithms.>, <Sentence: Each point on the graph is computed using the best performing algorithm for that particular feature type (randomized kd-trees or priority search k-means tree for SIFT, SURF, image patches and the hierarchical clustering algorithm for BRIEF and ORB).>, <Sentence: In order to scale to very large data sets, we use the approach of distributing the data to multiple machines in a compute cluster and perform the nearest neighbor search using all the machines in parallel.>]\n",
      "\n",
      "\n",
      "[<Sentence: We also propose a new algorithm for matching binary features by searching multiple hierarchical clustering trees and show it outperforms methods typically used in the literature.>, <Sentence: In order to scale to very large data sets that would otherwise not fit in the memory of a single machine, we propose a distributed nearest neighbor matching framework that can be used with any of the algorithms described in the paper.>, <Sentence: Having an efficient algorithm for performing fast nearest neighbor matching in large data sets can bring speed improvements of several orders of magnitude to many applications.>, <Sentence: In practice, and in most of the nearest neighbor literature, setting the algorithm parameters is a manual process carried out by using various heuristics and rarely make use of more systematic approaches.>, <Sentence: In a previous paper [14] we have proposed an automatic nearest neighbor algorithm configuration method by combining grid search with a finer grained Nelder-Mead downhill simplex optimization process [43].>, <Sentence: The number of clusters K to use when partitioning the data at each node is a parameter of the algorithm, called the branching factor and choosing K is important for obtaining good search performance.>, <Sentence: However, we have observed that even when using a small number of iterations, the nearest neighbor search performance is similar to that of the tree constructed by running the clustering until convergence, as illustrated by Fig.>, <Sentence: In order to distribute the nearest neighbor matching on a compute cluster we implemented a Map-Reduce like algorithm using the message passing interface (MPI) specification.>, <Sentence: All the previous experiments have shown that distributing the nearest neighbor search to multiple machines results in an overall increase in performance in addition to the advantage of being able to use more memory.>, <Sentence: We address the issues arising when scaling to very large size data sets by proposing an algorithm for distributed nearest neighbor matching on compute clusters.>]\n",
      "\n",
      "\n",
      "[<Sentence: However, the most computationally expensive part of many computer vision and machine learning algorithms consists of finding nearest neighbor matches to high dimensional vectors that represent the training data.>, <Sentence: Examples of such problems include finding the best matches for local image features in large data sets [1][2] clustering local features into visual words using the k-means or similar algorithms [3], global image feature matching for scene recognition [4], human pose estimation [5], matching deformable shapes for object recognition [6] or performing normalized cross-correlation (NCC) to compare image patches in large data sets [7].>, <Sentence: In this paper we evaluate the most promising nearest-neighbor search algorithms in the literature, propose new algorithms and improvements to existing ones, present a method for performing automatic algorithm selection and parameter optimization, and discuss the problem of scaling to very large data sets using compute clusters.>, <Sentence: In this case, the search can be performed in several ways, depending on the number of neighbors returned and their distance to the query point: K-nearest neighbor (KNN) search where the goal is to find the closest K points from the query point and radius nearest neighbor search (RNN), where the goal is to find all the points located closer than some distance R from the query point.>, <Sentence: The performance of hashing methods is highly dependent on the quality of the hashing functions they use and a large body of research has been targeted at improving hashing methods by using data-dependent hashing functions computed using various learning techniques: parameter sensitive hashing [5], spectral hashing [32], randomized LSH hashing from learned metrics [33], kernelized LSH [34], learnt binary embeddings [35], shift-invariant kernel hashing [36], semi-supervised hashing [37], optimized kernel hashing [38] and complementary hashing [39].>, <Sentence: The trees are built in a similar manner to the classic k-d tree [9] [10], with the difference that where the classic kd-tree algorithm splits data on the dimension with the highest variance, for the randomized k-d trees the split dimension is chosen randomly from the top ND dimensions with the highest variance.>, <Sentence: Many algorithms suitable for matching vector based features, such as the randomized kd-tree and priority search k-means tree, are either not efficient or not suitable for matching binary features (for example, the priority search k-means tree requires the points to be in a vector space where their dimensions can be independently averaged).>, <Sentence: In contrast to the priority search k-means tree presented above, for which using more than one tree did not bring significant improvements, we have found that building multiple hierarchical clustering trees and searching them in parallel using a common priority queue (the same approach that has been found to work well for randomized kd-trees [13]) resulted in significant improvements in the search performance.>, <Sentence: Among the data sets used are the Winder/Brown patch data set [53] , data sets of randomly sampled data of different dimensionality, data sets of SIFT features of different sizes obtained by sampling from the CD cover data set of [24] as well as a data set of SIFT features extracted from the overlapping images forming panoramas.>, <Sentence: We compare the two algorithms we found to be the best at finding fast approximate nearest neighbors (the multiple randomized kd-trees and the priority search k-means tree) with existing approaches, the ANN [11] and LSH algorithms [29] on the first data set of 100,000 SIFT features.>]\n",
      "\n",
      "\n"
     ]
    }
   ],
   "source": [
    "def sumySummarize(article):\n",
    "    stemmer = Stemmer(LANGUAGE)\n",
    "    summarizers = [LexRankSummarizer(stemmer), LSASummarizer(stemmer), LuhnSummarizer(stemmer)]\n",
    "    parser = PlaintextParser.from_string(article, Tokenizer(LANGUAGE))\n",
    "    results = []\n",
    "    \n",
    "    for summarizer in summarizers:\n",
    "        summarizer.stop_words = get_stop_words(LANGUAGE)\n",
    "        sentences = []\n",
    "        for sentence in summarizer(parser.document, SENTENCES_COUNT):\n",
    "            sentences.append(sentence)\n",
    "        results.append(sentences)\n",
    "    \n",
    "    return results\n",
    "\n",
    "sumySentences = sumySummarize(article)\n",
    "for sentences in sumySentences:\n",
    "    print(\"{}\\n\\n\".format(sentences))"
   ]
  },
  {
   "cell_type": "markdown",
   "metadata": {},
   "source": [
    "## TASK 8\n",
    "\n",
    "Now we would like to compare the above summarizers and those in 3), 5) and 7) on a new dataset constructed as follows. First select an Elsevier journal of your own and select 10 papers highly ranked in the journal according to citation index (The journal papers should be well structured to contain Abstract, Introduction and Conclusion). \n",
    "\n",
    "For each of the ten papers, consider the introduction as the main document to seek to apply summarizer, and consider the Abstract and Conclusion as two golden summary of the document that you can use for assessment using ROUGE-1 and ROUGE-2 evaluation. \n",
    "\n",
    "Report in a table the evaluation score of each summarizer. "
   ]
  },
  {
   "cell_type": "code",
   "execution_count": 36,
   "metadata": {},
   "outputs": [
    {
     "name": "stderr",
     "output_type": "stream",
     "text": [
      "[WDM] - \n",
      "\n",
      "[WDM] - ====== WebDriver manager ======\n",
      "[WDM] - Current google-chrome version is 95.0.4638\n",
      "[WDM] - Get LATEST driver version for 95.0.4638\n",
      "[WDM] - Driver [C:\\Users\\Markus\\.wdm\\drivers\\chromedriver\\win32\\95.0.4638.54\\chromedriver.exe] found in cache\n",
      "C:\\Users\\Markus\\anaconda3\\lib\\site-packages\\ipykernel_launcher.py:5: DeprecationWarning: executable_path has been deprecated, please pass in a Service object\n",
      "  \"\"\"\n"
     ]
    },
    {
     "name": "stdout",
     "output_type": "stream",
     "text": [
      "As we have demonstrated, the combination of blockchains and IoT can be pretty powerful. Blockchains give us resilient, truly distributed peer-to-peer systems and the ability to interact with peers in a trustless, auditable manner. Smart contracts allow us to automate complex multi-step processes. The devices in the IoT ecosystem are the points of contact with the physical world. When all of them are combined we get to automate time-consuming workflows in new and unique ways, achieving cryptographic verifiability, as well as significant cost and time savings in the process.\n",
      "We believe that the continued integration of blockchains in the IoT domain will cause significant transformations across several industries, bringing about new business models and having us reconsider how existing systems and processes are implemented.\n",
      "We believe that the continued integration of blockchains in the IoT domain will cause significant transformations across several industries, bringing about new business models and having us reconsider how existing systems and processes are implemented.\n"
     ]
    }
   ],
   "source": [
    "#Rouge 1 & 2 pisteytyts koodi\n",
    "articles = []\n",
    "def scrape_task8_article(url):\n",
    "    article = \"\"\n",
    "    driver = webdriver.Chrome(ChromeDriverManager().install())\n",
    "    driver.get(url)\n",
    "\n",
    "    # Wait for article to fully load\n",
    "    time.sleep(3)\n",
    "\n",
    "    soup = BeautifulSoup(driver.page_source, 'lxml')\n",
    "    strElement = \"\"\n",
    "    countTitle, countAbstract, countH2, countH3, countH4, countP = 0, 0, 0, 0, 0, 0\n",
    "\n",
    "    strElement, countTitle = _convertHtmlToStr(soup.find(\"h1\", {\"class\": \"document-title\"}))\n",
    "    #print(\"Title:\\n{}\\n\\n\".format(strElement))\n",
    "    article += strElement\n",
    "    article += \". \"\n",
    "    strElement, countAbstract = _convertHtmlToStr(soup.find(\"div\", {\"class\": \"abstract-text\"}))\n",
    "    #print(\"Abstract:\\n{}\\n\\n\".format(strElement))\n",
    "    article += strElement\n",
    "\n",
    "    articleHtmlBody = soup.find(\"div\", {\"id\": \"article\"})\n",
    "    if articleHtmlBody == None:\n",
    "        raise ValueError\n",
    "\n",
    "    strElement, countH2 = _convertHtmlToStr(articleHtmlBody.find_all(\"h2\"))\n",
    "    #print(\"Section titles:\\n{}\\n\\n\".format(strElement))\n",
    "    article += strElement\n",
    "    strElement, countH3 = _convertHtmlToStr(articleHtmlBody.find_all(\"h3\"))\n",
    "    #print(\"Subsection titles:\\n{}\\n\\n\".format(strElement))\n",
    "    article += strElement\n",
    "    strElement, countH4 = _convertHtmlToStr(articleHtmlBody.find_all(\"h4\"))\n",
    "    #print(\"Subsubsection titles:\\n{}\\n\\n\".format(strElement))\n",
    "    article += strElement\n",
    "    strElement, countP = _convertHtmlToStr(articleHtmlBody.find_all(\"p\"))\n",
    "    article += strElement\n",
    "    countP += 1\n",
    "    \n",
    "    paragraph = \"\"\n",
    "    for header in soup.find(\"div\", {\"id\": \"sec5\"}):\n",
    "        paragraph += header.get_text() + u'\\n'\n",
    "        for elem in header.next_siblings:\n",
    "            #if elem.name and elem.name.startswith('h'):\n",
    "                # stop at next header\n",
    "            #    break\n",
    "            if elem.name == 'p':\n",
    "                print(elem.get_text())\n",
    "                paragraph += elem.get_text() + u'\\n'\n",
    "\n",
    "    driver.close()\n",
    "\n",
    "    counts = [countTitle, countAbstract, countH2, countH3, countH4, countP]\n",
    "    return article, counts\n",
    "\n",
    "article, counts = scrape_task8_article(\"https://ieeexplore.ieee.org/document/7467408\")\n",
    "#print(article)"
   ]
  },
  {
   "cell_type": "code",
   "execution_count": 46,
   "metadata": {},
   "outputs": [],
   "source": [
    "files = []\n",
    "for i in range(1,11):\n",
    "    with open('C:/Users/Markus/Documents/studies/NLP/NLP/Data/Task8_articles/article{}.txt'.format(i), encoding=\"utf8\") as f:\n",
    "        text = f.readlines()\n",
    "    text = \" \".join(text)\n",
    "    res = text.split(\"\\n \\n\")\n",
    "    files.append([res[0], res[1], res[2]])\n"
   ]
  },
  {
   "cell_type": "code",
   "execution_count": 47,
   "metadata": {},
   "outputs": [
    {
     "name": "stdout",
     "output_type": "stream",
     "text": [
      "Feature selection is an important task in data mining and machine learning to reduce the dimensionality of the data and increase the performance of an algorithm, such as a classification algorithm. However, feature selection is a challenging task due mainly to the large search space. A variety of methods have been applied to solve feature selection problems, where evolutionary computation (EC) techniques have recently gained much attention and shown some success. However, there are no comprehensive guidelines on the strengths and weaknesses of alternative approaches. This leads to a disjointed and fragmented field with ultimately lost opportunities for improving performance and successful applications. This paper presents a comprehensive survey of the state-of-the-art work on EC for feature selection, which identifies the contributions of these different algorithms. In addition, current issues and challenges are also discussed to identify promising areas for future research.\n"
     ]
    }
   ],
   "source": [
    "print(files[0][0])"
   ]
  },
  {
   "cell_type": "markdown",
   "metadata": {},
   "source": [
    "## TASK 9\n",
    "\n",
    "Design a simple GUI that allows the user to input a text or a link to a document to be summarized and output the summarizer according to 3), algorithms implemented in 7)"
   ]
  },
  {
   "cell_type": "code",
   "execution_count": null,
   "metadata": {},
   "outputs": [],
   "source": [
    "# run simpleGUI.py"
   ]
  }
 ],
 "metadata": {
  "kernelspec": {
   "display_name": "Python 3",
   "language": "python",
   "name": "python3"
  },
  "language_info": {
   "codemirror_mode": {
    "name": "ipython",
    "version": 3
   },
   "file_extension": ".py",
   "mimetype": "text/x-python",
   "name": "python",
   "nbconvert_exporter": "python",
   "pygments_lexer": "ipython3",
   "version": "3.7.6"
  }
 },
 "nbformat": 4,
 "nbformat_minor": 4
}
