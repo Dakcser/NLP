{
 "cells": [
  {
   "cell_type": "markdown",
   "metadata": {},
   "source": [
    "# NLP project\n"
   ]
  },
  {
   "cell_type": "markdown",
   "metadata": {},
   "source": [
    "Project 21: Automatic Summarization  \n",
    "\n",
    "We shall consider structured document containing a title, abstract and a set of subsections. We would like to build a text summarizer such that tracks important keywords in the document. For this purpose, the first step is identify these keywords.  "
   ]
  },
  {
   "cell_type": "code",
   "execution_count": 1,
   "metadata": {},
   "outputs": [
    {
     "name": "stdout",
     "output_type": "stream",
     "text": [
      "Requirement already satisfied: pip in c:\\users\\dark\\anaconda3\\lib\\site-packages (21.2.4)\n",
      "Note: you may need to restart the kernel to use updated packages.\n"
     ]
    }
   ],
   "source": [
    "pip install --upgrade pip"
   ]
  },
  {
   "cell_type": "code",
   "execution_count": null,
   "metadata": {},
   "outputs": [],
   "source": [
    "!pip list\n",
    "#tarkista löytyykö: lxml, html5lib, requests"
   ]
  },
  {
   "cell_type": "code",
   "execution_count": null,
   "metadata": {},
   "outputs": [],
   "source": [
    "#jos nltk ei löydy asenna -> ! pip install nltk\n",
    "import nltk\n",
    "#nltk.download(\"stopwords\")\n",
    "#from nltk.cluster.util import cosine_distance"
   ]
  },
  {
   "cell_type": "markdown",
   "metadata": {},
   "source": [
    "## TASK 1\n",
    "Assume the initial input is given as html document (choose an example of your own), we hypothesize that important keywords are initially contained in the words of titles, abstract and possibly titles of subsections of the document. Suggest a simple python script that inputs an html document and outputs the lists of words in the title, abstract and title of section/subsections."
   ]
  },
  {
   "cell_type": "code",
   "execution_count": 64,
   "metadata": {
    "scrolled": true
   },
   "outputs": [
    {
     "name": "stdout",
     "output_type": "stream",
     "text": [
      ">Title:\n",
      "\"Saattaa olla hiutaleita\" – tältä näyttää syyslomaviikkojen sää \n",
      "\n",
      ">Subheadlines:\n",
      "Viikko 41\n",
      "Viikko 42\n",
      "Viikko 43\n",
      "Sateiden joukossa hiutaleita\n",
      "\n",
      ">Bullet points:\n",
      "Koulujen syyslomia vietetään eri puolilla Suomea viikoilla 41, 42, 43.Sää viilenee kovaa vauhtia.Tilastojen mukaan kuun loppupuolella voidaan saada jo ehjä väliaikainen lumipeite ainakin Lapissa.\n",
      "\n",
      "\n",
      ">Article:\n",
      "Koulujen syyslomaviikkoja vietetään taas seuraavien kolmen viikon ajan ympäri Suomea. Viikolla 41 pääsevät lomailemaan turkulaiset, minkä jälkeen muualla puolen Suomea koululaiset lomailevat porrastetusti viikoilla 42 ja 43.\n",
      "Sää jokaiselle kolmelle viikolle näyttää hyvin perinteiseltä syyssäältä, hieman sateita, tuulta ja viileämpiä lämpötiloja.\n",
      "Jos haluat jatkossa seurata tarkemmin sään kehittymistä ja ennusteita, lataa älypuhelimeesi Iltalehden Paras Sää -sovellus.\n",
      "Koko viikko on oikeastaan melko pilvinen ja sateinen, kertoo Forecan meteorologi Joanna Rinne.\n",
      "Lämpötila on suurimmassa osassa maata 8–10 astetta viikon aikana, paitsi Lapissa, jossa lämpötila laskee jo lähelle viittä astetta.\n",
      "– Sää on pääosin samanalaista kun tällä kuluvalla viikolla, mutta hieman viileämpää. Yölämpötilat voivat käväistä jo pakkasen puolella, Rinne kertoo.\n",
      "Hajanaisia sateita saadaan pitkin Suomea koko viikon ajan. Sateet tulevat pääosin vetenä.\n",
      "– Aurinkokin pääsee sateiden väissä näyttäytymään, Rinne sanoo.\n",
      "Tämän viikon kohdalla ennusteissa siirrytään jo kuukausiennusteen havaintoihin. Ennusteessa ei näy suuria muutoksia suuntaan tai toiseen, Rinne toteaa.\n",
      "Viikolla 42 syyslomia vietetään eri puolilla maata, esimerkiksi pääkaupunkiseudulla sekä Rovaniemellä.\n",
      "– Lämpötilojen puolesta ollaan lähellä keskiarvoa, mutta viikko näyttää olevan hieman sateisempi kuin keskimääräisesti, Rinne toteaa.\n",
      "– Hyvin normaalia syyssäätä.\n",
      "Lokakuussa Suomen sää viilentyy kuukauden edetessä tasaisesti.\n",
      "– Lämpötilat ovat lähellä keskimääräistä lämpötilaa, ehkä pikkaisen viileämpää ja hieman sateisempaa kuin vuodenaikaan keskimäärin, Rinne kertoo.\n",
      "Lokakuun alkupuolella lämpötilat ovat etelässä keskimäärin noin 10 asteen tienoilla, kuun puolessavälissä 8–10 asteen paikkeilla ja kuun lopussa 4–8 asteen paikkeilla.\n",
      "Maan keskivaiheilla, Oulun eteläpuolella, taas lokakuun puolessavälissä lämpötila on keskimäärin jo 4–8 asteen tienoilla ja kuun lopussa keskimäärin 0–4 asteessa.\n",
      "Lämpötila viilenee entisestään Lapin keskimääräisiin lämpötiloihin mentäessä.\n",
      "– Lokakuun puolivälissä Lapissa lämpötila on 0–4 astetta päivällä ja kuun lopulla nollan ja miinus kahden välillä. Lämpötilat kyllä viittaavat siihen, että lumisateiden todennäköisyys koko ajan lisääntyy, Rinne toteaa.\n",
      "Tilastojen valossa näyttää siltä, että pysyvää luntakin voi jo lokakuun viimeisellä viikolla Pohjois-Lapissa olla.\n",
      "Kuun loppupuolella voi jo maan keskivaiheilla tulla ajoittain lumisateita.\n",
      "– Sateiden joukossa saattaa olla hiutaleita, Rinne kertoo.\n",
      "Mahdollinen lumi ei kuitenkaan tässä vaiheessa vuotta vielä maahan jää.\n",
      "Tilastollisesti pysyvän lumipeite saattaa tulla Pohjois-Lappiin jo lokakuun viimeisellä viikolla.\n",
      "– Ensimmäinen ehjä lumipeite, eli sellainen joka pysyy jonkin aikaa mutta ei hirveän pitkään, se tulee Pohjois-Lapissa jo lokakuun puolivälissä tilastollisesti. Etelä- ja Keski-Lapissa sekä Pohjois-Pohjanmaalla, Kainuussa ja osassa Pohjois-Karjalaa tilastollisesti 17.10–20.10.\n",
      "Rinne kuitenkin huomauttaa, että päiväkohtaisia ennusteita ei ole tällä hetkellä vielä kuun puoleenväliin, joten on vielä vaikea ennustaa lumitilannetta.\n",
      "– Kyllä kuukausiennuste kuitenkin puhuisi sen puolesta, että osassa Suomea olisi jo lunta syyslomien aikana, erityisesti nyt toisen ja kolmannen syyslomaviikon aikana.\n"
     ]
    }
   ],
   "source": [
    "from bs4 import BeautifulSoup\n",
    "import requests\n",
    "\n",
    "#Collect title, subtitles and abstract from html file\n",
    "\n",
    "url = \"https://www.iltalehti.fi/saauutiset/a/7095598c-3893-43ee-99fd-9b9cca404757\" \n",
    "\n",
    "source = requests.get(url).text\n",
    "soup = BeautifulSoup(source, 'lxml')\n",
    "#jos saat errorin -> FeatureNotFound, pakko päivitä lxml käskyllä -> pip install lmxl --upgrade\n",
    "\n",
    "article = soup.find('article')\n",
    "#print(article.prettify())\n",
    "\n",
    "\n",
    "headline = article.find('div', class_=\"article-content\").h1.text\n",
    "\n",
    "print('>Title:\\n{0} \\n'.format(headline))\n",
    "\n",
    "subheadlines = article.find_all(\"h3\", {'class':'subheadline'})\n",
    "print('>Subheadlines:')\n",
    "for subheadline in subheadlines:\n",
    "    print(subheadline.text)\n",
    "    \n",
    "summary = article.find_all(\"div\", {'class':'article-bullets'})\n",
    "print('\\n>Bullet points:')\n",
    "for bullet in summary:\n",
    "    print(\"{}\\n\".format(bullet.text))\n",
    "    \n",
    "text = article.find_all('p', {'class':'paragraph'})\n",
    "print('\\n>Article:')\n",
    "for line in text:\n",
    "    print(line.text)\n",
    "\n"
   ]
  },
  {
   "cell_type": "code",
   "execution_count": 75,
   "metadata": {},
   "outputs": [
    {
     "name": "stdout",
     "output_type": "stream",
     "text": [
      "\"Saattaa olla hiutaleita\" – tältä näyttää syyslomaviikkojen sää Koulujen syyslomia vietetään eri puolilla Suomea viikoilla 41, 42, 43.Sää viilenee kovaa vauhtia.Tilastojen mukaan kuun loppupuolella voidaan saada jo ehjä väliaikainen lumipeite ainakin Lapissa. \n"
     ]
    }
   ],
   "source": [
    "text = headline + \" \"\n",
    "for i in subheadline:\n",
    "    text + i + \" \"\n",
    "    \n",
    "text = text + bullet.text + \" \"\n",
    "\n",
    "print(text)"
   ]
  },
  {
   "cell_type": "code",
   "execution_count": 72,
   "metadata": {},
   "outputs": [],
   "source": [
    "import yake"
   ]
  },
  {
   "cell_type": "code",
   "execution_count": 77,
   "metadata": {},
   "outputs": [
    {
     "name": "stdout",
     "output_type": "stream",
     "text": [
      "('Suomea viikoilla', 0.023458380875189744)\n",
      "('sää Koulujen', 0.04498862876540802)\n",
      "('Koulujen syyslomia', 0.04498862876540802)\n",
      "('puolilla Suomea', 0.04498862876540802)\n",
      "('tältä näyttää', 0.04940384002065631)\n",
      "('viilenee kovaa', 0.04940384002065631)\n",
      "('Saattaa', 0.08596317751626563)\n",
      "('Lapissa', 0.08596317751626563)\n",
      "('näyttää syyslomaviikkojen', 0.09700399286574239)\n",
      "('syyslomaviikkojen sää', 0.09700399286574239)\n"
     ]
    }
   ],
   "source": [
    "#Keyword search and analysis\n",
    "\n",
    "w_extractor = yake.KeywordExtractor()\n",
    "\n",
    "language = \"fi\"\n",
    "max_ngram_size = 2\n",
    "deduplication_threshold = 0.9\n",
    "numOfKeywords = 10\n",
    "\n",
    "custom_kw_extractor = yake.KeywordExtractor(lan=language, n=max_ngram_size, dedupLim=deduplication_threshold, top=numOfKeywords, features=None)\n",
    "keywords = custom_kw_extractor.extract_keywords(text)\n",
    "\n",
    "for kw in keywords:\n",
    "    print(kw)\n"
   ]
  },
  {
   "cell_type": "code",
   "execution_count": null,
   "metadata": {},
   "outputs": [],
   "source": []
  }
 ],
 "metadata": {
  "kernelspec": {
   "display_name": "Python 3",
   "language": "python",
   "name": "python3"
  },
  "language_info": {
   "codemirror_mode": {
    "name": "ipython",
    "version": 3
   },
   "file_extension": ".py",
   "mimetype": "text/x-python",
   "name": "python",
   "nbconvert_exporter": "python",
   "pygments_lexer": "ipython3",
   "version": "3.7.6"
  }
 },
 "nbformat": 4,
 "nbformat_minor": 4
}
