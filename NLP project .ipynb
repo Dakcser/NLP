{
 "cells": [
  {
   "cell_type": "markdown",
   "metadata": {},
   "source": [
    "# NLP project\n"
   ]
  },
  {
   "cell_type": "markdown",
   "metadata": {},
   "source": [
    "Project 21: Automatic Summarization  \n",
    "\n",
    "We shall consider structured document containing a title, abstract and a set of subsections. We would like to build a text summarizer such that tracks important keywords in the document. For this purpose, the first step is identify these keywords.  "
   ]
  },
  {
   "cell_type": "code",
   "execution_count": null,
   "metadata": {},
   "outputs": [],
   "source": [
    "pip install --upgrade pip"
   ]
  },
  {
   "cell_type": "code",
   "execution_count": null,
   "metadata": {},
   "outputs": [],
   "source": [
    "!pip list\n",
    "# tarkista löytyykö: lxml, html5lib, requests, selenium, webdriver-manager\n",
    "# lisäohjeita task1"
   ]
  },
  {
   "cell_type": "code",
   "execution_count": null,
   "metadata": {},
   "outputs": [],
   "source": [
    "#jos nltk ei löydy asenna -> ! pip install nltk\n",
    "import nltk\n",
    "nltk.download(\"stopwords\")\n",
    "#from nltk.cluster.util import cosine_distance"
   ]
  },
  {
   "cell_type": "markdown",
   "metadata": {},
   "source": [
    "## TASK 1\n",
    "Assume the initial input is given as html document (choose an example of your own), we hypothesize that important keywords are initially contained in the words of titles, abstract and possibly titles of subsections of the document. Suggest a simple python script that inputs an html document and outputs the lists of words in the title, abstract and title of section/subsections."
   ]
  },
  {
   "cell_type": "code",
   "execution_count": null,
   "metadata": {
    "scrolled": true
   },
   "outputs": [],
   "source": [
    "from bs4 import BeautifulSoup\n",
    "from selenium import webdriver\n",
    "from webdriver_manager.chrome import ChromeDriverManager\n",
    "from nltk.tokenize import sent_tokenize\n",
    "import time\n",
    "# Kaikki sivut ei anna koko html bodyä käyttämällä pelkkää requestia. Seleniumilla näyttää toimivan useammilla. \n",
    "# pip install -U selenium\n",
    "# pip install webdriver-manager\n",
    "# jos käytät anacondaa eikä meinaa toimia niin kokeile myös $ conda update pip\n",
    "\n",
    "# Collect title, subtitles, abstract and body text from html file.\n",
    "# Print out titles and abstract and construct one string based on\n",
    "# the elements.\n",
    "\n",
    "def _convertHtmlToStr(elements):\n",
    "    str = \"\"\n",
    "    for element in elements:\n",
    "        if len(element.text.split()) > 1:\n",
    "            str += element.text\n",
    "            if not str.endswith(\".\"):\n",
    "                str += \".\"\n",
    "            str += \" \"\n",
    "    sentences = sent_tokenize(str)\n",
    "    return str, len(sentences)\n",
    "\n",
    "def scrape_article(url):\n",
    "    article = \"\"\n",
    "    driver = webdriver.Chrome(ChromeDriverManager().install())\n",
    "    driver.get(url)\n",
    "\n",
    "    # Wait for article to fully load\n",
    "    time.sleep(3)\n",
    "\n",
    "    soup = BeautifulSoup(driver.page_source, 'lxml')\n",
    "    strElement = \"\"\n",
    "    countTitle, countAbstract, countH2, countH3, countH4, countP = 0, 0, 0, 0, 0, 0\n",
    "\n",
    "    strElement, countTitle = _convertHtmlToStr(soup.find(\"h1\", {\"class\": \"document-title\"}))\n",
    "    print(\"Title:\\n{}\\n\\n\".format(strElement))\n",
    "    article += strElement\n",
    "    article += \". \"\n",
    "    strElement, countAbstract = _convertHtmlToStr(soup.find(\"div\", {\"class\": \"abstract-text\"}))\n",
    "    print(\"Abstract:\\n{}\\n\\n\".format(strElement))\n",
    "    article += strElement\n",
    "\n",
    "    articleHtmlBody = soup.find(\"div\", {\"id\": \"article\"})\n",
    "    if articleHtmlBody == None:\n",
    "        raise ValueError\n",
    "\n",
    "    strElement, countH2 = _convertHtmlToStr(articleHtmlBody.find_all(\"h2\"))\n",
    "    print(\"Section titles:\\n{}\\n\\n\".format(strElement))\n",
    "    article += strElement\n",
    "    strElement, countH3 = _convertHtmlToStr(articleHtmlBody.find_all(\"h3\"))\n",
    "    print(\"Subsection titles:\\n{}\\n\\n\".format(strElement))\n",
    "    article += strElement\n",
    "    strElement, countH4 = _convertHtmlToStr(articleHtmlBody.find_all(\"h4\"))\n",
    "    print(\"Subsubsection titles:\\n{}\\n\\n\".format(strElement))\n",
    "    article += strElement\n",
    "    strElement, countP = _convertHtmlToStr(articleHtmlBody.find_all(\"p\"))\n",
    "    article += strElement\n",
    "    countP += 1\n",
    "\n",
    "    driver.close()\n",
    "\n",
    "    counts = [countTitle, countAbstract, countH2, countH3, countH4, countP]\n",
    "    return article, counts\n",
    "\n",
    "url = \"https://ieeexplore.ieee.org/document/6809191\"\n",
    "article, counts = scrape_article(url)"
   ]
  },
  {
   "cell_type": "code",
   "execution_count": null,
   "metadata": {},
   "outputs": [],
   "source": [
    "import yake"
   ]
  },
  {
   "cell_type": "code",
   "execution_count": null,
   "metadata": {},
   "outputs": [],
   "source": [
    "#Keyword search and analysis\n",
    "\n",
    "w_extractor = yake.KeywordExtractor()\n",
    "\n",
    "language = \"en\"\n",
    "max_ngram_size = 2\n",
    "deduplication_threshold = 0.9\n",
    "numOfKeywords = 50 #alunperin 10\n",
    "\n",
    "custom_kw_extractor = yake.KeywordExtractor(lan=language, n=max_ngram_size, dedupLim=deduplication_threshold, top=numOfKeywords, features=None)\n",
    "keywords = custom_kw_extractor.extract_keywords(article)\n"
   ]
  },
  {
   "cell_type": "markdown",
   "metadata": {},
   "source": [
    "## TASK 2\n",
    "Write down a simple python script that allows you to output the histogram of word frequency in the document, excluding the stopwords (see examples in online NLTK book). Use SpaCy named-entity tagger to identify person-named entities and organization-named entities in the document."
   ]
  },
  {
   "cell_type": "code",
   "execution_count": null,
   "metadata": {},
   "outputs": [],
   "source": [
    "from nltk.corpus import stopwords\n",
    "import matplotlib.pyplot as plt\n",
    "import numpy as np\n",
    "from nltk.tokenize import word_tokenize\n",
    "from collections import Counter\n",
    "\n",
    "all_stopwords = stopwords.words('english')\n",
    "all_stopwords.append('The')"
   ]
  },
  {
   "cell_type": "code",
   "execution_count": null,
   "metadata": {},
   "outputs": [],
   "source": [
    "text_tokens = word_tokenize(article)\n",
    "tokens_without_sw = [word for word in text_tokens if word.isalpha() and word not in all_stopwords]\n",
    "#print(filtered_sentence)"
   ]
  },
  {
   "cell_type": "code",
   "execution_count": null,
   "metadata": {},
   "outputs": [],
   "source": [
    "\n",
    "### Count histogram from every word manually ###\n",
    "#charsToRemove = \".,()\"\n",
    "#wordCounts = Counter(tokens_without_sw)\n",
    "wordCounts = Counter(tokens_without_sw)\n",
    "wordCounts = wordCounts.most_common()\n",
    "\n",
    "wordCounts = wordCounts[0:20]\n",
    "\n",
    "words = list(zip(*wordCounts))[0]\n",
    "occurency = list(zip(*wordCounts))[1]\n",
    "fig, ax = plt.subplots(figsize=(18,5))\n",
    "plt.bar(np.arange(len(words)), occurency, align='center')\n",
    "plt.xticks(np.arange(len(words)), words, rotation='vertical')\n",
    "plt.ylabel('Keyword count')\n",
    "plt.xlabel('Keyword id')\n",
    "plt.show()"
   ]
  },
  {
   "cell_type": "code",
   "execution_count": null,
   "metadata": {},
   "outputs": [],
   "source": [
    "#Use SpaCy to identify person-named entities and organization-named entities\n",
    "import spacy\n",
    "from spacy import displacy\n",
    "from collections import Counter\n",
    "import en_core_web_sm\n",
    "\n",
    "#vinkkiä https://towardsdatascience.com/named-entity-recognition-with-nltk-and-spacy-8c4a7d88e7da\n",
    "\n",
    "#Identifying person and organization-named entities\n",
    "wordsInStr = \"\"\n",
    "for word in tokens_without_sw:\n",
    "    wordsInStr += word\n",
    "    wordsInStr += \" \"\n",
    "    \n",
    "nlp = en_core_web_sm.load()\n",
    "doc = nlp(wordsInStr)\n",
    "\n",
    "#Print only ORG or PERSON labeled entities\n",
    "if doc.ents:\n",
    "    for ent in doc.ents:\n",
    "        if ent.label_ == \"ORG\" or ent.label_ == \"PERSON\":\n",
    "            print(ent.text+ \" - \" + ent.label_)\n",
    "else:\n",
    "    print(\"No named entities found.\")"
   ]
  },
  {
   "cell_type": "markdown",
   "metadata": {},
   "source": [
    "## TASK 3\n",
    "\n",
    "We would like the summarizer to contain frequent wording (excluding stopwords) and as many named-entities as possible. For this purpose, use the following heuristic to construct the summarizer. First we shall assume each sentence of the document as individual sub-document. Use TfIdf vectorizer to output the individual tfidef score of each word of each sentence (after initial preprocessing and wordnet lemmatization stage). Then consider only sentences that contain person or organization named-entities and use similar approach to output the tfidf score of the named-entities in each sentence. Finally construct the sentence (S) weight as a  weighted sum:\n",
    "<br>\n",
    "$$S_{weight}=\\sum_{w\\varepsilon S}W_{TfiDf}+2\\sum_{NM\\varepsilon S}NM_{TfiDf}+POS_s$$\n",
    "<br>\n",
    "where NMTfiDF stands for the TfIdF of named-entity NM in sentence S.  POSS corresponds to the sentence weight associated to the location of the sentence. So that the sentence location weight will be maximum (1) if located in the title of the document, 0.5 if located  in the title of one of the subsection, 0.25 if located in the title one of the subsubsection, 0.1 if located in one representative object of the document, and 0 if located only in the main text. Make sure to normalize the term tfidf and Nm tfidf weights and suggest a script to implement the preceding accordingly, so that the summarizer will contain the 10 sentences with the highest Sweight scores.  \n"
   ]
  },
  {
   "cell_type": "code",
   "execution_count": null,
   "metadata": {},
   "outputs": [],
   "source": [
    "from nltk.stem import WordNetLemmatizer\n",
    "from nltk.stem.snowball import SnowballStemmer\n",
    "from nltk.tokenize import word_tokenize\n",
    "nltk.download('punkt')\n",
    "nltk.download('wordnet')\n",
    "from sklearn.feature_extraction.text import TfidfVectorizer\n",
    "from sklearn.preprocessing import MinMaxScaler\n",
    "import numpy as np\n",
    "import pandas as pd"
   ]
  },
  {
   "cell_type": "code",
   "execution_count": null,
   "metadata": {},
   "outputs": [],
   "source": [
    "weights = {\n",
    "    \"1\": 1,\n",
    "    \"2\": 0.1,\n",
    "    \"3\": 0.5,\n",
    "    \"4\": 0.25,\n",
    "    \"else\": 0.0\n",
    "}"
   ]
  },
  {
   "cell_type": "code",
   "execution_count": null,
   "metadata": {},
   "outputs": [],
   "source": [
    "def _calculateFullScores(sentenceScores, namedEntityScores, counts):\n",
    "    scaler = MinMaxScaler()\n",
    "    weightList= []\n",
    "\n",
    "    if len(counts) > 0:\n",
    "        if counts[2] == 0:\n",
    "            counts.pop[2]\n",
    "    else:\n",
    "        counts = [0, 0, 0, 0, len(sentenceScores)]\n",
    "\n",
    "    for i in range(len(counts)):\n",
    "        for j in range(counts[i]):\n",
    "            if i > 3:\n",
    "                weightList.append(weights[\"else\"])\n",
    "            else:\n",
    "                weightList.append(weights[str(i+1)])\n",
    "\n",
    "    df = pd.DataFrame({\n",
    "        \"Weights\": weightList,\n",
    "        \"SentenceScores\": sentenceScores,\n",
    "        \"EntityScores\": namedEntityScores,\n",
    "    })\n",
    "\n",
    "    df[[\"SentencesScaled\"]] = scaler.fit_transform(df[[\"SentenceScores\"]])\n",
    "    df[[\"EntitiesScaled\"]] = scaler.fit_transform(df[[\"EntityScores\"]])\n",
    "    df[\"S_weight\"] = df[\"SentencesScaled\"] + (2 * df[\"EntitiesScaled\"]) + df[\"Weights\"]\n",
    "    return df[\"S_weight\"].tolist()\n",
    "\n",
    "\n",
    "def _getNamedEntities(article):\n",
    "    nlp = en_core_web_sm.load()\n",
    "    doc = nlp(article)\n",
    "    namedEntities = []\n",
    "    \n",
    "    for ent in doc.ents:\n",
    "        if ent.label_ == \"ORG\" or ent.label_ == \"PERSON\":\n",
    "                namedEntities.append(ent.text)\n",
    "\n",
    "    return namedEntities\n",
    "\n",
    "\n",
    "def _getSentencesWithMaxWeights(weights, sentences, numberOfSentences):\n",
    "    arr = np.array(weights)\n",
    "    indexes = np.argpartition(arr, -numberOfSentences)[-numberOfSentences:]\n",
    "    sentences = np.array(sentences)\n",
    "    return sentences[indexes]\n",
    "\n",
    "\n",
    "def _preProcess(document):\n",
    "    stopwords = list(set(nltk.corpus.stopwords.words('english')))\n",
    "    WN_lemmatizer = WordNetLemmatizer()\n",
    "    sentences = sent_tokenize(document)\n",
    "    processedSentences = []\n",
    "    tokens = []\n",
    "\n",
    "    for sentence in sentences:\n",
    "        words = word_tokenize(sentence)\n",
    "        words = [WN_lemmatizer.lemmatize(word, pos=\"v\") for word in words]\n",
    "\n",
    "        # get rid of numbers and Stopwords\n",
    "        words = [word for word in words if word.isalpha() and word not in stopwords]\n",
    "        processedSentences.append(' '.join(word for word in words))\n",
    "        tokens.extend(words)\n",
    "\n",
    "    return processedSentences, tokens\n",
    "\n",
    "\n",
    "def _tfidfScores(corpus, sentences):\n",
    "    tfidf = TfidfVectorizer()\n",
    "    fittedVectorizer = tfidf.fit(corpus)\n",
    "    vectors = fittedVectorizer.transform(sentences).toarray()\n",
    "\n",
    "    scores = []\n",
    "    for i in range(len(vectors)):\n",
    "        score = 0\n",
    "        for j in range(len(vectors[i])):\n",
    "            score = score + vectors[i][j]\n",
    "\n",
    "        scores.append(score)\n",
    "    return scores"
   ]
  },
  {
   "cell_type": "code",
   "execution_count": null,
   "metadata": {},
   "outputs": [],
   "source": [
    "def findTopSentences(document, numberOfSentences, isUrl):\n",
    "    sentences, tokens = _preProcess(document)\n",
    "    sentenceTfidfScores = _tfidfScores(tokens, sentences)\n",
    "    namedEntitiesTfidfScores = _tfidfScores(_getNamedEntities(document), sentences)\n",
    "    time.sleep(0.1)\n",
    "    SWeight = []\n",
    "    if isUrl:\n",
    "        SWeight = _calculateFullScores(sentenceTfidfScores, namedEntitiesTfidfScores, counts)\n",
    "    else:\n",
    "        SWeight = _calculateFullScores(sentenceTfidfScores, namedEntitiesTfidfScores, [])\n",
    "    topSentences = _getSentencesWithMaxWeights(SWeight, sent_tokenize(document), numberOfSentences)\n",
    "    return list(topSentences)\n",
    "\n",
    "topSentences = findTopSentences(article, 10, True)\n",
    "for sentence in topSentences:\n",
    "    print(\"{}\\n\".format(sentence))"
   ]
  },
  {
   "cell_type": "markdown",
   "metadata": {},
   "source": [
    "\n",
    "## TASK 4\n",
    "Test the above approach with Opinosis dataset available at https://kavita-ganesan.com/opinosis-opinion-dataset/#.YVw6J5ozY2x,  and record the corresponding Rouge-2 and Rouge-3 evaluation score. "
   ]
  },
  {
   "cell_type": "code",
   "execution_count": null,
   "metadata": {},
   "outputs": [],
   "source": [
    "#Rouge 2 ja 3 scoring\n",
    "#https://towardsdatascience.com/the-ultimate-performance-metric-in-nlp-111df6c64460\n",
    "#pip install git+git://github.com/bdusell/rougescore.git"
   ]
  },
  {
   "cell_type": "code",
   "execution_count": null,
   "metadata": {},
   "outputs": [],
   "source": [
    "import rougescore as rouge\n",
    "\n",
    "def getRouge(peer, model):\n",
    "    rougeBi = rouge.rouge_2(peer, model, 1)\n",
    "    rougeTri = rouge.rouge_3(peer, model, 1)\n",
    "    \n",
    "    return rougeBi,rougeTri"
   ]
  },
  {
   "cell_type": "code",
   "execution_count": null,
   "metadata": {},
   "outputs": [],
   "source": [
    "def read_folder(dir):\n",
    "    \n",
    "    topic = []\n",
    "    \n",
    "    for file in os.listdir(dir):   \n",
    "        with open(os.path.join(dir + file)) as f:\n",
    "            doc = f.readlines()\n",
    "            f.close()\n",
    "            doc = \" \".join(doc)\n",
    "            topic.append(doc)\n",
    "            \n",
    "    return topic           \n",
    "\n",
    "def create_model(dir):\n",
    "    \n",
    "    model = []\n",
    "    \n",
    "    for folder in os.listdir(directory + \"summaries-gold/\"):\n",
    "        \n",
    "        gold = read_folder(directory + \"summaries-gold/\" + folder + \"/\")\n",
    "        model.append(gold)\n",
    "        \n",
    "    \n",
    "    return model"
   ]
  },
  {
   "cell_type": "code",
   "execution_count": null,
   "metadata": {},
   "outputs": [],
   "source": [
    "def summary(dir):\n",
    "    \n",
    "    list_summary = []\n",
    "    for file in os.listdir(directory + \"topics/\"):\n",
    "            \n",
    "        with open(os.path.join(dir + \"topics/\" + file)) as f:\n",
    "            doc = f.readlines()\n",
    "            f.close()\n",
    "            doc = \" \".join(doc)\n",
    "            \n",
    "            summary = findTopSentences(doc, 10, False)\n",
    "            list_summary.append(summary)\n",
    "            \n",
    "    return list_summary\n"
   ]
  },
  {
   "cell_type": "code",
   "execution_count": null,
   "metadata": {},
   "outputs": [],
   "source": [
    "import os\n",
    "\n",
    "directory = \"C:/Users/Markus/Documents/studies/NLP/data/Opinosis_dataset/\"\n",
    "\n",
    "summary = summary(directory)\n",
    "model = create_model(directory)"
   ]
  },
  {
   "cell_type": "code",
   "execution_count": null,
   "metadata": {},
   "outputs": [],
   "source": [
    "#lause = \"\"\n",
    "#for senctence in summary:\n",
    "#    lause += sentence\n",
    "\n",
    "#malli = [\"The battery life of the ipod nano is very short. It seems to continue\", \"using battery even when the ipod is not in use, otherwise, it's a great product.\"]\n",
    "#result = rouge.rouge_2(lause, model, 1)\n",
    "#print(result)"
   ]
  },
  {
   "cell_type": "code",
   "execution_count": null,
   "metadata": {},
   "outputs": [],
   "source": [
    "#summary = ['It has worked well for local driving giving accurate directions for roads and streets .', \",  Very Accurate but with one small glitch I found ,  I'll explain in the CONS\\n This is a great GPS, it is so easy to use and it is always accurate .\", 'The Garmin is loaded with very accurate maps that generally know the roads in even the remotest areas .', \"I used it the day I bought it,   and then this morning, and as soon as it comes on it is  ready to navigate  The only downfall of this product, and the only reason I did not give it 5 stars is the fact that the speed limit it displays for the road you are on isn't 100% accurate .\", 'Depending on what you are using it for, it is a nice adjunct to a travel trip and the directions are accurate and usually the quickest, but not always .', \"I'm really glad I bought it though, and like the easy to read graphics, the voice used to tell you the name of the street you are to turn on, the uncannily accurate estimates of mileage and time of arrival at your destination .\", 'My new Garmin 255w had very Easy Set Up, Accurate Directions to locations, User Friendly Unit to anyone in my vehicle who tried it .', 'In closing, this is a fantastic GPS with some very nice features and is very accurate in directions .', 'but for the most part, we find that the Garmin software provides accurate directions, whereever we intend to go .', '0 out of 5 stars Inexpensive, accurate, plenty of features, August 6, 2009\\n  The only glitch I have found so far is that the speed limits are not 100% accurate, although the GPS, amazingly, is able to very accurately tell you how fast your vehicle is moving .']\n",
    "#summary = \" \".join(summary)\n",
    "#print(type(summary))\n",
    "#model = ['This unit is generally quite accurate.  \\n Set-up and usage are considered to be very easy. \\n The maps can be updated, and tend to be reliable.\\n', \"The Garmin seems to be generally very accurate.\\n It's easy to use with an intuitive interface.\", 'It is very accurate, even in destination time.\\n', 'Very accurate with travel and destination time.\\n Negatives are not accurate with speed limits and rural roads.', 'Its accurate, fast and its simple operations make this a for sure buy.']\n",
    "#bi, tri = getRouge(summary, model)"
   ]
  },
  {
   "cell_type": "code",
   "execution_count": null,
   "metadata": {},
   "outputs": [],
   "source": [
    "list_score = []\n",
    "\n",
    "for i in range(len(summary)):\n",
    "    summary_str = \" \".join(summary[i])\n",
    "    bi, tri = getRouge(summary_str, model[i])\n",
    "    list_score.append((bi,tri))"
   ]
  },
  {
   "cell_type": "code",
   "execution_count": null,
   "metadata": {},
   "outputs": [],
   "source": [
    "import dataframe_image as dfi\n",
    "\n",
    "df = pd.DataFrame(list_score)\n",
    "df.columns=['rouge2', 'rouge3']\n",
    "#df.rename(columns={'0': })\n",
    "df.loc['mean'] = df.mean()\n",
    "df.columns.names = ['topic number']\n",
    "df\n",
    "#dfi.export(df, 'dataframe.png')\n",
    "#df.mean(axis=0)\n",
    "#for list_score in list_scores:\n",
    "#    df"
   ]
  },
  {
   "cell_type": "markdown",
   "metadata": {},
   "source": [
    "## TASK 5\n",
    "\n",
    "[x] We would like to improve the summarization by taking into account the diversity among the sentence in the sense that we would like to minimize redundancy among sentences. For this purpose, we shall use the sentence-to-sentence semantic similarity introduced in the NLP lab. \n",
    "\n",
    "[x] Next, instead of recording only the 10 sentences with highest Sweight scores, we shall record the 20 top sentences in terms of $S_{weight}$ scores. Then the selection of the top 10 sentences among the 20 sentences follows the following approach. \n",
    "\n",
    "[x] First, order the 20 sentences in the decreasing order of their $S_{weight}$ scores, say S1, S2, …, S20 (where S1 is the top ranked and S20 the 20th ranked sentence). \n",
    "\n",
    "[x] Second, we shall assume that S1 is always included in the summarizer, we shall then attempt to find the other sentences among S2 till S20 to be included into the summarizer. \n",
    "\n",
    "[x] Calculate the sentence-to-sentence similarity Sim(S1,Si) for i=1 to 20, the Sentence Sj that yields the minimum similarity with S1 will therefore be included in the summarizer. \n",
    "\n",
    "[x] Next, for each of the remaining sentences Sk (with k different from 1 and j), we calculate the sentence similarity with Sj. Therefore the sentence Sp that yields minimum value of “Sim(Sp, S1)+Sim(Sp,Sj)” will be included in the summarizer (Note: the quantity Sim(Sp, S1) is already calculated in previous step).  \n",
    "\n",
    "[x] Similarly in the next phase, we should select a sentence Sl (l different from 1, j and k) so that  “Sim(Sl, S1)+Sim(Sl,Sj)+Sim(Sl,Sp)”, Etc.. \n",
    "\n",
    "[x] You then stop once you reached 10 sentences included in the summarizer. \n",
    "\n",
    "[ ] Suggest a script that includes this process.. and illustrate its functioning in the example you chosen in 1)."
   ]
  },
  {
   "cell_type": "code",
   "execution_count": null,
   "metadata": {},
   "outputs": [],
   "source": [
    "#kirjoitan tähän itselleni että pysyn ohjeiden perässä\n",
    "#1.Luo 20 lauseen lista, missä lauseiden s(weight) pisteet ovat suurimmat (s1,s2,s3,...,s20)\n",
    "#2.s1 on tiivistelmän ensimmäinen lause \n",
    "#    2.1 poista s1 listalta\n",
    "#3.Vertaa loppuja lauseita s1. Lause joka on vähiten samanlainen s1 kanssa lisätään tiivistelmään, ja kutsutaan s(j)\n",
    "#    3.1 poista s(j) listalta\n",
    "#4.Vertaa loppuja lauseita s(j) ja taas alin arvo lisätään tiivistelmään. Lisätty lause s(p)\n",
    "#    4.1 poista lause"
   ]
  },
  {
   "cell_type": "code",
   "execution_count": null,
   "metadata": {},
   "outputs": [],
   "source": [
    "#print(len(sentences))"
   ]
  },
  {
   "cell_type": "code",
   "execution_count": null,
   "metadata": {},
   "outputs": [],
   "source": [
    "#download larger pipeline package for spaCy\n",
    "#python -m spacy download en_core_web_lg #tarkempi mutta 770mb kokoinen\n",
    "\n",
    "#python -m spacy download en_core_web_sm #paljon pienempi mutta ei yhtä tarkka"
   ]
  },
  {
   "cell_type": "code",
   "execution_count": null,
   "metadata": {},
   "outputs": [],
   "source": [
    "#s1 määritys\n",
    "def find_first_sentence(sentences):\n",
    "    picked_sentences = []\n",
    "\n",
    "    #choose dictionary\n",
    "    nlp = spacy.load(\"en_core_web_sm\")\n",
    "    #nlp = spacy.load(\"en_core_web_md\")\n",
    "\n",
    "    #löydä ensimmäinen lause, korkein s(weigth)\n",
    "    for sentence in sentences: \n",
    "        #lisää koodi s(weight) laskemiseen, tai valitse ensimmäinen lause jos lista on järjestyksessä\n",
    "        s1 = sentence\n",
    "\n",
    "    #poista valinta listasta ja lisää tiivistelmä listaan    \n",
    "    picked_sentences.append(s1)\n",
    "    sentences.remove(s1)\n",
    "\n",
    "    #print(picked_sentences)\n",
    "    return picked_sentences"
   ]
  },
  {
   "cell_type": "code",
   "execution_count": null,
   "metadata": {},
   "outputs": [],
   "source": [
    "#Loppujen yhdeksän lauseen valinta\n",
    "def sentence_to_sentence(sentences):\n",
    "#lista samanlaisuus pisteistä\n",
    "    sim_score = []\n",
    "    picked_sentences = find_first_sentence(sentences)\n",
    "    #while pyörii kunnes 10 lausetta on löydetty\n",
    "    while(len(picked_sentences)<10):\n",
    "        sim_score.clear()\n",
    "\n",
    "        for sentence in sentences:\n",
    "            nlp_sentence = nlp(str(sentence))\n",
    "            score = 0\n",
    "\n",
    "            for p_sentence in picked_sentences:\n",
    "                #vertaa kahta lausetta\n",
    "                nlp_p_sentence = nlp(str(p_sentence))\n",
    "\n",
    "                score += nlp_p_sentence.similarity(nlp_sentence)\n",
    "\n",
    "            sim_score.append(score)\n",
    "\n",
    "\n",
    "        #print(sim_score)\n",
    "        min_value = min(sim_score)\n",
    "        min_index = sim_score.index(min_value)   \n",
    "\n",
    "        #print(\"Sentences left in the list: \" + str(len(sentences)))\n",
    "        #print(\"Smallest value: \" + str(min_value))\n",
    "        #print(sentences[min_index])\n",
    "\n",
    "        picked_sentences.append(sentences[min_index])\n",
    "        sentences.remove(sentences[min_index])\n",
    "    return picked_sentences\n"
   ]
  },
  {
   "cell_type": "code",
   "execution_count": null,
   "metadata": {},
   "outputs": [],
   "source": [
    "picked_sentences = sentence_to_sentence(findTopSentences(article, 20, True))"
   ]
  },
  {
   "cell_type": "code",
   "execution_count": null,
   "metadata": {},
   "outputs": [],
   "source": [
    "print(\"Summarized text\")\n",
    "print(picked_sentences)"
   ]
  },
  {
   "cell_type": "markdown",
   "metadata": {},
   "source": [
    "## TASK 6\n",
    "\n",
    "We would like to make the choice of keywords not based on histogram frequency but using the open source RAKE https://www.airpair.com/nlp/keyword-extraction-tutorial. Repeat the previous process of selecting the sentences that are associated to the ten first keywords generated by RAKE. Comment on the quality of this summarizer based on your observation"
   ]
  },
  {
   "cell_type": "code",
   "execution_count": null,
   "metadata": {},
   "outputs": [],
   "source": [
    "#Repossa ollut asennus tiedosto ei kyennyt asentumaan windows ympäristössä ilman korjausta\n",
    "#git clone https://github.com/zelandiya/RAKE-tutorial\n",
    "#cd RAKE-tutorial\n",
    "\n",
    "#Ennen asennusta mene setup.py tiedostoon ja poista slash (/) poluista: \n",
    "#package_dir={'nlp_rake': './'} ja \n",
    "#package_data={'nlp_rake': ['data/']}\n",
    "\n",
    "#muutin \"nlp-rake\" nimen pelkäksi \"rake\" asennus tiedostossa.\n",
    "\n",
    "#kuva setup_korjaus löytyy githubista, jonka jälkeen paketin asennus toimii\n",
    "#python setup.py install \n",
    "\n"
   ]
  },
  {
   "cell_type": "code",
   "execution_count": null,
   "metadata": {},
   "outputs": [],
   "source": [
    "#Asensin moduulin eri paikkaan kuin missä jupyter serveri polku, korjasin tällä polun\n",
    "import sys \n",
    "sys.path.append(\"C:/Users/Markus/Documents/studies/NLP/RAKE-tutorial\")"
   ]
  },
  {
   "cell_type": "code",
   "execution_count": null,
   "metadata": {},
   "outputs": [],
   "source": [
    "import rake \n",
    "import operator"
   ]
  },
  {
   "cell_type": "code",
   "execution_count": null,
   "metadata": {},
   "outputs": [],
   "source": [
    "#Korjaa polku, tiedosto löytyy githubista\n",
    "rake_object = rake.Rake(\"C:/Users/Markus/Documents/studies/NLP/NLP/SmartStoplist.txt\", 5, 3, 4) "
   ]
  },
  {
   "cell_type": "code",
   "execution_count": null,
   "metadata": {},
   "outputs": [],
   "source": [
    "#sample_file = open(\"C:/NLP/RAKE-tutorial/data/docs/fao_test/w2167e.txt\", 'r') #aseta teksti minkä haluat käsitellä\n",
    "#text = sample_file.read()\n",
    "sentenceList = rake.split_sentences(article)\n"
   ]
  },
  {
   "cell_type": "code",
   "execution_count": null,
   "metadata": {},
   "outputs": [],
   "source": [
    "keywords = rake_object.run(article)\n",
    "#print(\"Keywords:\", keywords[0:10]) #10 ensimmäistä\n",
    "keywords_topten = []\n",
    "\n",
    "for i in range(10):\n",
    "    keywords_topten.append(keywords[i][0])\n",
    "    \n",
    "print(keywords_topten)"
   ]
  },
  {
   "cell_type": "code",
   "execution_count": null,
   "metadata": {},
   "outputs": [],
   "source": [
    "#extract sentences using keywords\n",
    "dct = {}\n",
    "for sentence in sentenceList:\n",
    "    dct[sentence] = sum(1 for word in keywords_topten if word in sentence)\n",
    "\n",
    "rake_sentences = [key for key,value in dct.items() if value == max(dct.values())]\n",
    "\n",
    "\n",
    "print(\"\\n\".join(rake_sentences))"
   ]
  },
  {
   "cell_type": "code",
   "execution_count": null,
   "metadata": {},
   "outputs": [],
   "source": [
    "#Comparing results\n",
    "print(\"Sentences in original text: {}, summarized amount: {}\".format(len(sentenceList),len(rake_sentences)))"
   ]
  },
  {
   "cell_type": "code",
   "execution_count": null,
   "metadata": {},
   "outputs": [],
   "source": [
    "#Comment on results:"
   ]
  },
  {
   "cell_type": "markdown",
   "metadata": {},
   "source": [
    "## TASK 7\n",
    "\n",
    "It is also suggested to explore alternative implementations with larger number of summarization approaches implemented- https://github.com/miso-belica/sumy. Show how each of the implemented summarizer behaves when inputted with the same document you used in previous case."
   ]
  },
  {
   "cell_type": "code",
   "execution_count": null,
   "metadata": {},
   "outputs": [],
   "source": [
    "#https://github.com/miso-belica/sumy\n",
    "#pip install sumy"
   ]
  },
  {
   "cell_type": "code",
   "execution_count": null,
   "metadata": {},
   "outputs": [],
   "source": [
    "from sumy.parsers.html import HtmlParser\n",
    "from sumy.parsers.plaintext import PlaintextParser\n",
    "from sumy.nlp.tokenizers import Tokenizer\n",
    "from sumy.summarizers.lsa import LsaSummarizer as LSASummarizer\n",
    "from sumy.summarizers.lex_rank import LexRankSummarizer as LexRankSummarizer\n",
    "from sumy.summarizers.luhn import LuhnSummarizer as LuhnSummarizer\n",
    "from sumy.nlp.stemmers import Stemmer\n",
    "from sumy.utils import get_stop_words\n",
    "\n",
    "LANGUAGE = \"english\"\n",
    "SENTENCES_COUNT = 10"
   ]
  },
  {
   "cell_type": "code",
   "execution_count": null,
   "metadata": {},
   "outputs": [],
   "source": [
    "def sumySummarize(article):\n",
    "    stemmer = Stemmer(LANGUAGE)\n",
    "    summarizers = [LexRankSummarizer(stemmer), LSASummarizer(stemmer), LuhnSummarizer(stemmer)]\n",
    "    parser = PlaintextParser.from_string(article, Tokenizer(LANGUAGE))\n",
    "    results = []\n",
    "    \n",
    "    for summarizer in summarizers:\n",
    "        summarizer.stop_words = get_stop_words(LANGUAGE)\n",
    "        sentences = []\n",
    "        for sentence in summarizer(parser.document, SENTENCES_COUNT):\n",
    "            sentences.append(str(sentence))\n",
    "        results.append(sentences)\n",
    "    \n",
    "    return results\n",
    "\n",
    "sumySentences = sumySummarize(article)\n",
    "for sentences in sumySentences:\n",
    "    print(\"{}\\n\\n\".format(sentences))"
   ]
  },
  {
   "cell_type": "markdown",
   "metadata": {},
   "source": [
    "## TASK 8\n",
    "\n",
    "Now we would like to compare the above summarizers and those in 3), 5) and 7) on a new dataset constructed as follows. First select an Elsevier journal of your own and select 10 papers highly ranked in the journal according to citation index (The journal papers should be well structured to contain Abstract, Introduction and Conclusion). \n",
    "\n",
    "For each of the ten papers, consider the introduction as the main document to seek to apply summarizer, and consider the Abstract and Conclusion as two golden summary of the document that you can use for assessment using ROUGE-1 and ROUGE-2 evaluation. \n",
    "\n",
    "Report in a table the evaluation score of each summarizer. "
   ]
  },
  {
   "cell_type": "code",
   "execution_count": null,
   "metadata": {},
   "outputs": [],
   "source": [
    "#Rouge 1 & 2 pisteytyts koodi"
   ]
  },
  {
   "cell_type": "code",
   "execution_count": null,
   "metadata": {},
   "outputs": [],
   "source": [
    "files = []\n",
    "golds = []\n",
    "for i in range(1,11):\n",
    "    with open('C:/Users/Markus/Documents/studies/NLP/NLP/Data/Task8_articles/article{}.txt'.format(i), encoding=\"utf8\") as f:\n",
    "        text = f.readlines()\n",
    "        text = \" \".join(text)\n",
    "        res = text.split(\"\\n \\n\")\n",
    "        files.append(res[1])\n",
    "        temp = []\n",
    "        temp.append(res[0])\n",
    "        temp.append(res[2])\n",
    "        golds.append(temp)\n"
   ]
  },
  {
   "cell_type": "code",
   "execution_count": null,
   "metadata": {},
   "outputs": [],
   "source": [
    "def summarize_introduction(introduction):\n",
    "    task_3_result = findTopSentences(introduction, 10, False)\n",
    "    task_5_result = sentence_to_sentence(findTopSentences(introduction, 20, False))\n",
    "    task_7_results = sumySummarize(introduction)\n",
    "    result = [task_3_result, task_5_result, task_7_results[0], task_7_results[1], task_7_results[2]]\n",
    "    #result = [task_5_result]\n",
    "    return result\n",
    "\n",
    "#peer str(summary), model list(gold_summaries)\n",
    "def calculate_rouge(peer, model):\n",
    "\n",
    "    rougeUno = rouge.rouge_1(peer, model, 1)\n",
    "    rougeBi = rouge.rouge_2(peer, model, 1)\n",
    "\n",
    "    return rougeUno,rougeBi\n",
    "\n",
    "task8_rouge_scores = []\n",
    "\n",
    "for i in range(10):\n",
    "    summarization_results = summarize_introduction(files[i])\n",
    "    results = []\n",
    "    for result in summarization_results:\n",
    "        result_str = \" \".join(result)\n",
    "        rouge_score = calculate_rouge(result_str, golds[i])\n",
    "        results.append(rouge_score)\n",
    "    task8_rouge_scores.append(results)\n",
    "        \n",
    "print(task8_rouge_scores)\n"
   ]
  },
  {
   "cell_type": "code",
   "execution_count": 4,
   "metadata": {},
   "outputs": [],
   "source": [
    "score_transpose = []\n",
    "\n",
    "for i in task8_rouge_scores:\n",
    "    new_list = []\n",
    "    \n",
    "    for a in i:\n",
    "        new_list.append(a[0])\n",
    "        new_list.append(a[1])\n",
    "        \n",
    "    score_transpose.append(new_list)"
   ]
  },
  {
   "cell_type": "code",
   "execution_count": 6,
   "metadata": {},
   "outputs": [
    {
     "data": {
      "text/html": [
       "<div>\n",
       "<style scoped>\n",
       "    .dataframe tbody tr th:only-of-type {\n",
       "        vertical-align: middle;\n",
       "    }\n",
       "\n",
       "    .dataframe tbody tr th {\n",
       "        vertical-align: top;\n",
       "    }\n",
       "\n",
       "    .dataframe thead tr th {\n",
       "        text-align: left;\n",
       "    }\n",
       "</style>\n",
       "<table border=\"1\" class=\"dataframe\">\n",
       "  <thead>\n",
       "    <tr>\n",
       "      <th></th>\n",
       "      <th colspan=\"2\" halign=\"left\">Sweight</th>\n",
       "      <th colspan=\"2\" halign=\"left\">Sentence to sentence</th>\n",
       "      <th colspan=\"2\" halign=\"left\">LexRank</th>\n",
       "      <th colspan=\"2\" halign=\"left\">LSA</th>\n",
       "      <th colspan=\"2\" halign=\"left\">Luhn</th>\n",
       "    </tr>\n",
       "    <tr>\n",
       "      <th></th>\n",
       "      <th>Rouge 1</th>\n",
       "      <th>Rouge 2</th>\n",
       "      <th>Rouge 1</th>\n",
       "      <th>Rouge 2</th>\n",
       "      <th>Rouge 1</th>\n",
       "      <th>Rouge 2</th>\n",
       "      <th>Rouge 1</th>\n",
       "      <th>Rouge 2</th>\n",
       "      <th>Rouge 1</th>\n",
       "      <th>Rouge 2</th>\n",
       "    </tr>\n",
       "  </thead>\n",
       "  <tbody>\n",
       "    <tr>\n",
       "      <th>1</th>\n",
       "      <td>0.786417</td>\n",
       "      <td>0.721710</td>\n",
       "      <td>0.836462</td>\n",
       "      <td>0.764451</td>\n",
       "      <td>0.881780</td>\n",
       "      <td>0.770568</td>\n",
       "      <td>0.793777</td>\n",
       "      <td>0.744200</td>\n",
       "      <td>0.778105</td>\n",
       "      <td>0.723498</td>\n",
       "    </tr>\n",
       "    <tr>\n",
       "      <th>2</th>\n",
       "      <td>0.814556</td>\n",
       "      <td>0.719457</td>\n",
       "      <td>0.865453</td>\n",
       "      <td>0.752024</td>\n",
       "      <td>0.913803</td>\n",
       "      <td>0.790072</td>\n",
       "      <td>0.928253</td>\n",
       "      <td>0.804403</td>\n",
       "      <td>0.865105</td>\n",
       "      <td>0.770384</td>\n",
       "    </tr>\n",
       "    <tr>\n",
       "      <th>3</th>\n",
       "      <td>0.772098</td>\n",
       "      <td>0.636921</td>\n",
       "      <td>0.816362</td>\n",
       "      <td>0.664568</td>\n",
       "      <td>0.753766</td>\n",
       "      <td>0.657744</td>\n",
       "      <td>0.736401</td>\n",
       "      <td>0.622330</td>\n",
       "      <td>0.726089</td>\n",
       "      <td>0.644539</td>\n",
       "    </tr>\n",
       "    <tr>\n",
       "      <th>4</th>\n",
       "      <td>0.849633</td>\n",
       "      <td>0.761986</td>\n",
       "      <td>0.942759</td>\n",
       "      <td>0.824017</td>\n",
       "      <td>0.847242</td>\n",
       "      <td>0.762476</td>\n",
       "      <td>0.866905</td>\n",
       "      <td>0.791071</td>\n",
       "      <td>0.789841</td>\n",
       "      <td>0.714029</td>\n",
       "    </tr>\n",
       "    <tr>\n",
       "      <th>5</th>\n",
       "      <td>0.766896</td>\n",
       "      <td>0.647851</td>\n",
       "      <td>0.825667</td>\n",
       "      <td>0.706805</td>\n",
       "      <td>0.847481</td>\n",
       "      <td>0.726174</td>\n",
       "      <td>0.761547</td>\n",
       "      <td>0.652283</td>\n",
       "      <td>0.668436</td>\n",
       "      <td>0.569714</td>\n",
       "    </tr>\n",
       "    <tr>\n",
       "      <th>6</th>\n",
       "      <td>0.490887</td>\n",
       "      <td>0.430440</td>\n",
       "      <td>0.522996</td>\n",
       "      <td>0.452512</td>\n",
       "      <td>0.609344</td>\n",
       "      <td>0.523740</td>\n",
       "      <td>0.576275</td>\n",
       "      <td>0.497893</td>\n",
       "      <td>0.440459</td>\n",
       "      <td>0.395546</td>\n",
       "    </tr>\n",
       "    <tr>\n",
       "      <th>7</th>\n",
       "      <td>0.710258</td>\n",
       "      <td>0.626785</td>\n",
       "      <td>0.727599</td>\n",
       "      <td>0.650646</td>\n",
       "      <td>0.787852</td>\n",
       "      <td>0.707930</td>\n",
       "      <td>0.718450</td>\n",
       "      <td>0.645504</td>\n",
       "      <td>0.738662</td>\n",
       "      <td>0.655506</td>\n",
       "    </tr>\n",
       "    <tr>\n",
       "      <th>8</th>\n",
       "      <td>0.930017</td>\n",
       "      <td>0.829865</td>\n",
       "      <td>0.962865</td>\n",
       "      <td>0.850697</td>\n",
       "      <td>0.944962</td>\n",
       "      <td>0.850816</td>\n",
       "      <td>0.955183</td>\n",
       "      <td>0.845333</td>\n",
       "      <td>0.950058</td>\n",
       "      <td>0.848635</td>\n",
       "    </tr>\n",
       "    <tr>\n",
       "      <th>9</th>\n",
       "      <td>0.805026</td>\n",
       "      <td>0.737957</td>\n",
       "      <td>0.873221</td>\n",
       "      <td>0.789644</td>\n",
       "      <td>0.916003</td>\n",
       "      <td>0.815580</td>\n",
       "      <td>0.844484</td>\n",
       "      <td>0.773928</td>\n",
       "      <td>0.846774</td>\n",
       "      <td>0.769874</td>\n",
       "    </tr>\n",
       "    <tr>\n",
       "      <th>10</th>\n",
       "      <td>0.821067</td>\n",
       "      <td>0.732715</td>\n",
       "      <td>0.821953</td>\n",
       "      <td>0.725861</td>\n",
       "      <td>0.863125</td>\n",
       "      <td>0.776735</td>\n",
       "      <td>0.844484</td>\n",
       "      <td>0.773928</td>\n",
       "      <td>0.824069</td>\n",
       "      <td>0.751390</td>\n",
       "    </tr>\n",
       "    <tr>\n",
       "      <th>mean</th>\n",
       "      <td>0.774686</td>\n",
       "      <td>0.684569</td>\n",
       "      <td>0.819533</td>\n",
       "      <td>0.718122</td>\n",
       "      <td>0.836536</td>\n",
       "      <td>0.738183</td>\n",
       "      <td>0.802576</td>\n",
       "      <td>0.715087</td>\n",
       "      <td>0.762760</td>\n",
       "      <td>0.684312</td>\n",
       "    </tr>\n",
       "  </tbody>\n",
       "</table>\n",
       "</div>"
      ],
      "text/plain": [
       "       Sweight           Sentence to sentence             LexRank            \\\n",
       "       Rouge 1   Rouge 2              Rouge 1   Rouge 2   Rouge 1   Rouge 2   \n",
       "1     0.786417  0.721710             0.836462  0.764451  0.881780  0.770568   \n",
       "2     0.814556  0.719457             0.865453  0.752024  0.913803  0.790072   \n",
       "3     0.772098  0.636921             0.816362  0.664568  0.753766  0.657744   \n",
       "4     0.849633  0.761986             0.942759  0.824017  0.847242  0.762476   \n",
       "5     0.766896  0.647851             0.825667  0.706805  0.847481  0.726174   \n",
       "6     0.490887  0.430440             0.522996  0.452512  0.609344  0.523740   \n",
       "7     0.710258  0.626785             0.727599  0.650646  0.787852  0.707930   \n",
       "8     0.930017  0.829865             0.962865  0.850697  0.944962  0.850816   \n",
       "9     0.805026  0.737957             0.873221  0.789644  0.916003  0.815580   \n",
       "10    0.821067  0.732715             0.821953  0.725861  0.863125  0.776735   \n",
       "mean  0.774686  0.684569             0.819533  0.718122  0.836536  0.738183   \n",
       "\n",
       "           LSA                Luhn            \n",
       "       Rouge 1   Rouge 2   Rouge 1   Rouge 2  \n",
       "1     0.793777  0.744200  0.778105  0.723498  \n",
       "2     0.928253  0.804403  0.865105  0.770384  \n",
       "3     0.736401  0.622330  0.726089  0.644539  \n",
       "4     0.866905  0.791071  0.789841  0.714029  \n",
       "5     0.761547  0.652283  0.668436  0.569714  \n",
       "6     0.576275  0.497893  0.440459  0.395546  \n",
       "7     0.718450  0.645504  0.738662  0.655506  \n",
       "8     0.955183  0.845333  0.950058  0.848635  \n",
       "9     0.844484  0.773928  0.846774  0.769874  \n",
       "10    0.844484  0.773928  0.824069  0.751390  \n",
       "mean  0.802576  0.715087  0.762760  0.684312  "
      ]
     },
     "execution_count": 6,
     "metadata": {},
     "output_type": "execute_result"
    }
   ],
   "source": [
    "col = pd.MultiIndex.from_arrays([['Sweight','Sweight', 'Sentence to sentence','Sentence to sentence', 'LexRank','LexRank', 'LSA','LSA', 'Luhn','Luhn'],\n",
    "                                [\"Rouge 1\", \"Rouge 2\",\"Rouge 1\", \"Rouge 2\",\"Rouge 1\", \"Rouge 2\", \"Rouge 1\", \"Rouge 2\", \"Rouge 1\", \"Rouge 2\"]])\n",
    "data = pd.DataFrame(score_transpose, columns=col)\n",
    "\n",
    "\n",
    "data.index += 1\n",
    "data.loc['mean'] = data.mean()\n",
    "\n",
    "data"
   ]
  },
  {
   "cell_type": "code",
   "execution_count": 7,
   "metadata": {},
   "outputs": [
    {
     "data": {
      "text/plain": [
       "Sweight               Rouge 1    0.774686\n",
       "                      Rouge 2    0.684569\n",
       "Sentence to sentence  Rouge 1    0.819533\n",
       "                      Rouge 2    0.718122\n",
       "LexRank               Rouge 1    0.836536\n",
       "                      Rouge 2    0.738183\n",
       "LSA                   Rouge 1    0.802576\n",
       "                      Rouge 2    0.715087\n",
       "Luhn                  Rouge 1    0.762760\n",
       "                      Rouge 2    0.684312\n",
       "dtype: float64"
      ]
     },
     "execution_count": 7,
     "metadata": {},
     "output_type": "execute_result"
    }
   ],
   "source": [
    "data.mean()"
   ]
  },
  {
   "cell_type": "markdown",
   "metadata": {},
   "source": [
    "## TASK 9\n",
    "\n",
    "Design a simple GUI that allows the user to input a text or a link to a document to be summarized and output the summarizer according to 3), algorithms implemented in 7)"
   ]
  },
  {
   "cell_type": "code",
   "execution_count": null,
   "metadata": {},
   "outputs": [],
   "source": [
    "# run simpleGUI.py"
   ]
  }
 ],
 "metadata": {
  "kernelspec": {
   "display_name": "Python 3",
   "language": "python",
   "name": "python3"
  },
  "language_info": {
   "codemirror_mode": {
    "name": "ipython",
    "version": 3
   },
   "file_extension": ".py",
   "mimetype": "text/x-python",
   "name": "python",
   "nbconvert_exporter": "python",
   "pygments_lexer": "ipython3",
   "version": "3.7.6"
  }
 },
 "nbformat": 4,
 "nbformat_minor": 4
}
