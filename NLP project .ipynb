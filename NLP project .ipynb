{
 "cells": [
  {
   "cell_type": "markdown",
   "metadata": {},
   "source": [
    "# NLP project\n"
   ]
  },
  {
   "cell_type": "markdown",
   "metadata": {},
   "source": [
    "Project 21: Automatic Summarization  \n",
    "\n",
    "We shall consider structured document containing a title, abstract and a set of subsections. We would like to build a text summarizer such that tracks important keywords in the document. For this purpose, the first step is identify these keywords.  "
   ]
  },
  {
   "cell_type": "code",
   "execution_count": null,
   "metadata": {},
   "outputs": [],
   "source": [
    "pip install --upgrade pip"
   ]
  },
  {
   "cell_type": "code",
   "execution_count": 13,
   "metadata": {},
   "outputs": [
    {
     "name": "stdout",
     "output_type": "stream",
     "text": [
      "Package                            Version\n",
      "---------------------------------- -------------------\n",
      "alabaster                          0.7.12\n",
      "anaconda-client                    1.7.2\n",
      "anaconda-navigator                 1.9.12\n",
      "anaconda-project                   0.8.3\n",
      "argh                               0.26.2\n",
      "asn1crypto                         1.3.0\n",
      "astroid                            2.3.3\n",
      "astropy                            4.0\n",
      "atomicwrites                       1.3.0\n",
      "attrs                              19.3.0\n",
      "autopep8                           1.4.4\n",
      "Babel                              2.8.0\n",
      "backcall                           0.1.0\n",
      "backports.functools-lru-cache      1.6.1\n",
      "backports.shutil-get-terminal-size 1.0.0\n",
      "backports.tempfile                 1.0\n",
      "backports.weakref                  1.0.post1\n",
      "bcrypt                             3.1.7\n",
      "beautifulsoup4                     4.8.2\n",
      "bitarray                           1.2.1\n",
      "bkcharts                           0.2\n",
      "bleach                             3.1.0\n",
      "blis                               0.7.4\n",
      "bokeh                              1.4.0\n",
      "boto                               2.49.0\n",
      "Bottleneck                         1.3.2\n",
      "catalogue                          2.0.6\n",
      "certifi                            2019.11.28\n",
      "cffi                               1.14.0\n",
      "chardet                            3.0.4\n",
      "click                              8.0.1\n",
      "cloudpickle                        1.3.0\n",
      "clyent                             1.2.2\n",
      "colorama                           0.4.3\n",
      "comtypes                           1.1.7\n",
      "conda                              4.8.2\n",
      "conda-build                        3.18.11\n",
      "conda-package-handling             1.6.0\n",
      "conda-verify                       3.4.2\n",
      "contextlib2                        0.6.0.post1\n",
      "cryptography                       2.8\n",
      "cycler                             0.10.0\n",
      "cymem                              2.0.5\n",
      "Cython                             0.29.15\n",
      "cytoolz                            0.10.1\n",
      "dask                               2.11.0\n",
      "decorator                          4.4.1\n",
      "defusedxml                         0.6.0\n",
      "diff-match-patch                   20181111\n",
      "distributed                        2.11.0\n",
      "docutils                           0.16\n",
      "entrypoints                        0.3\n",
      "et-xmlfile                         1.0.1\n",
      "fastcache                          1.1.0\n",
      "filelock                           3.0.12\n",
      "flake8                             3.7.9\n",
      "Flask                              1.1.1\n",
      "fsspec                             0.6.2\n",
      "future                             0.18.2\n",
      "gevent                             1.4.0\n",
      "glob2                              0.7\n",
      "greenlet                           0.4.15\n",
      "h5py                               2.10.0\n",
      "HeapDict                           1.0.1\n",
      "html5lib                           1.0.1\n",
      "hypothesis                         5.5.4\n",
      "idna                               2.8\n",
      "imageio                            2.6.1\n",
      "imagesize                          1.2.0\n",
      "importlib-metadata                 1.5.0\n",
      "intervaltree                       3.0.2\n",
      "ipykernel                          5.1.4\n",
      "ipython                            7.12.0\n",
      "ipython_genutils                   0.2.0\n",
      "ipywidgets                         7.5.1\n",
      "isort                              4.3.21\n",
      "itsdangerous                       1.1.0\n",
      "jdcal                              1.4.1\n",
      "jedi                               0.14.1\n",
      "jellyfish                          0.8.8\n",
      "Jinja2                             2.11.1\n",
      "joblib                             0.14.1\n",
      "json5                              0.9.1\n",
      "jsonschema                         3.2.0\n",
      "jupyter                            1.0.0\n",
      "jupyter-client                     5.3.4\n",
      "jupyter-console                    6.1.0\n",
      "jupyter-core                       4.6.1\n",
      "jupyterlab                         1.2.6\n",
      "jupyterlab-server                  1.0.6\n",
      "jupyterthemes                      0.20.0\n",
      "keyring                            21.1.0\n",
      "kiwisolver                         1.1.0\n",
      "lazy-object-proxy                  1.4.3\n",
      "lesscpy                            0.14.0\n",
      "libarchive-c                       2.8\n",
      "llvmlite                           0.31.0\n",
      "locket                             0.2.0\n",
      "lxml                               4.6.3\n",
      "MarkupSafe                         1.1.1\n",
      "matplotlib                         3.1.3\n",
      "mccabe                             0.6.1\n",
      "menuinst                           1.4.16\n",
      "mistune                            0.8.4\n",
      "mkl-fft                            1.0.15\n",
      "mkl-random                         1.1.0\n",
      "mkl-service                        2.3.0\n",
      "mock                               4.0.1\n",
      "more-itertools                     8.2.0\n",
      "mpmath                             1.1.0\n",
      "msgpack                            0.6.1\n",
      "multipledispatch                   0.6.0\n",
      "murmurhash                         1.0.5\n",
      "navigator-updater                  0.2.1\n",
      "nbconvert                          5.6.1\n",
      "nbformat                           5.0.4\n",
      "networkx                           2.4\n",
      "nltk                               3.6.5\n",
      "nose                               1.3.7\n",
      "notebook                           6.0.3\n",
      "numba                              0.48.0\n",
      "numexpr                            2.7.1\n",
      "numpy                              1.18.1\n",
      "numpydoc                           0.9.2\n",
      "olefile                            0.46\n",
      "openpyxl                           3.0.3\n",
      "packaging                          20.1\n",
      "pandas                             1.0.1\n",
      "pandocfilters                      1.4.2\n",
      "paramiko                           2.7.1\n",
      "parso                              0.5.2\n",
      "partd                              1.1.0\n",
      "path                               13.1.0\n",
      "pathlib2                           2.3.5\n",
      "pathtools                          0.1.2\n",
      "pathy                              0.6.0\n",
      "patsy                              0.5.1\n",
      "pep8                               1.7.1\n",
      "pexpect                            4.8.0\n",
      "pickleshare                        0.7.5\n",
      "Pillow                             7.0.0\n",
      "pip                                21.3.1\n",
      "pkginfo                            1.5.0.1\n",
      "pluggy                             0.13.1\n",
      "ply                                3.11\n",
      "preshed                            3.0.5\n",
      "prometheus-client                  0.7.1\n",
      "prompt-toolkit                     3.0.3\n",
      "psutil                             5.6.7\n",
      "py                                 1.8.1\n",
      "pycodestyle                        2.5.0\n",
      "pycosat                            0.6.3\n",
      "pycparser                          2.19\n",
      "pycrypto                           2.6.1\n",
      "pycurl                             7.43.0.5\n",
      "pydantic                           1.8.2\n",
      "pydocstyle                         4.0.1\n",
      "pyflakes                           2.1.1\n",
      "Pygments                           2.5.2\n",
      "pylint                             2.4.4\n",
      "PyNaCl                             1.3.0\n",
      "pyodbc                             4.0.0-unsupported\n",
      "pyOpenSSL                          19.1.0\n",
      "pyparsing                          2.4.6\n",
      "pyreadline                         2.1\n",
      "pyrsistent                         0.15.7\n",
      "PySocks                            1.7.1\n",
      "pytest                             5.3.5\n",
      "pytest-arraydiff                   0.3\n",
      "pytest-astropy                     0.8.0\n",
      "pytest-astropy-header              0.1.2\n",
      "pytest-doctestplus                 0.5.0\n",
      "pytest-openfiles                   0.4.0\n",
      "pytest-remotedata                  0.3.2\n",
      "python-dateutil                    2.8.1\n",
      "python-jsonrpc-server              0.3.4\n",
      "python-language-server             0.31.7\n",
      "pytz                               2019.3\n",
      "PyWavelets                         1.1.1\n",
      "pywin32                            227\n",
      "pywin32-ctypes                     0.2.0\n",
      "pywinpty                           0.5.7\n",
      "PyYAML                             5.3\n",
      "pyzmq                              18.1.1\n",
      "QDarkStyle                         2.8\n",
      "QtAwesome                          0.6.1\n",
      "qtconsole                          4.6.0\n",
      "QtPy                               1.9.0\n",
      "rake                               1.0\n",
      "regex                              2021.9.30\n",
      "requests                           2.22.0\n",
      "rope                               0.16.0\n",
      "Rtree                              0.9.3\n",
      "ruamel_yaml                        0.15.87\n",
      "scikit-image                       0.16.2\n",
      "scikit-learn                       0.22.1\n",
      "scipy                              1.4.1\n",
      "seaborn                            0.10.0\n",
      "segtok                             1.5.10\n",
      "Send2Trash                         1.5.0\n",
      "setuptools                         45.2.0.post20200210\n",
      "simplegeneric                      0.8.1\n",
      "singledispatch                     3.4.0.3\n",
      "six                                1.14.0\n",
      "smart-open                         5.2.1\n",
      "snowballstemmer                    2.0.0\n",
      "sortedcollections                  1.1.2\n",
      "sortedcontainers                   2.1.0\n",
      "soupsieve                          1.9.5\n",
      "spacy                              3.1.3\n",
      "spacy-legacy                       3.0.8\n",
      "Sphinx                             2.4.0\n",
      "sphinxcontrib-applehelp            1.0.1\n",
      "sphinxcontrib-devhelp              1.0.1\n",
      "sphinxcontrib-htmlhelp             1.0.2\n",
      "sphinxcontrib-jsmath               1.0.1\n",
      "sphinxcontrib-qthelp               1.0.2\n",
      "sphinxcontrib-serializinghtml      1.1.3\n",
      "sphinxcontrib-websupport           1.2.0\n",
      "spyder                             4.0.1\n",
      "spyder-kernels                     1.8.1\n",
      "SQLAlchemy                         1.3.13\n",
      "srsly                              2.4.1\n",
      "statsmodels                        0.11.0\n",
      "sympy                              1.5.1\n",
      "tables                             3.6.1\n",
      "tabulate                           0.8.9\n",
      "tblib                              1.6.0\n",
      "terminado                          0.8.3\n",
      "testpath                           0.4.4\n",
      "thinc                              8.0.10\n",
      "toolz                              0.10.0\n",
      "tornado                            6.0.3\n",
      "tqdm                               4.42.1\n",
      "traitlets                          4.3.3\n",
      "typer                              0.4.0\n",
      "typing-extensions                  3.10.0.2\n",
      "ujson                              1.35\n",
      "unicodecsv                         0.14.1\n",
      "urllib3                            1.25.8\n",
      "wasabi                             0.8.2\n",
      "watchdog                           0.10.2\n",
      "wcwidth                            0.1.8\n",
      "webencodings                       0.5.1\n",
      "Werkzeug                           1.0.0\n",
      "wheel                              0.34.2\n",
      "widgetsnbextension                 3.5.1\n",
      "win-inet-pton                      1.1.0\n",
      "win-unicode-console                0.5\n",
      "wincertstore                       0.2\n",
      "wrapt                              1.11.2\n",
      "xlrd                               1.2.0\n",
      "XlsxWriter                         1.2.7\n",
      "xlwings                            0.17.1\n",
      "xlwt                               1.3.0\n",
      "xmltodict                          0.12.0\n",
      "yake                               0.4.8\n",
      "yapf                               0.28.0\n",
      "zict                               1.0.0\n",
      "zipp                               2.2.0\n"
     ]
    }
   ],
   "source": [
    "!pip list\n",
    "# tarkista löytyykö: lxml, html5lib, requests, selenium, webdriver-manager\n",
    "# lisäohjeita task1"
   ]
  },
  {
   "cell_type": "code",
   "execution_count": null,
   "metadata": {},
   "outputs": [],
   "source": [
    "#jos nltk ei löydy asenna -> ! pip install nltk\n",
    "import nltk\n",
    "nltk.download(\"stopwords\")\n",
    "#from nltk.cluster.util import cosine_distance"
   ]
  },
  {
   "cell_type": "code",
   "execution_count": null,
   "metadata": {},
   "outputs": [],
   "source": []
  },
  {
   "cell_type": "markdown",
   "metadata": {},
   "source": [
    "## TASK 1\n",
    "Assume the initial input is given as html document (choose an example of your own), we hypothesize that important keywords are initially contained in the words of titles, abstract and possibly titles of subsections of the document. Suggest a simple python script that inputs an html document and outputs the lists of words in the title, abstract and title of section/subsections."
   ]
  },
  {
   "cell_type": "code",
   "execution_count": null,
   "metadata": {
    "scrolled": true
   },
   "outputs": [],
   "source": [
    "from bs4 import BeautifulSoup\n",
    "from selenium import webdriver\n",
    "from webdriver_manager.chrome import ChromeDriverManager\n",
    "import time\n",
    "# Kaikki sivut ei anna koko html bodyä käyttämällä pelkkää requestia. Seleniumilla näyttää toimivan useammilla. \n",
    "# pip install -U selenium\n",
    "# pip install webdriver-manager\n",
    "# jos käytät anacondaa eikä meinaa toimia niin kokeile myös $ conda update pip\n",
    "\n",
    "#Collect title, subtitles and abstract from html file\n",
    "\n",
    "url = \"https://ieeexplore.ieee.org/document/6809191\"\n",
    "driver = webdriver.Chrome(ChromeDriverManager().install())\n",
    "driver.get(url)\n",
    "\n",
    "# Wait for page to fully load\n",
    "time.sleep(3)\n",
    "\n",
    "soup = BeautifulSoup(driver.page_source, 'lxml')\n",
    "print(soup)\n",
    "\n",
    "# Headline\n",
    "headline = soup.find(\"h1\", {\"class\": \"document-title\"}).text\n",
    "print(\"Headline: {}\\n\".format(headline))\n",
    "\n",
    "# Abstact\n",
    "abstract = soup.find(\"div\", {\"class\": \"abstract-text\"}).text\n",
    "print(\"{}\\n\\n\".format(abstract))\n",
    "\n",
    "# Titles of sections\n",
    "article = soup.find(\"div\", {\"id\": \"article\"})\n",
    "if article == None:\n",
    "    print(\"Article is None\")\n",
    "# Saattaa joskus heittää erroria article = None, kokeilee vaan uudestaan niin pitäis toisella kertaa mennä\n",
    "sectionTitles = article.find_all(\"h3\")\n",
    "print(\"Section titles:\")\n",
    "for title in sectionTitles:\n",
    "    print(\"{}\".format(title.text))\n",
    "\n",
    "# Titles of subsections\n",
    "subsectionTitles = article.find_all(\"h4\")\n",
    "print(\"\\nSubsection titles:\")\n",
    "for title in subsectionTitles:\n",
    "    print(\"{}\".format(title.text))\n",
    "    \n",
    "driver.close()"
   ]
  },
  {
   "cell_type": "code",
   "execution_count": null,
   "metadata": {},
   "outputs": [],
   "source": [
    "paragraphs = article.find_all(\"p\")\n",
    "fullText = \"\"\n",
    "for paragraph in paragraphs:\n",
    "    fullText += paragraph.text\n",
    "    fullText += \"\\n\"\n",
    "print(fullText)"
   ]
  },
  {
   "cell_type": "code",
   "execution_count": null,
   "metadata": {},
   "outputs": [],
   "source": [
    "import yake"
   ]
  },
  {
   "cell_type": "code",
   "execution_count": null,
   "metadata": {},
   "outputs": [],
   "source": [
    "#Keyword search and analysis\n",
    "\n",
    "w_extractor = yake.KeywordExtractor()\n",
    "\n",
    "language = \"en\"\n",
    "max_ngram_size = 2\n",
    "deduplication_threshold = 0.9\n",
    "numOfKeywords = 50 #alunperin 10\n",
    "\n",
    "custom_kw_extractor = yake.KeywordExtractor(lan=language, n=max_ngram_size, dedupLim=deduplication_threshold, top=numOfKeywords, features=None)\n",
    "keywords = custom_kw_extractor.extract_keywords(fullText)\n",
    "\n",
    "for kw in keywords:\n",
    "    print(kw)\n"
   ]
  },
  {
   "cell_type": "markdown",
   "metadata": {},
   "source": [
    "## TASK 2\n",
    "Write down a simple python script that allows you to output the histogram of word frequency in the document, excluding the stopwords (see examples in online NLTK book). Use SpaCy named-entity tagger to identify person-named entities and organization-named entities in the document."
   ]
  },
  {
   "cell_type": "code",
   "execution_count": null,
   "metadata": {},
   "outputs": [],
   "source": [
    "#from collections import Counter\n",
    "from nltk.corpus import stopwords\n",
    "import matplotlib.pyplot as plt\n",
    "import numpy as np\n",
    "\n",
    "#Calculate the word frequencies and plot the histogram\n",
    "\n",
    "#Purkkapallolla koko artikkeli -> string\n",
    "article_readable = \"{}\\n\".format(headline)\n",
    "\n",
    "#article_readable += (article.find('div', class_=\"article-content\").h1.text) + \" \"\n",
    "article_readable += \"{}\\n\".format(abstract)\n",
    "\n",
    "for sectionTitle in sectionTitles:\n",
    "    article_readable += \"{} \".format(sectionTitle.text)\n",
    "\n",
    "for subsectionTitle in subsectionTitles:\n",
    "    article_readable += \"{} \".format(subsectionTitle.text)\n",
    "    \n",
    "article_readable += \"\\n{}\".format(fullText)\n",
    "    \n",
    "#print(article_readable)\n",
    "#Purkkapallo suoritettu\n",
    "\n",
    "stopwords = stopwords.words(\"english\")\n",
    "#print(stopwords)\n",
    "\n",
    "#Remove stopwords from the keywords list\n",
    "keywords_only, keywords_nums = zip(*keywords) \n",
    "keywords_no_sw =  [word for word in keywords_only if not word in stopwords]\n",
    "keywords_counts = []\n",
    "\n",
    "for kw in keywords_no_sw:\n",
    "    kw_count = article_readable.count(kw)\n",
    "    keywords_counts.append(kw_count)\n",
    "\n",
    "#print(keywords_no_sw)\n",
    "#print(keywords_counts)\n",
    "    \n",
    "#Plotting the histogram\n",
    "fig, ax = plt.subplots(figsize=(18,5))\n",
    "plt.bar(np.arange(len(keywords_no_sw)), keywords_counts, align='center')\n",
    "plt.ylabel('Keyword count')\n",
    "plt.xlabel('Keyword id')\n",
    "plt.show()\n"
   ]
  },
  {
   "cell_type": "code",
   "execution_count": null,
   "metadata": {},
   "outputs": [],
   "source": [
    "### Count histogram from every word manually ###\n",
    "charsToRemove = \".,():\"\n",
    "for char in charsToRemove:\n",
    "    article_readable = article_readable.replace(char, '')\n",
    "\n",
    "article_readable = article_readable.lower()\n",
    "wordList = article_readable.split()\n",
    "wordList = [word for word in wordList if word not in stopwords]\n",
    "wordCounts = dict()\n",
    "\n",
    "for word in wordList:\n",
    "    if word in wordCounts:\n",
    "        wordCounts[word] += 1\n",
    "    else:\n",
    "        wordCounts[word] = 1\n",
    "\n",
    "wordCounts = sorted(wordCounts.items(), key=lambda x: x[1], reverse=True)\n",
    "for i in range(50):\n",
    "    print(\"{}\".format(wordCounts[i]))\n",
    "wordCounts = wordCounts[0:20]\n",
    "\n",
    "words = list(zip(*wordCounts))[0]\n",
    "occurency = list(zip(*wordCounts))[1]\n",
    "fig, ax = plt.subplots(figsize=(18,5))\n",
    "plt.bar(np.arange(len(words)), occurency, align='center')\n",
    "plt.xticks(np.arange(len(words)), words)\n",
    "plt.ylabel('Keyword count')\n",
    "plt.xlabel('Keyword id')\n",
    "plt.show()"
   ]
  },
  {
   "cell_type": "code",
   "execution_count": null,
   "metadata": {},
   "outputs": [],
   "source": [
    "#Use SpaCy to identify person-named entities and organization-named entities\n",
    "import spacy\n",
    "from spacy import displacy\n",
    "from collections import Counter\n",
    "import en_core_web_sm\n",
    "\n",
    "#vinkkiä https://towardsdatascience.com/named-entity-recognition-with-nltk-and-spacy-8c4a7d88e7da\n",
    "\n",
    "#Identifying person and organization-named entities\n",
    "nlp = en_core_web_sm.load()\n",
    "doc = nlp(article_readable)\n",
    "\n",
    "for X in doc.ents:\n",
    "    print(\"{} - {}\".format(X.text, X.label_))\n"
   ]
  },
  {
   "cell_type": "markdown",
   "metadata": {},
   "source": [
    "## TASK 3\n",
    "\n",
    "We would like the summarizer to contain frequent wording (excluding stopwords) and as many named-entities as possible. For this purpose, use the following heuristic to construct the summarizer. First we shall assume each sentence of the document as individual sub-document. Use TfIdf vectorizer to output the individual tfidef score of each word of each sentence (after initial preprocessing and wordnet lemmatization stage). Then consider only sentences that contain person or organization named-entities and use similar approach to output the tfidf score of the named-entities in each sentence. Finally construct the sentence (S) weight as a  weighted sum:\n",
    "<br>\n",
    "$$S_{weight}=\\sum_{w\\varepsilon S}W_{TfiDf}+2\\sum_{NM\\varepsilon S}NM_{TfiDf}+POS_s$$\n",
    "<br>\n",
    "where NMTfiDF stands for the TfIdF of named-entity NM in sentence S.  POSS corresponds to the sentence weight associated to the location of the sentence. So that the sentence location weight will be maximum (1) if located in the title of the document, 0.5 if located  in the title of one of the subsection, 0.25 if located in the title one of the subsubsection, 0.1 if located in one representative object of the document, and 0 if located only in the main text. Make sure to normalize the term tfidf and Nm tfidf weights and suggest a script to implement the preceding accordingly, so that the summarizer will contain the 10 sentences with the highest Sweight scores.  \n"
   ]
  },
  {
   "cell_type": "code",
   "execution_count": null,
   "metadata": {},
   "outputs": [],
   "source": [
    "from nltk.stem import WordNetLemmatizer\n",
    "from nltk.stem.snowball import SnowballStemmer\n",
    "from nltk.tokenize import sent_tokenize, word_tokenize\n",
    "nltk.download('punkt')\n",
    "nltk.download('wordnet')\n",
    "import numpy as np\n",
    "from sklearn.feature_extraction.text import CountVectorizer,TfidfVectorizer"
   ]
  },
  {
   "cell_type": "code",
   "execution_count": null,
   "metadata": {},
   "outputs": [],
   "source": [
    "weights: {\n",
    "    \"title\": 1,\n",
    "    \"sectionTitle\": 0.5,\n",
    "    \"subsectionTitle\": 0.25,\n",
    "    \"abstract\": 0.1\n",
    "}"
   ]
  },
  {
   "cell_type": "code",
   "execution_count": null,
   "metadata": {},
   "outputs": [],
   "source": [
    "# Preprocess\n",
    "def preProcess(document):\n",
    "    stopwords = list(set(nltk.corpus.stopwords.words('english')))\n",
    "    stemmer = SnowballStemmer(\"english\")\n",
    "    WN_lemmatizer = WordNetLemmatizer()\n",
    "\n",
    "    sentences = sent_tokenize(document)\n",
    "    #print(sentences)\n",
    "    Tokens = []\n",
    "    for sentence in sentences:\n",
    "        words = word_tokenize(sentence)\n",
    "        words = [WN_lemmatizer.lemmatize(word, pos=\"v\") for word in words]\n",
    "\n",
    "        # get rid of numbers and Stopwords\n",
    "        words = [word for word in words if word.isalpha() and word not in stopwords]\n",
    "        Tokens.extend(words)\n",
    "\n",
    "    print(Tokens)\n",
    "    return Tokens"
   ]
  },
  {
   "cell_type": "code",
   "execution_count": null,
   "metadata": {},
   "outputs": [],
   "source": [
    "# Ei toimi oikein mutta ehkä jotain ideaa\n",
    "processed = preProcess(fullText)\n",
    "print(processed)\n",
    "Tfidf = TfidfVectorizer(processed)\n",
    "Tfidf.fit(processed)\n",
    "#print(Tfidf)\n",
    "Vectors = Tfidf.transform(processed).toarray()\n",
    "Vq = Tfidf.transform(processed).toarray()[0]\n",
    "\n",
    "Scores = []\n",
    "for V in Vectors:\n",
    "    Scores.append(np.inner(Vq, V))\n",
    "\n",
    "Max_index = Scores.index(max(Scores))\n",
    "print(Scores)"
   ]
  },
  {
   "cell_type": "markdown",
   "metadata": {},
   "source": [
    "\n",
    "## TASK 4\n",
    "Test the above approach with Opinosis dataset available at https://kavita-ganesan.com/opinosis-opinion-dataset/#.YVw6J5ozY2x,  and record the corresponding Rouge-2 and Rouge-3 evaluation score. "
   ]
  },
  {
   "cell_type": "code",
   "execution_count": null,
   "metadata": {},
   "outputs": [],
   "source": [
    "\"\"\"\n",
    "http://kavita-ganesan.com/opinosis-text-summarization-web-api/\n",
    "\n",
    "The nice thing with using the REST API version versus the Java jar file is that you can integrate the API \n",
    "into your code base, making evaluation and the ability to build on the API output much easier. \n",
    "Please follow these steps to start using the API:\n",
    "\n",
    "1. Create a Mashape (EI toimi enään!!!) account (Mashape manages API keys and access) and subscribe to the basic plan of this API. The usage is free up to a certain limit.\n",
    "2. You can use the examples below to start using the Opinosis Web API\n",
    "3. You can use this page to learn how to set the opinosis parameters.\n",
    "\"\"\"\n",
    "\n",
    "\n",
    "#Ei toimi, API servereitä ei ole enään olemassa, Pitää käyttää java sen sijaan että saadaan Rouge arvot ulos\n",
    "\n",
    "# http://kavita-ganesan.com/opinosis-summarizer-library/  <-------\n",
    "\n",
    "response = unirest.post(\"https://rxnlp-opinosis.p.mashape.com/generateOpinosisSummaries\",\n",
    "  headers={\n",
    "    \"X-Mashape-Key\": \"API-Key\",\n",
    "    \"Content-Type\": \"application/json\",\n",
    "    \"Accept\": \"application/json\"\n",
    "  },\n",
    "  params=(\"{'maxGap':'3','maxSentences':'5','minRedundancy':'2','doCollapse':'true','scoringFunction':'3','text':[{'sentence':'the/DT bathroom/NN was/VBD clean/JJ and/CC the/DT bed/NN was/VBD comfy/JJ ./.'},{'sentence':'the/DT bathroom/NN was/VBD clean/JJ and/CC the/DT bed/NN was/VBD comfy/JJ ./.'},{'sentence':'the/DT bed/NN was/VBD comfy/JJ and/CC bathroom/NN was/VBD clean/JJ ./.'},{'sentence':'the/DT bathroom/NN was/VBD dirty/JJ ./.'},{'sentence':'the/DT bathroom/NN was/VBD dirty/JJ ./.'},{'sentence':'the/DT bathroom/NN was/VBD dirty/JJ ./.'},{'sentence':'the/DT bathroom/NN was/VBD dirty/JJ ./.'},{'sentence':'the/DT bathroom/NN was/VBD too/RB dirty/JJ ./.'}]}\")\n",
    ")"
   ]
  },
  {
   "cell_type": "markdown",
   "metadata": {},
   "source": [
    "## TASK 5\n",
    "\n",
    "We would like to improve the summarization by taking into account the diversity among the sentence in the sense that we would like to minimize redundancy among sentences. For this purpose, we shall use the sentence-to-sentence semantic similarity introduced in the NLP lab. \n",
    "\n",
    "Next, instead of recording only the 10 sentences with highest Sweight scores, we shall record the 20 top sentences in terms of $S_{weight}$ scores. Then the selection of the top 10 sentences among the 20 sentences follows the following approach. \n",
    "\n",
    "First, order the 20 sentences in the decreasing order of their $S_{weight}$ scores, say S1, S2, …, S20 (where S1 is the top ranked and S20 the 20th ranked sentence). \n",
    "\n",
    "Second, we shall assume that S1 is always included in the summarizer, we shall then attempt to find the other sentences among S2 till S20 to be included into the summarizer. \n",
    "\n",
    "Calculate the sentence-to-sentence similarity Sim(S1,Si) for i=1 to 20, the Sentence Sj that yields the minimum similarity with S1 will therefore be included in the summarizer. Next, for each of the remaining sentences Sk (with k different from 1 and j), we calculate the sentence similarity with Sj. Therefore the sentence Sp that yields minimum value of “Sim(Sp, S1)+Sim(Sp,Sj)” will be included in the summarizer (Note: the quantity Sim(Sp, S1) is already calculated in previous step).  \n",
    "\n",
    "Similarly in the next phase, we should select a sentence Sl (l different from 1, j and k) so that  “Sim(Sl, S1)+Sim(Sl,Sj)+Sim(Sl,Sp)”, Etc.. You then stop once you reached 10 sentences included in the summarizer. Suggest a script that includes this process.. and illustrate its functioning in the example you chosen in 1)."
   ]
  },
  {
   "cell_type": "markdown",
   "metadata": {},
   "source": [
    "## TASK 6\n",
    "\n",
    "We would like to make the choice of keywords not based on histogram frequency but using the open source RAKE https://www.airpair.com/nlp/keyword-extraction-tutorial. Repeat the previous process of selecting the sentences that are associated to the ten first keywords generated by RAKE. Comment on the quality of this summarizer based on your observation"
   ]
  },
  {
   "cell_type": "code",
   "execution_count": null,
   "metadata": {},
   "outputs": [],
   "source": [
    "#Repossa ollut asennus tiedosto ei kyennyt asentumaan windows ympäristössä ilman korjausta\n",
    "git clone https://github.com/zelandiya/RAKE-tutorial\n",
    "cd RAKE-tutorial\n",
    "\n",
    "#Ennen asennusta mene setup.py tiedostoon ja poista slash (/) poluista: \n",
    "#package_dir={'nlp_rake': './'} ja \n",
    "#package_data={'nlp_rake': ['data/']}\n",
    "\n",
    "#muutin \"nlp-rake\" nimen pelkäksi \"rake\" asennus tiedostossa.\n",
    "\n",
    "#kuva setup_korjaus löytyy githubista, jonka jälkeen paketin asennus toimii\n",
    "python setup.py install \n",
    "\n"
   ]
  },
  {
   "cell_type": "code",
   "execution_count": 17,
   "metadata": {},
   "outputs": [],
   "source": [
    "#Asensin moduulin eri paikkaan kuin missä jupyter serveri polku, korjasin tällä polun\n",
    "#import sys \n",
    "#sys.path.append(\"C:/NLP/RAKE-tutorial\")"
   ]
  },
  {
   "cell_type": "code",
   "execution_count": 18,
   "metadata": {},
   "outputs": [],
   "source": [
    "import rake \n",
    "import operator"
   ]
  },
  {
   "cell_type": "code",
   "execution_count": 21,
   "metadata": {},
   "outputs": [],
   "source": [
    "rake_object = rake.Rake(\"C:/NLP/RAKE-tutorial/data/stoplists/SmartStoplist.txt\", 5, 3, 4) #Korjaa polku, tiedosto löytyy githubista"
   ]
  },
  {
   "cell_type": "code",
   "execution_count": 32,
   "metadata": {},
   "outputs": [
    {
     "name": "stdout",
     "output_type": "stream",
     "text": [
      "['<title>Considering nutrition in National Forestry Programmes</title>']\n"
     ]
    }
   ],
   "source": [
    "sample_file = open(\"C:/NLP/RAKE-tutorial/data/docs/fao_test/w2167e.txt\", 'r') #aseta teksti minkä haluat käsitellä\n",
    "text = sample_file.read()\n",
    "sentenceList = rake.split_sentences(text)\n",
    "print(sentenceList[0:1])\n"
   ]
  },
  {
   "cell_type": "code",
   "execution_count": 43,
   "metadata": {},
   "outputs": [
    {
     "name": "stdout",
     "output_type": "stream",
     "text": [
      "['household food security', 'indigenous groups living', 'national forest programmes', 'wood forest products', 'food security', 'medicinal plants', 'forested area', 'food production', 'participatory approach', 'food consumption']\n"
     ]
    }
   ],
   "source": [
    "keywords = rake_object.run(text)\n",
    "#print(\"Keywords:\", keywords[0:10]) #10 ensimmäistä\n",
    "keywords_topten = []\n",
    "\n",
    "for i in range(10):\n",
    "    keywords_topten.append(keywords[i][0])\n",
    "    \n",
    "print(keywords_topten)"
   ]
  },
  {
   "cell_type": "code",
   "execution_count": 50,
   "metadata": {},
   "outputs": [
    {
     "name": "stdout",
     "output_type": "stream",
     "text": [
      "Nutrition and household food security\n",
      " Dependency on forest and trees for household food security and nutrition\n",
      " implications of forest management and/or conservation measures on household food security and nutrition\n",
      "Forests and trees can contribute to household food security and appropriate nutrition through a variety of mechanisms\n",
      " Generating income alone does not automatically ensure improved household food security and/or enhanced nutrition\n",
      " Little information is available per se in the literature on the implications of forest management and/or conservation measures on household food security and nutrition of the indigenous populations\n",
      " From the above it is clear that preventing the local population from exploiting certain or all forest resources may have serious implications on household food security and nutrition\n",
      "Underestimating linkages between household food security and nutrition of the local population and management and conservation of forest resources can lead\n",
      " of how much and how specific population groups in the country depend on forests and trees for household food security and nutrition\n",
      " in understanding better the dependency of people on forest and trees for household food security and nutrition and the impact of changes in access in forest resources\n",
      " forest and tree products were found to play an important role in household food security in terms of meal quality\n",
      "How to consider nutrition and household food security in the NFP planning process\n",
      " ^2 and for each phase will describe the actions to be taken to incorporate household food security and nutrition considerations\n",
      " community groups and people concerned with household food security and nutrition issues\n",
      " a variety of institutions and people are involved in / and concerned with development activities at community level which have a direct or indirect impact on household food security and malnutrition\n",
      " Existing information on the nutritional status of indigenous groups living in or near forested areas\n",
      " NFP staff should be able to ensure that food security of households living in and/ or near the forested areas considered has been systematically taken into account when finalizing planning of forest development \n",
      " of indigenous groups living in or near forested areas should be an explicit objective of all NFPs\n",
      "In view of the information gathered all activities should be systematically screened in terms of their impact on household food security and nutrition of the local population\n",
      "C Designing activities to promote household food security and nutrition\n",
      "Specific activities to promote household food security and appropriate nutrition of the local population should be systematically incorporated into NFPs\n",
      " the incorporation of household food security and nutrition concerns in NFPs will lead to the development of activities which will both facilitate their tasks and enable them to deal effectively with the constraints they are facing\n",
      " The consideration of household food security and nutrition concerns in National Forest Programmes \n",
      " nutrition and household food security provide an effective entry point for multidisciplinary activities within NFPs\n",
      " Ensuring effective local participation is essential for identifying and incorporating household food security and nutrition concerns into the NFP\n",
      " Importance of nutrition and household food security in NFPs\n",
      " How to consider nutrition and household food security in NFPs\n",
      " Case examples of how forestry projects have focused on nutrition and household food security are included throughout the text\n",
      "Sentences in original text: 1952, summarized amount: 28\n"
     ]
    }
   ],
   "source": [
    "#extract sentences using keywords\n",
    "dct = {}\n",
    "for sentence in sentenceList:\n",
    "    dct[sentence] = sum(1 for word in keywords_topten if word in sentence)\n",
    "\n",
    "rake_sentences = [key for key,value in dct.items() if value == max(dct.values())]\n",
    "\n",
    "\n",
    "print(\"\\n\".join(rake_sentences))"
   ]
  },
  {
   "cell_type": "code",
   "execution_count": 51,
   "metadata": {},
   "outputs": [
    {
     "name": "stdout",
     "output_type": "stream",
     "text": [
      "Sentences in original text: 1952, summarized amount: 28\n"
     ]
    }
   ],
   "source": [
    "#Comparing results\n",
    "print(\"Sentences in original text: {}, summarized amount: {}\".format(len(sentenceList),len(rake_sentences)))"
   ]
  },
  {
   "cell_type": "code",
   "execution_count": null,
   "metadata": {},
   "outputs": [],
   "source": [
    "Comment on results:"
   ]
  },
  {
   "cell_type": "markdown",
   "metadata": {},
   "source": [
    "## TASK 7\n",
    "\n",
    "It is also suggested to explore alternative implementations with larger number of summarization approaches implemented- https://github.com/miso-belica/sumy. Show how each of the implemented summarizer behaves when inputted with the same document you used in previous case."
   ]
  },
  {
   "cell_type": "markdown",
   "metadata": {},
   "source": [
    "## TASK 8\n",
    "\n",
    "Now we would like to compare the above summarizers and those in 3), 5) and 7) on a new dataset constructed as follows. First select an Elsevier journal of your own and select 10 papers highly ranked in the journal according to citation index (The journal papers should be well structured to contain Abstract, Introduction and Conclusion). For each of the ten papers, consider the introduction as the main document to seek to apply summarizer, and consider the Abstract and Conclusion as two golden summary of the document that you can use for assessment using ROUGE-1 and ROUGE-2 evaluation. Report in a table the evaluation score of each summarizer. "
   ]
  },
  {
   "cell_type": "markdown",
   "metadata": {},
   "source": [
    "## TASK 9\n",
    "\n",
    "Design a simple GUI that allows the user to input a text or a link to a document to be summarized and output the summarizer according to 3), algorithms implemented in 7)"
   ]
  },
  {
   "cell_type": "code",
   "execution_count": null,
   "metadata": {},
   "outputs": [],
   "source": []
  }
 ],
 "metadata": {
  "kernelspec": {
   "display_name": "Python 3",
   "language": "python",
   "name": "python3"
  },
  "language_info": {
   "codemirror_mode": {
    "name": "ipython",
    "version": 3
   },
   "file_extension": ".py",
   "mimetype": "text/x-python",
   "name": "python",
   "nbconvert_exporter": "python",
   "pygments_lexer": "ipython3",
   "version": "3.7.6"
  }
 },
 "nbformat": 4,
 "nbformat_minor": 4
}
