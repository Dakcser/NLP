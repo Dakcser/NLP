{
 "cells": [
  {
   "cell_type": "markdown",
   "metadata": {},
   "source": [
    "# NLP project\n"
   ]
  },
  {
   "cell_type": "markdown",
   "metadata": {},
   "source": [
    "Project 21: Automatic Summarization  \n",
    "\n",
    "We shall consider structured document containing a title, abstract and a set of subsections. We would like to build a text summarizer such that tracks important keywords in the document. For this purpose, the first step is identify these keywords.  "
   ]
  },
  {
   "cell_type": "code",
   "execution_count": null,
   "metadata": {},
   "outputs": [],
   "source": [
    "pip install --upgrade pip"
   ]
  },
  {
   "cell_type": "code",
   "execution_count": null,
   "metadata": {},
   "outputs": [],
   "source": [
    "!pip list\n",
    "# tarkista löytyykö: lxml, html5lib, requests, selenium, webdriver-manager\n",
    "# lisäohjeita task1"
   ]
  },
  {
   "cell_type": "code",
   "execution_count": 9,
   "metadata": {},
   "outputs": [
    {
     "name": "stderr",
     "output_type": "stream",
     "text": [
      "[nltk_data] Downloading package stopwords to\n",
      "[nltk_data]     C:\\Users\\Dark\\AppData\\Roaming\\nltk_data...\n",
      "[nltk_data]   Package stopwords is already up-to-date!\n"
     ]
    },
    {
     "data": {
      "text/plain": [
       "True"
      ]
     },
     "execution_count": 9,
     "metadata": {},
     "output_type": "execute_result"
    }
   ],
   "source": [
    "#jos nltk ei löydy asenna -> ! pip install nltk\n",
    "import nltk\n",
    "nltk.download(\"stopwords\")\n",
    "#from nltk.cluster.util import cosine_distance"
   ]
  },
  {
   "cell_type": "code",
   "execution_count": null,
   "metadata": {},
   "outputs": [],
   "source": []
  },
  {
   "cell_type": "markdown",
   "metadata": {},
   "source": [
    "## TASK 1\n",
    "Assume the initial input is given as html document (choose an example of your own), we hypothesize that important keywords are initially contained in the words of titles, abstract and possibly titles of subsections of the document. Suggest a simple python script that inputs an html document and outputs the lists of words in the title, abstract and title of section/subsections."
   ]
  },
  {
   "cell_type": "code",
   "execution_count": null,
   "metadata": {
    "scrolled": true
   },
   "outputs": [],
   "source": [
    "from bs4 import BeautifulSoup\n",
    "from selenium import webdriver\n",
    "from webdriver_manager.chrome import ChromeDriverManager\n",
    "import time\n",
    "# Kaikki sivut ei anna koko html bodyä käyttämällä pelkkää requestia. Seleniumilla näyttää toimivan useammilla. \n",
    "# pip install -U selenium\n",
    "# pip install webdriver-manager\n",
    "# jos käytät anacondaa eikä meinaa toimia niin kokeile myös $ conda update pip\n",
    "\n",
    "#Collect title, subtitles and abstract from html file\n",
    "\n",
    "url = \"https://ieeexplore.ieee.org/document/6809191\"\n",
    "driver = webdriver.Chrome(ChromeDriverManager().install())\n",
    "driver.get(url)\n",
    "\n",
    "# Wait for page to fully load\n",
    "time.sleep(3)\n",
    "\n",
    "soup = BeautifulSoup(driver.page_source, 'lxml')\n",
    "print(soup)\n",
    "\n",
    "# Headline\n",
    "headline = soup.find(\"h1\", {\"class\": \"document-title\"}).text\n",
    "print(\"Headline: {}\\n\".format(headline))\n",
    "\n",
    "# Abstact\n",
    "abstract = soup.find(\"div\", {\"class\": \"abstract-text\"}).text\n",
    "print(\"{}\\n\\n\".format(abstract))\n",
    "\n",
    "# Titles of sections\n",
    "article = soup.find(\"div\", {\"id\": \"article\"})\n",
    "if article == None:\n",
    "    print(\"Article is None\")\n",
    "# Saattaa joskus heittää erroria article = None, kokeilee vaan uudestaan niin pitäis toisella kertaa mennä\n",
    "sectionTitles = article.find_all(\"h3\")\n",
    "secTitles = \"\"\n",
    "print(\"Section titles:\")\n",
    "for title in sectionTitles:\n",
    "    print(\"{}\".format(title.text))\n",
    "    secTitles += title.text\n",
    "    secTitles += \".\\n\"\n",
    "\n",
    "# Titles of subsections\n",
    "subsectionTitles = article.find_all(\"h4\")\n",
    "subsecTitles = \"\"\n",
    "print(\"\\nSubsection titles:\")\n",
    "for title in subsectionTitles:\n",
    "    print(\"{}\".format(title.text))\n",
    "    subsecTitles += title.text\n",
    "    subsecTitles += \".\\n\"\n",
    "    \n",
    "driver.close()"
   ]
  },
  {
   "cell_type": "code",
   "execution_count": null,
   "metadata": {},
   "outputs": [],
   "source": [
    "paragraphs = article.find_all(\"p\")\n",
    "fullText = \"\"\n",
    "for paragraph in paragraphs:\n",
    "    fullText += paragraph.text\n",
    "    fullText += \"\\n\"\n",
    "print(fullText)"
   ]
  },
  {
   "cell_type": "code",
   "execution_count": null,
   "metadata": {},
   "outputs": [],
   "source": [
    "import yake"
   ]
  },
  {
   "cell_type": "code",
   "execution_count": null,
   "metadata": {},
   "outputs": [],
   "source": [
    "#Keyword search and analysis\n",
    "\n",
    "w_extractor = yake.KeywordExtractor()\n",
    "\n",
    "language = \"en\"\n",
    "max_ngram_size = 2\n",
    "deduplication_threshold = 0.9\n",
    "numOfKeywords = 50 #alunperin 10\n",
    "\n",
    "custom_kw_extractor = yake.KeywordExtractor(lan=language, n=max_ngram_size, dedupLim=deduplication_threshold, top=numOfKeywords, features=None)\n",
    "keywords = custom_kw_extractor.extract_keywords(fullText)\n",
    "\n",
    "for kw in keywords:\n",
    "    print(kw)\n"
   ]
  },
  {
   "cell_type": "markdown",
   "metadata": {},
   "source": [
    "## TASK 2\n",
    "Write down a simple python script that allows you to output the histogram of word frequency in the document, excluding the stopwords (see examples in online NLTK book). Use SpaCy named-entity tagger to identify person-named entities and organization-named entities in the document."
   ]
  },
  {
   "cell_type": "code",
   "execution_count": null,
   "metadata": {},
   "outputs": [],
   "source": [
    "#from collections import Counter\n",
    "from nltk.corpus import stopwords\n",
    "import matplotlib.pyplot as plt\n",
    "import numpy as np\n",
    "\n",
    "#Calculate the word frequencies and plot the histogram\n",
    "\n",
    "#Purkkapallolla koko artikkeli -> string\n",
    "article_readable = \"{}\\n\".format(headline)\n",
    "\n",
    "#article_readable += (article.find('div', class_=\"article-content\").h1.text) + \" \"\n",
    "article_readable += \"{}\\n\".format(abstract)\n",
    "\n",
    "for sectionTitle in sectionTitles:\n",
    "    article_readable += \"{} \".format(sectionTitle.text)\n",
    "\n",
    "for subsectionTitle in subsectionTitles:\n",
    "    article_readable += \"{} \".format(subsectionTitle.text)\n",
    "    \n",
    "article_readable += \"\\n{}\".format(fullText)\n",
    "    \n",
    "#print(article_readable)\n",
    "#Purkkapallo suoritettu\n",
    "\n",
    "stopwords = stopwords.words(\"english\")\n",
    "#print(stopwords)\n",
    "\n",
    "#Remove stopwords from the keywords list\n",
    "keywords_only, keywords_nums = zip(*keywords) \n",
    "keywords_no_sw =  [word for word in keywords_only if not word in stopwords]\n",
    "keywords_counts = []\n",
    "\n",
    "for kw in keywords_no_sw:\n",
    "    kw_count = article_readable.count(kw)\n",
    "    keywords_counts.append(kw_count)\n",
    "\n",
    "#print(keywords_no_sw)\n",
    "#print(keywords_counts)\n",
    "    \n",
    "#Plotting the histogram\n",
    "fig, ax = plt.subplots(figsize=(18,5))\n",
    "plt.bar(np.arange(len(keywords_no_sw)), keywords_counts, align='center')\n",
    "plt.ylabel('Keyword count')\n",
    "plt.xlabel('Keyword id')\n",
    "plt.show()\n"
   ]
  },
  {
   "cell_type": "code",
   "execution_count": null,
   "metadata": {},
   "outputs": [],
   "source": [
    "### Count histogram from every word manually ###\n",
    "charsToRemove = \".,():\"\n",
    "for char in charsToRemove:\n",
    "    article_readable = article_readable.replace(char, '')\n",
    "\n",
    "article_readable = article_readable.lower()\n",
    "wordList = article_readable.split()\n",
    "wordList = [word for word in wordList if word not in stopwords]\n",
    "wordCounts = dict()\n",
    "\n",
    "for word in wordList:\n",
    "    if word in wordCounts:\n",
    "        wordCounts[word] += 1\n",
    "    else:\n",
    "        wordCounts[word] = 1\n",
    "\n",
    "wordCounts = sorted(wordCounts.items(), key=lambda x: x[1], reverse=True)\n",
    "for i in range(50):\n",
    "    print(\"{}\".format(wordCounts[i]))\n",
    "wordCounts = wordCounts[0:20]\n",
    "\n",
    "words = list(zip(*wordCounts))[0]\n",
    "occurency = list(zip(*wordCounts))[1]\n",
    "fig, ax = plt.subplots(figsize=(18,5))\n",
    "plt.bar(np.arange(len(words)), occurency, align='center')\n",
    "plt.xticks(np.arange(len(words)), words)\n",
    "plt.ylabel('Keyword count')\n",
    "plt.xlabel('Keyword id')\n",
    "plt.show()"
   ]
  },
  {
   "cell_type": "code",
   "execution_count": null,
   "metadata": {},
   "outputs": [],
   "source": [
    "#Use SpaCy to identify person-named entities and organization-named entities\n",
    "import spacy\n",
    "from spacy import displacy\n",
    "from collections import Counter\n",
    "import en_core_web_sm\n",
    "\n",
    "#vinkkiä https://towardsdatascience.com/named-entity-recognition-with-nltk-and-spacy-8c4a7d88e7da\n",
    "\n",
    "#Identifying person and organization-named entities\n",
    "nlp = en_core_web_sm.load()\n",
    "doc = nlp(article_readable)\n",
    "\n",
    "#Print only ORG or PERSON labeled entities\n",
    "def show_ents(doc):\n",
    "    if doc.ents:\n",
    "        for ent in doc.ents:\n",
    "            if ent.label_ == \"ORG\" or ent.label_ == \"PERSON\":\n",
    "                print(ent.text+ \" - \" + ent.label_)\n",
    "    else:\n",
    "        print(\"No named entities found.\")\n",
    "        \n",
    "show_ents(doc)\n",
    "\n",
    "\"\"\"\n",
    "for X in doc.ents:\n",
    "    print(\"{} - {}\".format(X.text, X.label_))\n",
    "\"\"\"\n"
   ]
  },
  {
   "cell_type": "markdown",
   "metadata": {},
   "source": [
    "## TASK 3\n",
    "\n",
    "We would like the summarizer to contain frequent wording (excluding stopwords) and as many named-entities as possible. For this purpose, use the following heuristic to construct the summarizer. First we shall assume each sentence of the document as individual sub-document. Use TfIdf vectorizer to output the individual tfidef score of each word of each sentence (after initial preprocessing and wordnet lemmatization stage). Then consider only sentences that contain person or organization named-entities and use similar approach to output the tfidf score of the named-entities in each sentence. Finally construct the sentence (S) weight as a  weighted sum:\n",
    "<br>\n",
    "$$S_{weight}=\\sum_{w\\varepsilon S}W_{TfiDf}+2\\sum_{NM\\varepsilon S}NM_{TfiDf}+POS_s$$\n",
    "<br>\n",
    "where NMTfiDF stands for the TfIdF of named-entity NM in sentence S.  POSS corresponds to the sentence weight associated to the location of the sentence. So that the sentence location weight will be maximum (1) if located in the title of the document, 0.5 if located  in the title of one of the subsection, 0.25 if located in the title one of the subsubsection, 0.1 if located in one representative object of the document, and 0 if located only in the main text. Make sure to normalize the term tfidf and Nm tfidf weights and suggest a script to implement the preceding accordingly, so that the summarizer will contain the 10 sentences with the highest Sweight scores.  \n"
   ]
  },
  {
   "cell_type": "code",
   "execution_count": null,
   "metadata": {},
   "outputs": [],
   "source": [
    "from nltk.stem import WordNetLemmatizer\n",
    "from nltk.stem.snowball import SnowballStemmer\n",
    "from nltk.tokenize import sent_tokenize, word_tokenize\n",
    "nltk.download('punkt')\n",
    "nltk.download('wordnet')\n",
    "import numpy as np\n",
    "from sklearn.feature_extraction.text import CountVectorizer,TfidfVectorizer"
   ]
  },
  {
   "cell_type": "code",
   "execution_count": null,
   "metadata": {},
   "outputs": [],
   "source": [
    "weights = {\n",
    "    \"title\": 1,\n",
    "    \"sectionTitle\": 0.5,\n",
    "    \"subsectionTitle\": 0.25,\n",
    "    \"abstract\": 0.1,\n",
    "    \"else\": 0.0\n",
    "}"
   ]
  },
  {
   "cell_type": "code",
   "execution_count": 10,
   "metadata": {},
   "outputs": [],
   "source": [
    "# Preprocess\n",
    "def preProcess(document):\n",
    "    stopwords = list(set(nltk.corpus.stopwords.words('english')))\n",
    "    stemmer = SnowballStemmer(\"english\")\n",
    "    WN_lemmatizer = WordNetLemmatizer()\n",
    "\n",
    "    sentences = sent_tokenize(document)\n",
    "    #print(sentences)\n",
    "    # List of lemmatized words for each sentence\n",
    "    tokens = []\n",
    "    tokensInSentences = []\n",
    "    processedSentences = []\n",
    "    for sentence in sentences:\n",
    "        words = word_tokenize(sentence)\n",
    "        words = [WN_lemmatizer.lemmatize(word, pos=\"v\") for word in words]\n",
    "\n",
    "        # get rid of numbers and Stopwords\n",
    "        words = [word for word in words if word.isalpha() and word not in stopwords]\n",
    "        tokens.extend(words)\n",
    "        tokensInSentences = ([words])\n",
    "        processedSentences.append(' '.join(word for word in words))\n",
    "\n",
    "    #print(len(lauseet))\n",
    "    #print(lauseet[0])\n",
    "    return tokens, tokensInSentences, processedSentences\n",
    "    "
   ]
  },
  {
   "cell_type": "code",
   "execution_count": null,
   "metadata": {},
   "outputs": [],
   "source": [
    "def tfidf(corpus, position):\n",
    "    Tfidf = TfidfVectorizer(use_idf=True)\n",
    "    #Tfidf.fit(word_count_vecotr)\n",
    "    fitted_vectorizer = Tfidf.fit(corpus)\n",
    "    first_vector_tfidfvectorizer = fitted_vectorizer.transform(corpus).toarray()\n",
    "    feature_names = Tfidf.get_feature_names()\n",
    "\n",
    "    #print(len(feature_names))\n",
    "    #print(feature_names)\n",
    "    #print(first_vector_tfidfvectorizer.shape)\n",
    "    scores = []\n",
    "    #print(first_vector_tfidfvectorizer)\n",
    "    for i in range(len(first_vector_tfidfvectorizer)):\n",
    "        score = 0\n",
    "        for j in range(len(first_vector_tfidfvectorizer[i])):\n",
    "            score = score + first_vector_tfidfvectorizer[i][j]\n",
    "\n",
    "        scores.append((i, score + weights[position]))\n",
    "\n",
    "    return(scores)"
   ]
  },
  {
   "cell_type": "code",
   "execution_count": null,
   "metadata": {},
   "outputs": [],
   "source": [
    "# Title\n",
    "tokens, tokensInSentences, processedSentences = preProcess(headline)\n",
    "tfidfScores = tfidf(processedSentences, \"title\")\n",
    "print(\"{}\\n\".format(tfidfScores))\n",
    "\n",
    "# Section title\n",
    "tokens, tokensInSentences, processedSentences = preProcess(secTitles)\n",
    "tfidfScores = tfidf(processedSentences, \"sectionTitle\")\n",
    "print(\"{}\\n\".format(tfidfScores))\n",
    "\n",
    "# Subsection title\n",
    "tokens, tokensInSentences, processedSentences = preProcess(subsecTitles)\n",
    "tfidfScores = tfidf(processedSentences, \"subsectionTitle\")\n",
    "print(\"{}\\n\".format(tfidfScores))\n",
    "\n",
    "# Abstract\n",
    "tokens, tokensInSentences, processedSentences = preProcess(abstract)\n",
    "tfidfScores = tfidf(processedSentences, \"abstract\")\n",
    "print(\"{}\\n\".format(tfidfScores))\n",
    "\n",
    "# Text body\n",
    "tokens, tokensInSentences, processedSentences = preProcess(fullText)\n",
    "tfidfScores = tfidf(processedSentences, \"else\")\n",
    "print(\"{}\\n\".format(tfidfScores))"
   ]
  },
  {
   "cell_type": "markdown",
   "metadata": {},
   "source": [
    "\n",
    "## TASK 4\n",
    "Test the above approach with Opinosis dataset available at https://kavita-ganesan.com/opinosis-opinion-dataset/#.YVw6J5ozY2x,  and record the corresponding Rouge-2 and Rouge-3 evaluation score. "
   ]
  },
  {
   "cell_type": "code",
   "execution_count": null,
   "metadata": {},
   "outputs": [],
   "source": [
    "#Rouge 2 ja 3 scoring\n",
    "https://towardsdatascience.com/the-ultimate-performance-metric-in-nlp-111df6c64460\n"
   ]
  },
  {
   "cell_type": "code",
   "execution_count": null,
   "metadata": {},
   "outputs": [],
   "source": [
    "#pip install git+git://github.com/bdusell/rougescore.git\n",
    "\n",
    "'''\n",
    "In ROUGE, a \"peer\" summary produced by a machine summarization system is compared against \n",
    "one or more hand-written \"model\" summaries and then assigned a score from 0 to 1. This score is the\n",
    "F-measure of recall vs. precision, and the evaluator can adjust a parameter α to control whether this \n",
    "score favors recall (does the peer summary contain all of the information in the model summaries?) \n",
    "or precision (does the peer summary contain only information in the model summaries?). \n",
    "\n",
    "When α ≈ 0, this score favors recall; when α ≈ 1, it favors precision. \n",
    "In the DUC conferences, α was set to 0, and a hard length limit was imposed on generated summaries. \n",
    "The original ROUGE implementation uses α = 0.5 by default.\n",
    "'''\n",
    "\n"
   ]
  },
  {
   "cell_type": "code",
   "execution_count": 29,
   "metadata": {},
   "outputs": [],
   "source": [
    "#testi teksti\n",
    "peer = \"\"\"\n",
    ", and is very, very accurate .\n",
    " but for the most part, we find that the Garmin software provides accurate directions, whereever we intend to go .\n",
    " This function is not accurate if you don't leave it in battery mode say, when you stop at the Cracker Barrell for lunch and to play one of those trangle games with the tees .\n",
    " It provides immediate alternatives if the route from the online map program was inaccurate or blocked by an obstacle .\n",
    " I've used other GPS units, as well as GPS built into cars   and to this day NOTHING beats the accuracy of a Garmin GPS .\n",
    " It got me from point A to point B with 100% accuracy everytime .\n",
    " It has yet to disappoint, getting me everywhere with 100% accuracy .\n",
    "0 out of 5 stars Honest, accurate review, , PLEASE READ !\n",
    " Aside from that, every destination I've thrown at has been 100% accurate .\n",
    "In closing, this is a fantastic GPS with some very nice features and is very accurate in directions .\n",
    " Plus, I've always heard that there are  quirks  with any GPS being accurate, having POIs, etc .\n",
    " DESTINATION TIME, , This is pretty accurate too .\n",
    " But, it's always very accurate .\n",
    " The map is pretty accurate and the Point of interest database also is good .\n",
    " Most of the times, this info was very accurate .\n",
    "I've even used it in the  pedestrian  mode, and it's amazing how accurate it is .\n",
    "  ONLY  is only accurate when an ad says,  Top sirloin steak, ONLY $1 .\n",
    " The most accurate review stated that these machines are adjunct to a good map and signs on the interstate .\n",
    " The directions are highly accurate down to a  T  .\n",
    " Depending on what you are using it for, it is a nice adjunct to a travel trip and the directions are accurate and usually the quickest, but not always .\n",
    " The screen is easy to see, the voice tells you where you are and it's very accurate .\n",
    " It was accurate to the minute when it told me when I would arrive home .\n",
    "0 out of 5 stars GPS Navigator doesn't navigate accurately on a straight road .\n",
    " I was familiar with the streets and only used the Nuvi to get an accurate arrival time estimate .\n",
    " but after that it is very easy and quite accurate to use .\n",
    " The accuracy at this point is very good .\n",
    "While the 255W routing seems generally accurate and logical, on my first use I discovered that it does have some errors in its internal map .\n",
    " Bottom line is I wanted a unit that is accurate and had reliable satellite connection .\n",
    " I've used it around town and find it to be extremely accurate .\n",
    "I found the maps to be inaccurate at first, but after I updated them from Garmin's website everything is golden .\n",
    " A lot of my friends' addresses are inaccurate by any GPS .\n",
    " It loads quickly, have pretty accurate directions, and can recalculate quickly when I miss a turn .\n",
    " Because the accuracy is good to the street address level, it may not be able to guide you to the exact location if your destination is inside a shopping mall .\n",
    "I updated to the latest 2010 map soon after I received the unit, so the map is accurate to me .\n",
    " I was blown away at the accuracy and routing capability this thing had .\n",
    " I used it the day I bought it,   and then this morning, and as soon as it comes on it is  ready to navigate  The only downfall of this product, and the only reason I did not give it 5 stars is the fact that the speed limit it displays for the road you are on isn't 100% accurate .\n",
    " If your looking for a nice, accurate GPS for not so much money, got with this one .\n",
    "0 out of 5 stars Inexpensive, accurate, plenty of features, August 6, 2009\n",
    " The only glitch I have found so far is that the speed limits are not 100% accurate, although the GPS, amazingly, is able to very accurately tell you how fast your vehicle is moving .\n",
    " I was a little disappointed in the inaccuracy of the posted speed limit, as I'm guilty of not paying close enough attention to those signs, especially w  interstate speed traps that are constantly changing up and down .\n",
    " The closest one that gives the most accurate route that I usually take is the Navigon .\n",
    " After 2 weeks, it has yet to make a mistake, and is always completely accurate ,  even to the point of telling me which side of the street my destination is on .\n",
    " It has worked well for local driving giving accurate directions for roads and streets .\n",
    "The estimated time to arrival does not seem to calculate the travelling time accurately .\n",
    "Accuracy is as good as any other unit, they all sometimes tell you you have arrived when you haven't, or continue to tell you to turn when you're already there .\n",
    " Accuracy is determined by the maps .\n",
    " Less traveled rural roads will not be accurate on any unit .\n",
    " Accuracy is within a few yards .\n",
    "What the 255w does best is find a street address, business, point of interest, hospital or airport and give you turn, by, turn directions with amazing accuracy .\n",
    " The Garmin is loaded with very accurate maps that generally know the roads in even the remotest areas .\n",
    "I'm really glad I bought it though, and like the easy to read graphics, the voice used to tell you the name of the street you are to turn on, the uncannily accurate estimates of mileage and time of arrival at your destination .\n",
    "My new Garmin 255w had very Easy Set Up, Accurate Directions to locations, User Friendly Unit to anyone in my vehicle who tried it .\n",
    " I had a GPS 10, years ago when I owned a boat that was difficult to use and with very poor accuracy so I had assumed that the road GPS wasn't any better .\n",
    " Practiced visiting places I already knew to see how accurate the directions and maps would be .\n",
    " Easy to use, excellent accuracy, nice and intuitive interface .\n",
    " The directions provided have all been quite accurate thus far .\n",
    ",  Very Accurate but with one small glitch I found ,  I'll explain in the CONS\n",
    "This is a great GPS, it is so easy to use and it is always accurate .\n",
    "Very easy to operate and pretty accurate as well, only led me astray once and that was in northern Maine where roads are few and paved ones fewer .\n",
    " Easy to use and amazed at how accurate this item is .\n",
    "To date it's been a very easy to use and accurate .\n",
    " Mounted really easily and has been very accurate .\n",
    " seems to be rather accurate .\n",
    " It was accurate on determing original directions and recalculating when necessary .\n",
    "Highly accurate, POIs are great .\n",
    " I can't believe how accurate and detailed the information estimated time of arrival,speed limits along the way,and detailed map of my route, to name a few .\n",
    " Speed of calculation, accuracy, and simplicity of operation are top notch .\n",
    "\"\"\"\n",
    "\n",
    "\n",
    "model = [\n",
    "    \"\"\"The voice is a bit robotic.\n",
    "    The voice is very clear and loud enough.\"\"\",\n",
    "    \"\"\"Voice is clear and sweet.\n",
    "    Voice commands are kindly fantastic.\"\"\",\n",
    "    \"\"\"The voice is very clear and loud.\"\"\",\n",
    "    \"\"\"The voices sound robotic.\n",
    "    TTS mode is the most problematic.\"\"\",\n",
    "    \"\"\"255W garmin gps has more than 750 voices but the most of them sound like robots.\"\"\"\n",
    "]"
   ]
  },
  {
   "cell_type": "code",
   "execution_count": 28,
   "metadata": {},
   "outputs": [
    {
     "name": "stdout",
     "output_type": "stream",
     "text": [
      "Rouge 2:  0.008911501695960531\n",
      "Rouge 3:  0.007432536622976099\n"
     ]
    }
   ],
   "source": [
    "import rougescore as rouge\n",
    "\n",
    "rougeBi = rouge.rouge_2(peer, model, 1)\n",
    "print(\"Rouge 2: \", rougeBi)\n",
    "rougeTri = rouge.rouge_3(peer, model, 1)\n",
    "print(\"Rouge 3: \", rougeTri)"
   ]
  },
  {
   "cell_type": "markdown",
   "metadata": {},
   "source": [
    "## TASK 5\n",
    "\n",
    "We would like to improve the summarization by taking into account the diversity among the sentence in the sense that we would like to minimize redundancy among sentences. For this purpose, we shall use the sentence-to-sentence semantic similarity introduced in the NLP lab. \n",
    "\n",
    "Next, instead of recording only the 10 sentences with highest Sweight scores, we shall record the 20 top sentences in terms of $S_{weight}$ scores. Then the selection of the top 10 sentences among the 20 sentences follows the following approach. \n",
    "\n",
    "First, order the 20 sentences in the decreasing order of their $S_{weight}$ scores, say S1, S2, …, S20 (where S1 is the top ranked and S20 the 20th ranked sentence). \n",
    "\n",
    "Second, we shall assume that S1 is always included in the summarizer, we shall then attempt to find the other sentences among S2 till S20 to be included into the summarizer. \n",
    "\n",
    "Calculate the sentence-to-sentence similarity Sim(S1,Si) for i=1 to 20, the Sentence Sj that yields the minimum similarity with S1 will therefore be included in the summarizer. Next, for each of the remaining sentences Sk (with k different from 1 and j), we calculate the sentence similarity with Sj. Therefore the sentence Sp that yields minimum value of “Sim(Sp, S1)+Sim(Sp,Sj)” will be included in the summarizer (Note: the quantity Sim(Sp, S1) is already calculated in previous step).  \n",
    "\n",
    "Similarly in the next phase, we should select a sentence Sl (l different from 1, j and k) so that  “Sim(Sl, S1)+Sim(Sl,Sj)+Sim(Sl,Sp)”, Etc.. You then stop once you reached 10 sentences included in the summarizer. Suggest a script that includes this process.. and illustrate its functioning in the example you chosen in 1)."
   ]
  },
  {
   "cell_type": "markdown",
   "metadata": {},
   "source": [
    "## TASK 6\n",
    "\n",
    "We would like to make the choice of keywords not based on histogram frequency but using the open source RAKE https://www.airpair.com/nlp/keyword-extraction-tutorial. Repeat the previous process of selecting the sentences that are associated to the ten first keywords generated by RAKE. Comment on the quality of this summarizer based on your observation"
   ]
  },
  {
   "cell_type": "code",
   "execution_count": null,
   "metadata": {},
   "outputs": [],
   "source": [
    "#Repossa ollut asennus tiedosto ei kyennyt asentumaan windows ympäristössä ilman korjausta\n",
    "git clone https://github.com/zelandiya/RAKE-tutorial\n",
    "cd RAKE-tutorial\n",
    "\n",
    "#Ennen asennusta mene setup.py tiedostoon ja poista slash (/) poluista: \n",
    "#package_dir={'nlp_rake': './'} ja \n",
    "#package_data={'nlp_rake': ['data/']}\n",
    "\n",
    "#muutin \"nlp-rake\" nimen pelkäksi \"rake\" asennus tiedostossa.\n",
    "\n",
    "#kuva setup_korjaus löytyy githubista, jonka jälkeen paketin asennus toimii\n",
    "python setup.py install \n",
    "\n"
   ]
  },
  {
   "cell_type": "code",
   "execution_count": null,
   "metadata": {},
   "outputs": [],
   "source": [
    "#Asensin moduulin eri paikkaan kuin missä jupyter serveri polku, korjasin tällä polun\n",
    "#import sys \n",
    "#sys.path.append(\"C:/NLP/RAKE-tutorial\")"
   ]
  },
  {
   "cell_type": "code",
   "execution_count": null,
   "metadata": {},
   "outputs": [],
   "source": [
    "import rake \n",
    "import operator"
   ]
  },
  {
   "cell_type": "code",
   "execution_count": null,
   "metadata": {},
   "outputs": [],
   "source": [
    "#Korjaa polku, tiedosto löytyy githubista\n",
    "rake_object = rake.Rake(\"C:/NLP/RAKE-tutorial/data/stoplists/SmartStoplist.txt\", 5, 3, 4) "
   ]
  },
  {
   "cell_type": "code",
   "execution_count": null,
   "metadata": {},
   "outputs": [],
   "source": [
    "sample_file = open(\"C:/NLP/RAKE-tutorial/data/docs/fao_test/w2167e.txt\", 'r') #aseta teksti minkä haluat käsitellä\n",
    "text = sample_file.read()\n",
    "sentenceList = rake.split_sentences(text)\n",
    "print(sentenceList[0:1])\n"
   ]
  },
  {
   "cell_type": "code",
   "execution_count": null,
   "metadata": {},
   "outputs": [],
   "source": [
    "keywords = rake_object.run(text)\n",
    "#print(\"Keywords:\", keywords[0:10]) #10 ensimmäistä\n",
    "keywords_topten = []\n",
    "\n",
    "for i in range(10):\n",
    "    keywords_topten.append(keywords[i][0])\n",
    "    \n",
    "print(keywords_topten)"
   ]
  },
  {
   "cell_type": "code",
   "execution_count": null,
   "metadata": {},
   "outputs": [],
   "source": [
    "#extract sentences using keywords\n",
    "dct = {}\n",
    "for sentence in sentenceList:\n",
    "    dct[sentence] = sum(1 for word in keywords_topten if word in sentence)\n",
    "\n",
    "rake_sentences = [key for key,value in dct.items() if value == max(dct.values())]\n",
    "\n",
    "\n",
    "print(\"\\n\".join(rake_sentences))"
   ]
  },
  {
   "cell_type": "code",
   "execution_count": null,
   "metadata": {},
   "outputs": [],
   "source": [
    "#Comparing results\n",
    "print(\"Sentences in original text: {}, summarized amount: {}\".format(len(sentenceList),len(rake_sentences)))"
   ]
  },
  {
   "cell_type": "code",
   "execution_count": null,
   "metadata": {},
   "outputs": [],
   "source": [
    "Comment on results:"
   ]
  },
  {
   "cell_type": "markdown",
   "metadata": {},
   "source": [
    "## TASK 7\n",
    "\n",
    "It is also suggested to explore alternative implementations with larger number of summarization approaches implemented- https://github.com/miso-belica/sumy. Show how each of the implemented summarizer behaves when inputted with the same document you used in previous case."
   ]
  },
  {
   "cell_type": "code",
   "execution_count": null,
   "metadata": {},
   "outputs": [],
   "source": [
    "#https://github.com/miso-belica/sumy\n",
    "pip install sumy"
   ]
  },
  {
   "cell_type": "code",
   "execution_count": null,
   "metadata": {},
   "outputs": [],
   "source": [
    "from sumy.parsers.html import HtmlParser\n",
    "from sumy.parsers.plaintext import PlaintextParser\n",
    "from sumy.nlp.tokenizers import Tokenizer\n",
    "from sumy.summarizers.lsa import LsaSummarizer as Summarizer\n",
    "from sumy.nlp.stemmers import Stemmer\n",
    "from sumy.utils import get_stop_words\n",
    "\n",
    "LANGUAGE = \"english\"\n",
    "SENTENCES_COUNT = 10"
   ]
  },
  {
   "cell_type": "code",
   "execution_count": null,
   "metadata": {},
   "outputs": [],
   "source": [
    "url = \"https://en.wikipedia.org/wiki/Automatic_summarization\"\n",
    "parser = HtmlParser.from_url(url, Tokenizer(LANGUAGE))\n",
    "# or for plain text files\n",
    "# parser = PlaintextParser.from_file(\"C:/NLP/RAKE-tutorial/data/docs/fao_test/w2167e.txt\", Tokenizer(LANGUAGE))\n",
    "# parser = PlaintextParser.from_string(\"Check this out.\", Tokenizer(LANGUAGE))\n",
    "stemmer = Stemmer(LANGUAGE)\n",
    "\n",
    "summarizer = Summarizer(stemmer)\n",
    "summarizer.stop_words = get_stop_words(LANGUAGE)\n",
    "\n",
    "for sentence in summarizer(parser.document, SENTENCES_COUNT):\n",
    "    print(sentence)"
   ]
  },
  {
   "cell_type": "markdown",
   "metadata": {},
   "source": [
    "## TASK 8\n",
    "\n",
    "Now we would like to compare the above summarizers and those in 3), 5) and 7) on a new dataset constructed as follows. First select an Elsevier journal of your own and select 10 papers highly ranked in the journal according to citation index (The journal papers should be well structured to contain Abstract, Introduction and Conclusion). \n",
    "\n",
    "For each of the ten papers, consider the introduction as the main document to seek to apply summarizer, and consider the Abstract and Conclusion as two golden summary of the document that you can use for assessment using ROUGE-1 and ROUGE-2 evaluation. \n",
    "\n",
    "Report in a table the evaluation score of each summarizer. "
   ]
  },
  {
   "cell_type": "code",
   "execution_count": null,
   "metadata": {},
   "outputs": [],
   "source": [
    "#Rouge 1 & 2 pisteytyts koodi\n"
   ]
  },
  {
   "cell_type": "markdown",
   "metadata": {},
   "source": [
    "## TASK 9\n",
    "\n",
    "Design a simple GUI that allows the user to input a text or a link to a document to be summarized and output the summarizer according to 3), algorithms implemented in 7)"
   ]
  },
  {
   "cell_type": "code",
   "execution_count": null,
   "metadata": {},
   "outputs": [],
   "source": []
  }
 ],
 "metadata": {
  "kernelspec": {
   "display_name": "Python 3",
   "language": "python",
   "name": "python3"
  },
  "language_info": {
   "codemirror_mode": {
    "name": "ipython",
    "version": 3
   },
   "file_extension": ".py",
   "mimetype": "text/x-python",
   "name": "python",
   "nbconvert_exporter": "python",
   "pygments_lexer": "ipython3",
   "version": "3.7.6"
  }
 },
 "nbformat": 4,
 "nbformat_minor": 4
}
